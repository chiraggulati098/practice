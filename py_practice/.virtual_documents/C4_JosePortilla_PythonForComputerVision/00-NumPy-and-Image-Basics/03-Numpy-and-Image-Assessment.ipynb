





import numpy as np





np.ones(shape=(5,5))*10








# This line sets a "seed" so you get the same random numbers we do
np.random.seed(101)
# This line creates an array of random numbers
arr = np.random.randint(low=0,high=100,size=(5,5))





arr.max()


arr.min()





from PIL import Image


import matplotlib.pyplot as plt


pic = Image.open('../DATA/00-puppy.jpg')


pic


plt.imshow(pic)





pic_arr = np.asarray(pic)


pic_arr.shape





pic_blue = pic_arr.copy()


pic_blue[:,:,0:2] = 0


plt.imshow(pic_blue)






