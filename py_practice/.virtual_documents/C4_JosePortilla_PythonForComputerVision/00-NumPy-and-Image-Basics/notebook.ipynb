import numpy as np


mylist = [1,2,3]
type(mylist)


myarray = np.array(mylist)
type(myarray)


np.arange(0,10,2)


np.zeros(shape=(5,10))


np.ones(shape=(2,6))


np.random.seed(101)
arr = np.random.randint(0,100,10)
print(arr)


arr2 = np.random.randint(0,100,10)
print(arr2)


arr.max()


arr.argmax()


arr.min()


arr.mean()


arr.shape


arr.reshape((2,5))


mat = np.arange(0,100).reshape(10,10)


mat


mat[5][6]


mat[:,1]


mat[:,1].reshape(10,1)


mat[2,:]


mat[0:4,0:4]


mat2 = mat.copy()


mat2[0:6,0:7] = 999


mat2





import matplotlib.pyplot as plt
%matplotlib inline


from PIL import Image


pic = Image.open('../DATA/00-puppy.jpg')


pic


type(pic)


pic_arr = np.asarray(pic)


pic_arr.shape


plt.imshow(pic_arr)


pic_red = pic_arr.copy()


# RED CHANNEL
plt.imshow(pic_red[:,:,0],cmap='gray')


# GREEN CHANNEL
plt.imshow(pic_red[:,:,1],cmap='gray')


# BLUE CHANNEL
plt.imshow(pic_red[:,:,2],cmap='gray')


pic_red[:,:,1] = 0
plt.imshow(pic_red)


pic_red[:,:,2] = 0
plt.imshow(pic_red)



