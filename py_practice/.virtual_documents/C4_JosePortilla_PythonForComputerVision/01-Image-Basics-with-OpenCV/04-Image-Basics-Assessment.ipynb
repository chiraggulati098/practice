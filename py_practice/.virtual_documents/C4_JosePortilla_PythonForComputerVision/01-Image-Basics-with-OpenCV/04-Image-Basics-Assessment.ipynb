








import numpy as np
import cv2
import matplotlib.pyplot as plt


img = cv2.imread('../DATA/dog_backpack.jpg')


plt.imshow(img)


img = cv2.cvtColor(img,cv2.COLOR_BGR2RGB)


plt.imshow(img)





new_img = cv2.flip(img,-1)
plt.imshow(new_img)





plt.imshow(img)


new_img = img.copy()
cv2.rectangle(new_img,(200,370),(610,730),color=(255,0,0),thickness=5)
plt.imshow(new_img)








vertices = np.array([[400,400],[200,700],[600,700]])


vertices.shape


pts = vertices.reshape((-1,1,2))


pts.shape


new_img = img.copy()
cv2.polylines(new_img,[pts],isClosed=True,color=(0,0,255),thickness=10)
plt.imshow(new_img)








new_img = img.copy()
cv2.fillPoly(new_img,[pts],color=(0,0,255))
plt.imshow(new_img)








import numpy as np
import cv2

img = cv2.imread('../DATA/dog_backpack.jpg')
img = cv2.resize(img,(0,0),img,0.65,0.65)

def draw_circle(event,x,y,flag,params):

    if event == cv2.EVENT_LBUTTONDOWN:
        cv2.circle(img,(x,y),radius=35,color=(0,0,255),thickness=5)

cv2.namedWindow(winname='my_drawing')
cv2.setMouseCallback('my_drawing',draw_circle)

while True:
    cv2.imshow('my_drawing',img)
    if cv2.waitKey(1) & 0xFF == 27:
        break

cv2.destroyAllWindows()



