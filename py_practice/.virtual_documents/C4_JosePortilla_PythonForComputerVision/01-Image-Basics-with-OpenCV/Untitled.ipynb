import numpy as np
import matplotlib.pyplot as plt
import cv2


img = cv2.imread('../DATA/00-puppy.jpg')


type(img)


img.shape


plt.imshow(img)


# MATPLOTLIB ---> RGB
# OPENCV ---> BGR


fix_img = cv2.cvtColor(img,cv2.COLOR_BGR2RGB)


plt.imshow(fix_img)


img_gray = cv2.imread('../DATA/00-puppy.jpg',cv2.IMREAD_GRAYSCALE)


img_gray.shape


plt.imshow(img_gray,cmap='gray')


plt.imshow(fix_img)


fix_img.shape


new_img = cv2.resize(fix_img,(1000,400))


plt.imshow(new_img)


new_img = cv2.resize(fix_img,(0,0),fix_img,0.5,0.5)
# Last 2 arguments are width and height ratio


plt.imshow(new_img)


new_img.shape


new_img = cv2.flip(fix_img,0)
plt.imshow(new_img)


new_img = cv2.flip(fix_img,-1)
plt.imshow(new_img)


type(fix_img)


cv2.imwrite('../DATA/totally_new.jpg',fix_img)


fig = plt.figure(figsize=(10,8))
ax = fig.add_subplot(111)
ax.imshow(fix_img)











import cv2

img = cv2.imread('../DATA/00-puppy.jpg')
cv2.imshow('Puppy',img)
cv2.waitKey()











blank_img = np.zeros(shape=(512,512,3),dtype=np.int16)


plt.imshow(blank_img)


cv2.rectangle(blank_img,pt1=(384,10),pt2=(500,150),color=(0,255,0),thickness=10)


plt.imshow(blank_img)


cv2.rectangle(blank_img,pt1=(200,200),pt2=(300,300),color=(0,0,255),thickness=10)


plt.imshow(blank_img)


cv2.circle(img=blank_img,center=(100,100),radius=50,color=(255,0,0),thickness=8)
plt.imshow(blank_img)


# Filled Shapes - thickness = -1
cv2.circle(img=blank_img,center=(400,400),radius=25,color=(255,0,0),thickness=-1)
plt.imshow(blank_img)


cv2.line(blank_img,pt1=(0,0),pt2=(512,512),color=(102,255,255),thickness=5)
plt.imshow(blank_img)











font = cv2.FONT_HERSHEY_SIMPLEX
cv2.putText(blank_img,text='Hello',org=(10,500),fontFace=font,fontScale=4,color=(255,255,255),
            thickness=3,lineType=cv2.LINE_AA)
plt.imshow(blank_img)


blank_img = np.zeros(shape=(512,512,3),dtype=np.int32)


plt.imshow(blank_img)


vertices = np.array([ [100,300],[200,200],[400,300],[200,400] ],dtype=np.int32)


vertices


vertices.shape


pts = vertices.reshape((-1,1,2))


pts.shape


pts


cv2.polylines(blank_img,[pts],isClosed=True,color=(255,0,0),thickness=5)
plt.imshow(blank_img)











import cv2
import numpy as np

# FUNCTIONS

def draw_circle(event,x,y,flags,param):
    if event == cv2.EVENT_LBUTTONDOWN:
        cv2.circle(img,(x,y),50,(0,255,0),-1)
    elif event == cv2.EVENT_RBUTTONDOWN:
        cv2.circle(img,(x,y),50,(255,0,0),-1)

cv2.namedWindow(winname='my_drawing')
cv2.setMouseCallback('my_drawing',draw_circle)

# SHOWING IMAGE

img = np.zeros((512,512,3))

while True:
    cv2.imshow('my_drawing',img)
    if cv2.waitKey(20) & 0xFF == 27:
        break

cv2.destroyAllWindows()











import cv2
import numpy as np

# VARIABLES
drawing = False
ix,iy=-1,-1

# FUNCTION
def draw_rectangle(event,x,y,flags,params):
    
    global ix,iy,drawing
    
    if event == cv2.EVENT_LBUTTONDOWN:
        drawing = True
        ix,iy = x,y
    
    elif event == cv2.EVENT_MOUSEMOVE:
        if drawing == True:
            cv2.rectangle(img,(ix,iy),(x,y),(0,255,0),-1)

    elif event == cv2.EVENT_LBUTTONUP:
        drawing = False
        cv2.rectangle(img,(ix,iy),(x,y),(0,255,0),-1)

# SHOWING IMAGE
img = np.zeros((512,512,3))
cv2.namedWindow(winname='my_drawing')
cv2.setMouseCallback('my_drawing',draw_rectangle)

while True:
    cv2.imshow('my_drawing',img)
    if cv2.waitKey(1) & 0xFF == 27:
        break

cv2.destroyAllWindows()



