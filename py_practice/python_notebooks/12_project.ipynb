{
 "cells": [
  {
   "cell_type": "code",
   "execution_count": 11,
   "id": "8f54b524",
   "metadata": {},
   "outputs": [],
   "source": [
    "game_list = [0,1,2]"
   ]
  },
  {
   "cell_type": "code",
   "execution_count": 23,
   "id": "e084289d",
   "metadata": {},
   "outputs": [],
   "source": [
    "def display_game(game_list):\n",
    "    print(\"Here is the current list: \")\n",
    "    print(game_list)\n",
    "    \n",
    "def position_choice():\n",
    "    choice = 'WRONG'\n",
    "    acceptable_values = ['0','1','2']\n",
    "    while choice not in acceptable_values:\n",
    "        choice = input(\"Pick a position (0,1,2): \")\n",
    "        if choice not in acceptable_values:\n",
    "            print(\"Sorry, invalid choice!\")\n",
    "    return int(choice)\n",
    "\n",
    "def replacement_choice(game_list,position):\n",
    "    user_placement = input(\"Type a string to place at position: \")\n",
    "    game_list[position] = user_placement\n",
    "    return game_list\n",
    "\n",
    "def game_on_choice():\n",
    "    choice = 'WRONG'\n",
    "    acceptable_values = ['Y','N','y','n']\n",
    "    while choice not in acceptable_values:\n",
    "        choice = input(\"Do you want to keep playing? (Y or N): \")\n",
    "        if choice not in acceptable_values:\n",
    "            print(\"Sorry, I don't understand, please choose Y or N\")\n",
    "    \n",
    "    if choice == 'Y' or choice == 'y':\n",
    "        return True\n",
    "    else:\n",
    "        return False"
   ]
  },
  {
   "cell_type": "code",
   "execution_count": 24,
   "id": "18dab689",
   "metadata": {},
   "outputs": [
    {
     "name": "stdout",
     "output_type": "stream",
     "text": [
      "Here is the current list: \n",
      "[0, 1, 2]\n",
      "Pick a position (0,1,2): 1\n",
      "Type a string to place at position: ergrg\n",
      "Here is the current list: \n",
      "[0, 'ergrg', 2]\n",
      "Do you want to keep playing? (Y or N): y\n",
      "Here is the current list: \n",
      "[0, 'ergrg', 2]\n",
      "Pick a position (0,1,2): 2\n",
      "Type a string to place at position: ergwrhetn\n",
      "Here is the current list: \n",
      "[0, 'ergrg', 'ergwrhetn']\n",
      "Do you want to keep playing? (Y or N): n\n"
     ]
    }
   ],
   "source": [
    "game_on = True\n",
    "game_list = [0,1,2]\n",
    "\n",
    "while game_on:\n",
    "    \n",
    "    display_game(game_list)\n",
    "    position = position_choice()\n",
    "    game_list = replacement_choice(game_list,position)\n",
    "    display_game(game_list)\n",
    "    game_on = game_on_choice()"
   ]
  },
  {
   "cell_type": "code",
   "execution_count": null,
   "id": "c3a0fbf5",
   "metadata": {},
   "outputs": [],
   "source": []
  }
 ],
 "metadata": {
  "kernelspec": {
   "display_name": "Python 3 (ipykernel)",
   "language": "python",
   "name": "python3"
  },
  "language_info": {
   "codemirror_mode": {
    "name": "ipython",
    "version": 3
   },
   "file_extension": ".py",
   "mimetype": "text/x-python",
   "name": "python",
   "nbconvert_exporter": "python",
   "pygments_lexer": "ipython3",
   "version": "3.9.13"
  }
 },
 "nbformat": 4,
 "nbformat_minor": 5
}
