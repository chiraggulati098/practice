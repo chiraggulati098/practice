{
 "cells": [
  {
   "cell_type": "code",
   "execution_count": 67,
   "id": "0a4e8af4",
   "metadata": {},
   "outputs": [],
   "source": [
    "import csv"
   ]
  },
  {
   "cell_type": "code",
   "execution_count": 8,
   "id": "875e6eb9",
   "metadata": {},
   "outputs": [],
   "source": [
    "data = open('example.csv',encoding='utf-8')"
   ]
  },
  {
   "cell_type": "code",
   "execution_count": 9,
   "id": "0f1ddd62",
   "metadata": {},
   "outputs": [],
   "source": [
    "csv_data = csv.reader(data)"
   ]
  },
  {
   "cell_type": "code",
   "execution_count": 10,
   "id": "f1c3d56c",
   "metadata": {},
   "outputs": [],
   "source": [
    "data_lines = list(csv_data)"
   ]
  },
  {
   "cell_type": "code",
   "execution_count": 12,
   "id": "2980194a",
   "metadata": {},
   "outputs": [
    {
     "data": {
      "text/plain": [
       "['id', 'first_name', 'last_name', 'email', 'gender', 'ip_address', 'city']"
      ]
     },
     "execution_count": 12,
     "metadata": {},
     "output_type": "execute_result"
    }
   ],
   "source": [
    "data_lines[0]"
   ]
  },
  {
   "cell_type": "code",
   "execution_count": 13,
   "id": "328f74de",
   "metadata": {},
   "outputs": [
    {
     "data": {
      "text/plain": [
       "1001"
      ]
     },
     "execution_count": 13,
     "metadata": {},
     "output_type": "execute_result"
    }
   ],
   "source": [
    "len(data_lines)"
   ]
  },
  {
   "cell_type": "code",
   "execution_count": 14,
   "id": "6b519b5e",
   "metadata": {},
   "outputs": [
    {
     "name": "stdout",
     "output_type": "stream",
     "text": [
      "['id', 'first_name', 'last_name', 'email', 'gender', 'ip_address', 'city']\n",
      "['1', 'Joseph', 'Zaniolini', 'jzaniolini0@simplemachines.org', 'Male', '163.168.68.132', 'Pedro Leopoldo']\n",
      "['2', 'Freida', 'Drillingcourt', 'fdrillingcourt1@umich.edu', 'Female', '97.212.102.79', 'Buri']\n",
      "['3', 'Nanni', 'Herity', 'nherity2@statcounter.com', 'Female', '145.151.178.98', 'Claver']\n",
      "['4', 'Orazio', 'Frayling', 'ofrayling3@economist.com', 'Male', '25.199.143.143', 'Kungur']\n"
     ]
    }
   ],
   "source": [
    "for line in data_lines[:5]:\n",
    "    print(line)"
   ]
  },
  {
   "cell_type": "code",
   "execution_count": 20,
   "id": "17d6075b",
   "metadata": {},
   "outputs": [
    {
     "name": "stdout",
     "output_type": "stream",
     "text": [
      "['jzaniolini0@simplemachines.org', 'fdrillingcourt1@umich.edu', 'nherity2@statcounter.com', 'ofrayling3@economist.com', 'jmurrison4@cbslocal.com', 'lgamet5@list-manage.com', 'dhowatt6@amazon.com', 'kherion7@amazon.com', 'chedworth8@china.com.cn', 'hgasquoine9@google.ru', 'ftarra@shareasale.com', 'abathb@umn.edu', 'lchastangc@goo.gl', 'cceried@yale.edu']\n"
     ]
    }
   ],
   "source": [
    "all_emails = []\n",
    "\n",
    "for line in data_lines[1:15]:\n",
    "    all_emails.append(line[3])\n",
    "\n",
    "print(all_emails)"
   ]
  },
  {
   "cell_type": "code",
   "execution_count": 26,
   "id": "a6d2f945",
   "metadata": {},
   "outputs": [
    {
     "name": "stdout",
     "output_type": "stream",
     "text": [
      "['Joseph Zaniolini', 'Freida Drillingcourt', 'Nanni Herity', 'Orazio Frayling', 'Julianne Murrison', 'Lucy Gamet', 'Dyana Howatt', 'Kassey Herion', 'Chrissy Hedworth', 'Hyatt Gasquoine', 'Felicdad Tarr', 'Andrew Bath', 'Lucais Chastang', 'Car Cerie']\n"
     ]
    }
   ],
   "source": [
    "full_names = []\n",
    "\n",
    "for line in data_lines[1:15]:\n",
    "    full_names.append(line[1]+\" \"+line[2])\n",
    "\n",
    "print(full_names)"
   ]
  },
  {
   "cell_type": "code",
   "execution_count": 27,
   "id": "ad57c268",
   "metadata": {},
   "outputs": [],
   "source": [
    "file_to_output = open('to_save_file.csv',mode = 'w',newline = '')"
   ]
  },
  {
   "cell_type": "code",
   "execution_count": 28,
   "id": "6a6f9c6a",
   "metadata": {},
   "outputs": [],
   "source": [
    "csv_writer = csv.writer(file_to_output,delimiter=',')"
   ]
  },
  {
   "cell_type": "code",
   "execution_count": 29,
   "id": "38b4524e",
   "metadata": {},
   "outputs": [
    {
     "data": {
      "text/plain": [
       "7"
      ]
     },
     "execution_count": 29,
     "metadata": {},
     "output_type": "execute_result"
    }
   ],
   "source": [
    "csv_writer.writerow(['a','b','c'])"
   ]
  },
  {
   "cell_type": "code",
   "execution_count": 30,
   "id": "8e3f26fe",
   "metadata": {},
   "outputs": [],
   "source": [
    "csv_writer.writerows([['1','2','3'],['4','5','6']])"
   ]
  },
  {
   "cell_type": "code",
   "execution_count": 31,
   "id": "49ef0188",
   "metadata": {},
   "outputs": [],
   "source": [
    "file_to_output.close()"
   ]
  },
  {
   "cell_type": "code",
   "execution_count": 32,
   "id": "6154e710",
   "metadata": {},
   "outputs": [],
   "source": [
    "data.close()"
   ]
  },
  {
   "cell_type": "code",
   "execution_count": null,
   "id": "520861e3",
   "metadata": {},
   "outputs": [],
   "source": []
  },
  {
   "cell_type": "code",
   "execution_count": 33,
   "id": "d2a63cbc",
   "metadata": {},
   "outputs": [],
   "source": [
    "import PyPDF2"
   ]
  },
  {
   "cell_type": "code",
   "execution_count": 36,
   "id": "00668271",
   "metadata": {},
   "outputs": [],
   "source": [
    "f = open('Working_Business_Proposal.pdf','rb')"
   ]
  },
  {
   "cell_type": "code",
   "execution_count": 38,
   "id": "f0611691",
   "metadata": {},
   "outputs": [],
   "source": [
    "pdf_reader = PyPDF2.PdfReader(f)"
   ]
  },
  {
   "cell_type": "code",
   "execution_count": 40,
   "id": "5326d0fb",
   "metadata": {},
   "outputs": [
    {
     "data": {
      "text/plain": [
       "5"
      ]
     },
     "execution_count": 40,
     "metadata": {},
     "output_type": "execute_result"
    }
   ],
   "source": [
    "len(pdf_reader.pages)"
   ]
  },
  {
   "cell_type": "code",
   "execution_count": 42,
   "id": "308724af",
   "metadata": {},
   "outputs": [],
   "source": [
    "page_one = pdf_reader.pages[0]"
   ]
  },
  {
   "cell_type": "code",
   "execution_count": 46,
   "id": "340f7598",
   "metadata": {},
   "outputs": [],
   "source": [
    "page_one_text = page_one.extract_text()"
   ]
  },
  {
   "cell_type": "code",
   "execution_count": 47,
   "id": "e307aa1b",
   "metadata": {},
   "outputs": [
    {
     "data": {
      "text/plain": [
       "'Business Proposal The Revolution is Coming Leverage agile frameworks to provide a robust synopsis for high level overviews. Iterative approaches to corporate strategy foster collaborative thinking to further the overall value proposition. Organically grow the holistic world view of disruptive innovation via workplace diversity and empowerment. Bring to the table win-win survival strategies to ensure proactive domination. At the end of the day, going forward, a new normal that has evolved from generation X is on the runway heading towards a streamlined cloud solution. User generated content in real-time will have multiple touchpoints for offshoring. Capitalize on low hanging fruit to identify a ballpark value added activity to beta test. Override the digital divide with additional clickthroughs from DevOps. Nanotechnology immersion along the information highway will close the loop on focusing solely on the bottom line. Podcasting operational change management inside of workﬂows to establish a framework. Taking seamless key performance indicators ofﬂine to maximise the long tail. Keeping your eye on the ball while performing a deep dive on the start-up mentality to derive convergence on cross-platform integration. Collaboratively administrate empowered markets via plug-and-play networks. Dynamically procrastinate B2C users after installed base beneﬁts. Dramatically visualize customer directed convergence without revolutionary ROI. Efﬁciently unleash cross-media information without cross-media value. Quickly maximize timely deliverables for real-time schemas. Dramatically maintain clicks-and-mortar solutions without functional solutions. BUSINESS PROPOSAL!1'"
      ]
     },
     "execution_count": 47,
     "metadata": {},
     "output_type": "execute_result"
    }
   ],
   "source": [
    "page_one_text"
   ]
  },
  {
   "cell_type": "code",
   "execution_count": 48,
   "id": "c5aaaddd",
   "metadata": {},
   "outputs": [],
   "source": [
    "f.close()"
   ]
  },
  {
   "cell_type": "code",
   "execution_count": 53,
   "id": "bc4daf92",
   "metadata": {},
   "outputs": [],
   "source": [
    "f = open('Working_Business_Proposal.pdf','rb')\n",
    "pdf_reader = PyPDF2.PdfReader(f)\n",
    "first_page = pdf_reader.pages[0]"
   ]
  },
  {
   "cell_type": "code",
   "execution_count": 54,
   "id": "6e7b3139",
   "metadata": {},
   "outputs": [],
   "source": [
    "pdf_writer = PyPDF2.PdfWriter()"
   ]
  },
  {
   "cell_type": "code",
   "execution_count": 55,
   "id": "d447a194",
   "metadata": {},
   "outputs": [
    {
     "data": {
      "text/plain": [
       "PyPDF2._page.PageObject"
      ]
     },
     "execution_count": 55,
     "metadata": {},
     "output_type": "execute_result"
    }
   ],
   "source": [
    "type(first_page)"
   ]
  },
  {
   "cell_type": "code",
   "execution_count": 58,
   "id": "652cd7a2",
   "metadata": {},
   "outputs": [
    {
     "data": {
      "text/plain": [
       "{'/Type': '/Page',\n",
       " '/Resources': {'/ProcSet': ['/PDF', '/Text'],\n",
       "  '/ColorSpace': {'/Cs1': ['/ICCBased', IndirectObject(7, 0, 1446111859888)]},\n",
       "  '/Font': {'/TT2': {'/Type': '/Font',\n",
       "    '/Subtype': '/TrueType',\n",
       "    '/BaseFont': '/URTVHR+Helvetica-Light',\n",
       "    '/FontDescriptor': {'/Type': '/FontDescriptor',\n",
       "     '/FontName': '/URTVHR+Helvetica-Light',\n",
       "     '/Flags': 32,\n",
       "     '/FontBBox': [-453, -355, 1345, 1206],\n",
       "     '/ItalicAngle': 0,\n",
       "     '/Ascent': 770,\n",
       "     '/Descent': -230,\n",
       "     '/CapHeight': 718,\n",
       "     '/StemV': 68,\n",
       "     '/XHeight': 524,\n",
       "     '/StemH': 58,\n",
       "     '/AvgWidth': 600,\n",
       "     '/MaxWidth': 1445,\n",
       "     '/FontFile2': {'/Length1': 13268, '/Filter': '/FlateDecode'}},\n",
       "    '/Encoding': '/MacRomanEncoding',\n",
       "    '/FirstChar': 32,\n",
       "    '/LastChar': 223,\n",
       "    '/Widths': [278,\n",
       "     0,\n",
       "     278,\n",
       "     0,\n",
       "     0,\n",
       "     0,\n",
       "     0,\n",
       "     0,\n",
       "     0,\n",
       "     0,\n",
       "     0,\n",
       "     0,\n",
       "     278,\n",
       "     333,\n",
       "     278,\n",
       "     278,\n",
       "     556,\n",
       "     0,\n",
       "     556,\n",
       "     0,\n",
       "     556,\n",
       "     0,\n",
       "     0,\n",
       "     556,\n",
       "     0,\n",
       "     0,\n",
       "     0,\n",
       "     0,\n",
       "     0,\n",
       "     0,\n",
       "     0,\n",
       "     0,\n",
       "     0,\n",
       "     667,\n",
       "     667,\n",
       "     722,\n",
       "     722,\n",
       "     611,\n",
       "     0,\n",
       "     778,\n",
       "     722,\n",
       "     278,\n",
       "     0,\n",
       "     667,\n",
       "     556,\n",
       "     0,\n",
       "     722,\n",
       "     778,\n",
       "     611,\n",
       "     778,\n",
       "     667,\n",
       "     611,\n",
       "     556,\n",
       "     722,\n",
       "     0,\n",
       "     0,\n",
       "     611,\n",
       "     0,\n",
       "     0,\n",
       "     0,\n",
       "     0,\n",
       "     0,\n",
       "     0,\n",
       "     0,\n",
       "     0,\n",
       "     556,\n",
       "     611,\n",
       "     556,\n",
       "     611,\n",
       "     556,\n",
       "     278,\n",
       "     611,\n",
       "     556,\n",
       "     222,\n",
       "     222,\n",
       "     500,\n",
       "     222,\n",
       "     833,\n",
       "     556,\n",
       "     556,\n",
       "     611,\n",
       "     611,\n",
       "     333,\n",
       "     500,\n",
       "     278,\n",
       "     556,\n",
       "     500,\n",
       "     722,\n",
       "     500,\n",
       "     500,\n",
       "     500,\n",
       "     0,\n",
       "     0,\n",
       "     0,\n",
       "     0,\n",
       "     0,\n",
       "     0,\n",
       "     0,\n",
       "     0,\n",
       "     0,\n",
       "     0,\n",
       "     0,\n",
       "     0,\n",
       "     0,\n",
       "     0,\n",
       "     0,\n",
       "     0,\n",
       "     0,\n",
       "     0,\n",
       "     0,\n",
       "     0,\n",
       "     0,\n",
       "     0,\n",
       "     0,\n",
       "     0,\n",
       "     0,\n",
       "     0,\n",
       "     0,\n",
       "     0,\n",
       "     0,\n",
       "     0,\n",
       "     0,\n",
       "     0,\n",
       "     0,\n",
       "     0,\n",
       "     0,\n",
       "     0,\n",
       "     0,\n",
       "     0,\n",
       "     0,\n",
       "     0,\n",
       "     0,\n",
       "     0,\n",
       "     0,\n",
       "     0,\n",
       "     0,\n",
       "     0,\n",
       "     0,\n",
       "     0,\n",
       "     0,\n",
       "     0,\n",
       "     0,\n",
       "     0,\n",
       "     0,\n",
       "     0,\n",
       "     0,\n",
       "     0,\n",
       "     0,\n",
       "     0,\n",
       "     0,\n",
       "     0,\n",
       "     0,\n",
       "     0,\n",
       "     0,\n",
       "     0,\n",
       "     0,\n",
       "     0,\n",
       "     0,\n",
       "     0,\n",
       "     0,\n",
       "     0,\n",
       "     0,\n",
       "     0,\n",
       "     0,\n",
       "     0,\n",
       "     0,\n",
       "     0,\n",
       "     0,\n",
       "     0,\n",
       "     0,\n",
       "     0,\n",
       "     0,\n",
       "     0,\n",
       "     0,\n",
       "     0,\n",
       "     0,\n",
       "     0,\n",
       "     0,\n",
       "     0,\n",
       "     0,\n",
       "     0,\n",
       "     0,\n",
       "     0,\n",
       "     0,\n",
       "     0,\n",
       "     0,\n",
       "     0,\n",
       "     0,\n",
       "     0,\n",
       "     0,\n",
       "     500,\n",
       "     500]},\n",
       "   '/TT1': {'/Type': '/Font',\n",
       "    '/Subtype': '/TrueType',\n",
       "    '/BaseFont': '/SLRTDM+Baskerville',\n",
       "    '/FontDescriptor': {'/Type': '/FontDescriptor',\n",
       "     '/FontName': '/SLRTDM+Baskerville',\n",
       "     '/Flags': 32,\n",
       "     '/FontBBox': [-506, -344, 1765, 961],\n",
       "     '/ItalicAngle': 0,\n",
       "     '/Ascent': 898,\n",
       "     '/Descent': -246,\n",
       "     '/CapHeight': 669,\n",
       "     '/StemV': 96,\n",
       "     '/XHeight': 400,\n",
       "     '/StemH': 22,\n",
       "     '/AvgWidth': 579,\n",
       "     '/MaxWidth': 1791,\n",
       "     '/FontFile2': {'/Length1': 5016, '/Filter': '/FlateDecode'}},\n",
       "    '/Encoding': '/MacRomanEncoding',\n",
       "    '/FirstChar': 32,\n",
       "    '/LastChar': 118,\n",
       "    '/Widths': [250,\n",
       "     0,\n",
       "     0,\n",
       "     0,\n",
       "     0,\n",
       "     0,\n",
       "     0,\n",
       "     0,\n",
       "     0,\n",
       "     0,\n",
       "     0,\n",
       "     0,\n",
       "     0,\n",
       "     0,\n",
       "     0,\n",
       "     0,\n",
       "     0,\n",
       "     500,\n",
       "     500,\n",
       "     500,\n",
       "     500,\n",
       "     500,\n",
       "     0,\n",
       "     0,\n",
       "     0,\n",
       "     0,\n",
       "     0,\n",
       "     0,\n",
       "     0,\n",
       "     0,\n",
       "     0,\n",
       "     0,\n",
       "     0,\n",
       "     677,\n",
       "     615,\n",
       "     719,\n",
       "     0,\n",
       "     625,\n",
       "     0,\n",
       "     0,\n",
       "     0,\n",
       "     354,\n",
       "     0,\n",
       "     0,\n",
       "     604,\n",
       "     0,\n",
       "     750,\n",
       "     823,\n",
       "     563,\n",
       "     0,\n",
       "     729,\n",
       "     542,\n",
       "     698,\n",
       "     771,\n",
       "     0,\n",
       "     0,\n",
       "     0,\n",
       "     0,\n",
       "     0,\n",
       "     0,\n",
       "     0,\n",
       "     0,\n",
       "     0,\n",
       "     0,\n",
       "     0,\n",
       "     469,\n",
       "     0,\n",
       "     0,\n",
       "     0,\n",
       "     438,\n",
       "     0,\n",
       "     469,\n",
       "     531,\n",
       "     250,\n",
       "     0,\n",
       "     0,\n",
       "     240,\n",
       "     802,\n",
       "     531,\n",
       "     500,\n",
       "     521,\n",
       "     0,\n",
       "     365,\n",
       "     333,\n",
       "     292,\n",
       "     521,\n",
       "     458]},\n",
       "   '/TT3': {'/Type': '/Font',\n",
       "    '/Subtype': '/TrueType',\n",
       "    '/BaseFont': '/VJMLYK+Baskerville',\n",
       "    '/FontDescriptor': {'/Type': '/FontDescriptor',\n",
       "     '/FontName': '/VJMLYK+Baskerville',\n",
       "     '/Flags': 4,\n",
       "     '/FontBBox': [-506, -344, 1765, 961],\n",
       "     '/ItalicAngle': 0,\n",
       "     '/Ascent': 898,\n",
       "     '/Descent': -246,\n",
       "     '/CapHeight': 669,\n",
       "     '/StemV': 96,\n",
       "     '/XHeight': 400,\n",
       "     '/StemH': 22,\n",
       "     '/AvgWidth': 579,\n",
       "     '/MaxWidth': 1791,\n",
       "     '/FontFile2': {'/Length1': 508, '/Filter': '/FlateDecode'}},\n",
       "    '/ToUnicode': {'/Filter': '/FlateDecode'},\n",
       "    '/FirstChar': 33,\n",
       "    '/LastChar': 33,\n",
       "    '/Widths': [0]}}},\n",
       " '/Contents': {'/Filter': '/FlateDecode'},\n",
       " '/MediaBox': [0, 0, 612, 792],\n",
       " '/Parent': {'/Type': '/Pages',\n",
       "  '/Count': 1,\n",
       "  '/Kids': [IndirectObject(4, 0, 1446111859888)]}}"
      ]
     },
     "execution_count": 58,
     "metadata": {},
     "output_type": "execute_result"
    }
   ],
   "source": [
    "pdf_writer.add_page(first_page)"
   ]
  },
  {
   "cell_type": "code",
   "execution_count": 59,
   "id": "58e421fd",
   "metadata": {},
   "outputs": [],
   "source": [
    "pdf_output = open('Some_BrandNew_Doc.pdf','wb')"
   ]
  },
  {
   "cell_type": "code",
   "execution_count": 61,
   "id": "14ea57ee",
   "metadata": {},
   "outputs": [
    {
     "data": {
      "text/plain": [
       "(False, <_io.BufferedWriter name='Some_BrandNew_Doc.pdf'>)"
      ]
     },
     "execution_count": 61,
     "metadata": {},
     "output_type": "execute_result"
    }
   ],
   "source": [
    "pdf_writer.write(pdf_output)"
   ]
  },
  {
   "cell_type": "code",
   "execution_count": 62,
   "id": "ae2f6741",
   "metadata": {},
   "outputs": [],
   "source": [
    "f.close()"
   ]
  },
  {
   "cell_type": "code",
   "execution_count": 64,
   "id": "f452a456",
   "metadata": {},
   "outputs": [],
   "source": [
    "link_doc = open('find_the_link.csv',encoding='utf-8')"
   ]
  },
  {
   "cell_type": "code",
   "execution_count": 69,
   "id": "6f3cd604",
   "metadata": {},
   "outputs": [],
   "source": [
    "csv_data = csv.reader(link_doc)"
   ]
  },
  {
   "cell_type": "code",
   "execution_count": 70,
   "id": "37e015d7",
   "metadata": {},
   "outputs": [],
   "source": [
    "data_lines = list(csv_data)"
   ]
  },
  {
   "cell_type": "code",
   "execution_count": 71,
   "id": "9980bbd0",
   "metadata": {},
   "outputs": [],
   "source": [
    "link = ''"
   ]
  },
  {
   "cell_type": "code",
   "execution_count": 72,
   "id": "585e0f88",
   "metadata": {},
   "outputs": [
    {
     "data": {
      "text/plain": [
       "66"
      ]
     },
     "execution_count": 72,
     "metadata": {},
     "output_type": "execute_result"
    }
   ],
   "source": [
    "len(data_lines)"
   ]
  },
  {
   "cell_type": "code",
   "execution_count": 76,
   "id": "130694dd",
   "metadata": {},
   "outputs": [
    {
     "name": "stdout",
     "output_type": "stream",
     "text": [
      "https://drive.google.com/open?id=1G6SEgg018UB4_4xsAJJ5TdzrhmXipr4Q\n"
     ]
    }
   ],
   "source": [
    "link = ''\n",
    "for x in range(0,66):\n",
    "    link+=data_lines[x][x]\n",
    "\n",
    "print(link)"
   ]
  },
  {
   "cell_type": "code",
   "execution_count": 77,
   "id": "5046fdf2",
   "metadata": {},
   "outputs": [],
   "source": [
    "link_doc.close()"
   ]
  },
  {
   "cell_type": "code",
   "execution_count": 78,
   "id": "5da4df2a",
   "metadata": {},
   "outputs": [],
   "source": [
    "import PyPDF2"
   ]
  },
  {
   "cell_type": "code",
   "execution_count": 80,
   "id": "f8b5dad6",
   "metadata": {},
   "outputs": [],
   "source": [
    "f = open('Find_the_Phone_Number.pdf','rb')"
   ]
  },
  {
   "cell_type": "code",
   "execution_count": 81,
   "id": "009ad462",
   "metadata": {},
   "outputs": [],
   "source": [
    "pdf = PyPDF2.PdfReader(f)"
   ]
  },
  {
   "cell_type": "code",
   "execution_count": 85,
   "id": "d197bd4b",
   "metadata": {},
   "outputs": [
    {
     "data": {
      "text/plain": [
       "17"
      ]
     },
     "execution_count": 85,
     "metadata": {},
     "output_type": "execute_result"
    }
   ],
   "source": [
    "len(pdf.pages)"
   ]
  },
  {
   "cell_type": "code",
   "execution_count": 86,
   "id": "97fd336e",
   "metadata": {},
   "outputs": [],
   "source": [
    "import re"
   ]
  },
  {
   "cell_type": "code",
   "execution_count": 98,
   "id": "4a7d530e",
   "metadata": {},
   "outputs": [],
   "source": [
    "pattern = r'\\d{3}.\\d{3}.\\d{4}'"
   ]
  },
  {
   "cell_type": "code",
   "execution_count": 92,
   "id": "ff18dfc8",
   "metadata": {},
   "outputs": [],
   "source": [
    "all_text = ''\n",
    "\n",
    "for n in range (len(pdf.pages)):\n",
    "    page = pdf.pages[n]\n",
    "    page_text = page.extract_text()\n",
    "    \n",
    "    all_text = all_text + ' ' + page_text"
   ]
  },
  {
   "cell_type": "code",
   "execution_count": 97,
   "id": "1d524cac",
   "metadata": {},
   "outputs": [
    {
     "name": "stdout",
     "output_type": "stream",
     "text": [
      "<re.Match object; span=(650, 653), match='000'>\n",
      "<re.Match object; span=(18270, 18273), match='000'>\n",
      "<re.Match object; span=(35890, 35893), match='000'>\n",
      "<re.Match object; span=(42919, 42922), match='505'>\n",
      "<re.Match object; span=(42923, 42926), match='503'>\n",
      "<re.Match object; span=(42927, 42930), match='445'>\n"
     ]
    }
   ],
   "source": [
    "for match in re.finditer(pattern,all_text):\n",
    "    print(match)"
   ]
  },
  {
   "cell_type": "code",
   "execution_count": 99,
   "id": "26db54fe",
   "metadata": {},
   "outputs": [
    {
     "data": {
      "text/plain": [
       "<re.Match object; span=(42919, 42931), match='505.503.4455'>"
      ]
     },
     "execution_count": 99,
     "metadata": {},
     "output_type": "execute_result"
    }
   ],
   "source": [
    "re.search(pattern,all_text)"
   ]
  },
  {
   "cell_type": "code",
   "execution_count": null,
   "id": "ed2a9e44",
   "metadata": {},
   "outputs": [],
   "source": []
  }
 ],
 "metadata": {
  "kernelspec": {
   "display_name": "Python 3 (ipykernel)",
   "language": "python",
   "name": "python3"
  },
  "language_info": {
   "codemirror_mode": {
    "name": "ipython",
    "version": 3
   },
   "file_extension": ".py",
   "mimetype": "text/x-python",
   "name": "python",
   "nbconvert_exporter": "python",
   "pygments_lexer": "ipython3",
   "version": "3.10.6"
  }
 },
 "nbformat": 4,
 "nbformat_minor": 5
}
