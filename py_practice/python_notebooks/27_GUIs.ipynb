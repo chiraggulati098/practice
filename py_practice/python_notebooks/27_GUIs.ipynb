{
 "cells": [
  {
   "cell_type": "code",
   "execution_count": 1,
   "id": "c3d1ff70",
   "metadata": {},
   "outputs": [],
   "source": [
    "from ipywidgets import interact,interactive,fixed\n",
    "import ipywidgets as widgets"
   ]
  },
  {
   "cell_type": "code",
   "execution_count": 2,
   "id": "a9aa6a6e",
   "metadata": {},
   "outputs": [],
   "source": [
    "def func(x):\n",
    "    return x"
   ]
  },
  {
   "cell_type": "code",
   "execution_count": 5,
   "id": "946fa938",
   "metadata": {
    "scrolled": true
   },
   "outputs": [
    {
     "data": {
      "application/vnd.jupyter.widget-view+json": {
       "model_id": "56c0bd96802f4de48eb8c53112a176f5",
       "version_major": 2,
       "version_minor": 0
      },
      "text/plain": [
       "interactive(children=(IntSlider(value=10, description='x', max=30, min=-10), Output()), _dom_classes=('widget-…"
      ]
     },
     "metadata": {},
     "output_type": "display_data"
    },
    {
     "data": {
      "text/plain": [
       "<function __main__.func(x)>"
      ]
     },
     "execution_count": 5,
     "metadata": {},
     "output_type": "execute_result"
    }
   ],
   "source": [
    "interact(func,x=10)"
   ]
  },
  {
   "cell_type": "code",
   "execution_count": 3,
   "id": "1806fd46",
   "metadata": {},
   "outputs": [
    {
     "data": {
      "application/vnd.jupyter.widget-view+json": {
       "model_id": "4b03b6265bad4c17b74284ecb9ecd948",
       "version_major": 2,
       "version_minor": 0
      },
      "text/plain": [
       "interactive(children=(Checkbox(value=True, description='x'), Output()), _dom_classes=('widget-interact',))"
      ]
     },
     "metadata": {},
     "output_type": "display_data"
    }
   ],
   "source": [
    "@interact(x = True,y=fixed(1.0))\n",
    "def g(x,y):\n",
    "    return (x,y)"
   ]
  },
  {
   "cell_type": "code",
   "execution_count": 6,
   "id": "e091f61e",
   "metadata": {},
   "outputs": [
    {
     "data": {
      "application/vnd.jupyter.widget-view+json": {
       "model_id": "a6fb8cd49c0841fa8e73868e17d2af1e",
       "version_major": 2,
       "version_minor": 0
      },
      "text/plain": [
       "interactive(children=(IntSlider(value=0, description='x', min=-100), Output()), _dom_classes=('widget-interact…"
      ]
     },
     "metadata": {},
     "output_type": "display_data"
    },
    {
     "data": {
      "text/plain": [
       "<function __main__.func(x)>"
      ]
     },
     "execution_count": 6,
     "metadata": {},
     "output_type": "execute_result"
    }
   ],
   "source": [
    "interact(func,x = widgets.IntSlider(min = -100,max = 100,step = 1,value = 0)) "
   ]
  },
  {
   "cell_type": "code",
   "execution_count": 9,
   "id": "00ca2933",
   "metadata": {},
   "outputs": [
    {
     "data": {
      "application/vnd.jupyter.widget-view+json": {
       "model_id": "e71aff9280cb412f93e681987c845eba",
       "version_major": 2,
       "version_minor": 0
      },
      "text/plain": [
       "interactive(children=(FloatSlider(value=0.0, description='x', max=10.0, min=-10.0), Output()), _dom_classes=('…"
      ]
     },
     "metadata": {},
     "output_type": "display_data"
    },
    {
     "data": {
      "text/plain": [
       "<function __main__.func(x)>"
      ]
     },
     "execution_count": 9,
     "metadata": {},
     "output_type": "execute_result"
    }
   ],
   "source": [
    "interact(func,x = (-10.0,10.0,.1))"
   ]
  },
  {
   "cell_type": "code",
   "execution_count": 11,
   "id": "d4b3158b",
   "metadata": {},
   "outputs": [
    {
     "data": {
      "application/vnd.jupyter.widget-view+json": {
       "model_id": "62caf7d74a46476aafced41d5d3b4244",
       "version_major": 2,
       "version_minor": 0
      },
      "text/plain": [
       "interactive(children=(FloatSlider(value=5.0, description='x', max=20.0, step=0.5), Output()), _dom_classes=('w…"
      ]
     },
     "metadata": {},
     "output_type": "display_data"
    }
   ],
   "source": [
    "@interact(x = (0.0,20.0,0.5))\n",
    "def h(x = 5.0):\n",
    "    return x**2"
   ]
  },
  {
   "cell_type": "code",
   "execution_count": 12,
   "id": "a5037cdd",
   "metadata": {},
   "outputs": [
    {
     "data": {
      "application/vnd.jupyter.widget-view+json": {
       "model_id": "fb1b46cf77a140fca8629e7176e29015",
       "version_major": 2,
       "version_minor": 0
      },
      "text/plain": [
       "interactive(children=(Dropdown(description='x', options=('hello', 'option2', 'option3'), value='hello'), Outpu…"
      ]
     },
     "metadata": {},
     "output_type": "display_data"
    },
    {
     "data": {
      "text/plain": [
       "<function __main__.func(x)>"
      ]
     },
     "execution_count": 12,
     "metadata": {},
     "output_type": "execute_result"
    }
   ],
   "source": [
    "interact(func,x = ['hello','option2','option3'])"
   ]
  },
  {
   "cell_type": "code",
   "execution_count": 13,
   "id": "3a39626a",
   "metadata": {},
   "outputs": [
    {
     "data": {
      "application/vnd.jupyter.widget-view+json": {
       "model_id": "1b70455488784941b8cedd50643c411b",
       "version_major": 2,
       "version_minor": 0
      },
      "text/plain": [
       "interactive(children=(Dropdown(description='x', options={'one': 10, 'two': 20}, value=10), Output()), _dom_cla…"
      ]
     },
     "metadata": {},
     "output_type": "display_data"
    },
    {
     "data": {
      "text/plain": [
       "<function __main__.func(x)>"
      ]
     },
     "execution_count": 13,
     "metadata": {},
     "output_type": "execute_result"
    }
   ],
   "source": [
    "interact(func,x = {'one':10,'two':20})"
   ]
  },
  {
   "cell_type": "code",
   "execution_count": 14,
   "id": "4a68cd7c",
   "metadata": {},
   "outputs": [],
   "source": [
    "from IPython.display import display"
   ]
  },
  {
   "cell_type": "code",
   "execution_count": 15,
   "id": "8f32feab",
   "metadata": {},
   "outputs": [],
   "source": [
    "def f(a,b):\n",
    "    display(a+b)\n",
    "    return a+b"
   ]
  },
  {
   "cell_type": "code",
   "execution_count": 16,
   "id": "a4381f42",
   "metadata": {},
   "outputs": [],
   "source": [
    "w = interactive(f,a=10,b=20)"
   ]
  },
  {
   "cell_type": "code",
   "execution_count": 17,
   "id": "be8c493b",
   "metadata": {},
   "outputs": [
    {
     "data": {
      "text/plain": [
       "ipywidgets.widgets.interaction.interactive"
      ]
     },
     "execution_count": 17,
     "metadata": {},
     "output_type": "execute_result"
    }
   ],
   "source": [
    "type(w)"
   ]
  },
  {
   "cell_type": "code",
   "execution_count": 18,
   "id": "f4f0d9a9",
   "metadata": {},
   "outputs": [
    {
     "data": {
      "text/plain": [
       "(IntSlider(value=10, description='a', max=30, min=-10),\n",
       " IntSlider(value=20, description='b', max=60, min=-20),\n",
       " Output(outputs=({'output_type': 'display_data', 'data': {'text/plain': '30'}, 'metadata': {}},)))"
      ]
     },
     "execution_count": 18,
     "metadata": {},
     "output_type": "execute_result"
    }
   ],
   "source": [
    "w.children"
   ]
  },
  {
   "cell_type": "code",
   "execution_count": 19,
   "id": "2087d3a8",
   "metadata": {},
   "outputs": [
    {
     "data": {
      "application/vnd.jupyter.widget-view+json": {
       "model_id": "fc36964442644fb9ac51c63f6ba92909",
       "version_major": 2,
       "version_minor": 0
      },
      "text/plain": [
       "interactive(children=(IntSlider(value=10, description='a', max=30, min=-10), IntSlider(value=20, description='…"
      ]
     },
     "metadata": {},
     "output_type": "display_data"
    }
   ],
   "source": [
    "display(w)"
   ]
  },
  {
   "cell_type": "code",
   "execution_count": 31,
   "id": "687b81df",
   "metadata": {},
   "outputs": [],
   "source": [
    "w = widgets.IntSlider()"
   ]
  },
  {
   "cell_type": "code",
   "execution_count": 32,
   "id": "1f3b88f8",
   "metadata": {},
   "outputs": [
    {
     "data": {
      "application/vnd.jupyter.widget-view+json": {
       "model_id": "7d06e4a17c1c461eae5edeb97e487622",
       "version_major": 2,
       "version_minor": 0
      },
      "text/plain": [
       "IntSlider(value=0)"
      ]
     },
     "metadata": {},
     "output_type": "display_data"
    }
   ],
   "source": [
    "display(w)"
   ]
  },
  {
   "cell_type": "code",
   "execution_count": 29,
   "id": "700d4d04",
   "metadata": {},
   "outputs": [
    {
     "data": {
      "application/vnd.jupyter.widget-view+json": {
       "model_id": "",
       "version_major": 2,
       "version_minor": 0
      },
      "text/plain": [
       "IntSlider(value=0)"
      ]
     },
     "metadata": {},
     "output_type": "display_data"
    }
   ],
   "source": [
    "display(w)"
   ]
  },
  {
   "cell_type": "code",
   "execution_count": 30,
   "id": "515a15d4",
   "metadata": {},
   "outputs": [],
   "source": [
    "w.close()"
   ]
  },
  {
   "cell_type": "code",
   "execution_count": 42,
   "id": "d741c8db",
   "metadata": {},
   "outputs": [
    {
     "data": {
      "text/plain": [
       "921"
      ]
     },
     "execution_count": 42,
     "metadata": {},
     "output_type": "execute_result"
    }
   ],
   "source": [
    "w.value"
   ]
  },
  {
   "cell_type": "code",
   "execution_count": 38,
   "id": "e01da669",
   "metadata": {},
   "outputs": [
    {
     "data": {
      "text/plain": [
       "['_dom_classes',\n",
       " '_model_module',\n",
       " '_model_module_version',\n",
       " '_model_name',\n",
       " '_view_count',\n",
       " '_view_module',\n",
       " '_view_module_version',\n",
       " '_view_name',\n",
       " 'behavior',\n",
       " 'continuous_update',\n",
       " 'description',\n",
       " 'description_allow_html',\n",
       " 'disabled',\n",
       " 'layout',\n",
       " 'max',\n",
       " 'min',\n",
       " 'orientation',\n",
       " 'readout',\n",
       " 'readout_format',\n",
       " 'step',\n",
       " 'style',\n",
       " 'tabbable',\n",
       " 'tooltip',\n",
       " 'value']"
      ]
     },
     "execution_count": 38,
     "metadata": {},
     "output_type": "execute_result"
    }
   ],
   "source": [
    "w.keys"
   ]
  },
  {
   "cell_type": "code",
   "execution_count": 41,
   "id": "17c31848",
   "metadata": {},
   "outputs": [],
   "source": [
    "w.max = 2000"
   ]
  },
  {
   "cell_type": "code",
   "execution_count": 44,
   "id": "41464239",
   "metadata": {},
   "outputs": [
    {
     "data": {
      "application/vnd.jupyter.widget-view+json": {
       "model_id": "7fa96ce99fd84a4fb62d72f32ad99cfe",
       "version_major": 2,
       "version_minor": 0
      },
      "text/plain": [
       "FloatText(value=0.0)"
      ]
     },
     "metadata": {},
     "output_type": "display_data"
    },
    {
     "data": {
      "application/vnd.jupyter.widget-view+json": {
       "model_id": "ed1f01fefb844be793df6f1b8ad86253",
       "version_major": 2,
       "version_minor": 0
      },
      "text/plain": [
       "FloatSlider(value=0.0)"
      ]
     },
     "metadata": {},
     "output_type": "display_data"
    }
   ],
   "source": [
    "a = widgets.FloatText()\n",
    "b = widgets.FloatSlider()\n",
    "display(a,b)\n",
    "mylink = widgets.jslink((a,'value'),(b,'max'))"
   ]
  },
  {
   "cell_type": "code",
   "execution_count": 45,
   "id": "914191ee",
   "metadata": {},
   "outputs": [],
   "source": [
    "mylink.unlink()"
   ]
  },
  {
   "cell_type": "code",
   "execution_count": 48,
   "id": "015924a4",
   "metadata": {},
   "outputs": [
    {
     "name": "stdout",
     "output_type": "stream",
     "text": [
      "('@jupyter-widgets/base', '2.0.0', 'LayoutModel', '@jupyter-widgets/base', '2.0.0', 'LayoutView')\n",
      "('@jupyter-widgets/controls', '2.0.0', 'AccordionModel', '@jupyter-widgets/controls', '2.0.0', 'AccordionView')\n",
      "('@jupyter-widgets/controls', '2.0.0', 'AudioModel', '@jupyter-widgets/controls', '2.0.0', 'AudioView')\n",
      "('@jupyter-widgets/controls', '2.0.0', 'BoundedFloatTextModel', '@jupyter-widgets/controls', '2.0.0', 'FloatTextView')\n",
      "('@jupyter-widgets/controls', '2.0.0', 'BoundedIntTextModel', '@jupyter-widgets/controls', '2.0.0', 'IntTextView')\n",
      "('@jupyter-widgets/controls', '2.0.0', 'BoxModel', '@jupyter-widgets/controls', '2.0.0', 'BoxView')\n",
      "('@jupyter-widgets/controls', '2.0.0', 'ButtonModel', '@jupyter-widgets/controls', '2.0.0', 'ButtonView')\n",
      "('@jupyter-widgets/controls', '2.0.0', 'ButtonStyleModel', '@jupyter-widgets/base', '2.0.0', 'StyleView')\n",
      "('@jupyter-widgets/controls', '2.0.0', 'CheckboxModel', '@jupyter-widgets/controls', '2.0.0', 'CheckboxView')\n",
      "('@jupyter-widgets/controls', '2.0.0', 'CheckboxStyleModel', '@jupyter-widgets/base', '2.0.0', 'StyleView')\n",
      "('@jupyter-widgets/controls', '2.0.0', 'ColorPickerModel', '@jupyter-widgets/controls', '2.0.0', 'ColorPickerView')\n",
      "('@jupyter-widgets/controls', '2.0.0', 'ColorsInputModel', '@jupyter-widgets/controls', '2.0.0', 'ColorsInputView')\n",
      "('@jupyter-widgets/controls', '2.0.0', 'ComboboxModel', '@jupyter-widgets/controls', '2.0.0', 'ComboboxView')\n",
      "('@jupyter-widgets/controls', '2.0.0', 'ControllerAxisModel', '@jupyter-widgets/controls', '2.0.0', 'ControllerAxisView')\n",
      "('@jupyter-widgets/controls', '2.0.0', 'ControllerButtonModel', '@jupyter-widgets/controls', '2.0.0', 'ControllerButtonView')\n",
      "('@jupyter-widgets/controls', '2.0.0', 'ControllerModel', '@jupyter-widgets/controls', '2.0.0', 'ControllerView')\n",
      "('@jupyter-widgets/controls', '2.0.0', 'DOMWidgetModel', '@jupyter-widgets/controls', '2.0.0', None)\n",
      "('@jupyter-widgets/controls', '2.0.0', 'DatePickerModel', '@jupyter-widgets/controls', '2.0.0', 'DatePickerView')\n",
      "('@jupyter-widgets/controls', '2.0.0', 'DatetimeModel', '@jupyter-widgets/controls', '2.0.0', 'DatetimeView')\n",
      "('@jupyter-widgets/controls', '2.0.0', 'DescriptionStyleModel', '@jupyter-widgets/base', '2.0.0', 'StyleView')\n",
      "('@jupyter-widgets/controls', '2.0.0', 'DirectionalLinkModel', '@jupyter-widgets/controls', '2.0.0', None)\n",
      "('@jupyter-widgets/controls', '2.0.0', 'DropdownModel', '@jupyter-widgets/controls', '2.0.0', 'DropdownView')\n",
      "('@jupyter-widgets/controls', '2.0.0', 'FileUploadModel', '@jupyter-widgets/controls', '2.0.0', 'FileUploadView')\n",
      "('@jupyter-widgets/controls', '2.0.0', 'FloatLogSliderModel', '@jupyter-widgets/controls', '2.0.0', 'FloatLogSliderView')\n",
      "('@jupyter-widgets/controls', '2.0.0', 'FloatProgressModel', '@jupyter-widgets/controls', '2.0.0', 'ProgressView')\n",
      "('@jupyter-widgets/controls', '2.0.0', 'FloatRangeSliderModel', '@jupyter-widgets/controls', '2.0.0', 'FloatRangeSliderView')\n",
      "('@jupyter-widgets/controls', '2.0.0', 'FloatSliderModel', '@jupyter-widgets/controls', '2.0.0', 'FloatSliderView')\n",
      "('@jupyter-widgets/controls', '2.0.0', 'FloatTextModel', '@jupyter-widgets/controls', '2.0.0', 'FloatTextView')\n",
      "('@jupyter-widgets/controls', '2.0.0', 'FloatsInputModel', '@jupyter-widgets/controls', '2.0.0', 'FloatsInputView')\n",
      "('@jupyter-widgets/controls', '2.0.0', 'GridBoxModel', '@jupyter-widgets/controls', '2.0.0', 'GridBoxView')\n",
      "('@jupyter-widgets/controls', '2.0.0', 'HBoxModel', '@jupyter-widgets/controls', '2.0.0', 'HBoxView')\n",
      "('@jupyter-widgets/controls', '2.0.0', 'HTMLMathModel', '@jupyter-widgets/controls', '2.0.0', 'HTMLMathView')\n",
      "('@jupyter-widgets/controls', '2.0.0', 'HTMLMathStyleModel', '@jupyter-widgets/base', '2.0.0', 'StyleView')\n",
      "('@jupyter-widgets/controls', '2.0.0', 'HTMLModel', '@jupyter-widgets/controls', '2.0.0', 'HTMLView')\n",
      "('@jupyter-widgets/controls', '2.0.0', 'HTMLStyleModel', '@jupyter-widgets/base', '2.0.0', 'StyleView')\n",
      "('@jupyter-widgets/controls', '2.0.0', 'ImageModel', '@jupyter-widgets/controls', '2.0.0', 'ImageView')\n",
      "('@jupyter-widgets/controls', '2.0.0', 'IntProgressModel', '@jupyter-widgets/controls', '2.0.0', 'ProgressView')\n",
      "('@jupyter-widgets/controls', '2.0.0', 'IntRangeSliderModel', '@jupyter-widgets/controls', '2.0.0', 'IntRangeSliderView')\n",
      "('@jupyter-widgets/controls', '2.0.0', 'IntSliderModel', '@jupyter-widgets/controls', '2.0.0', 'IntSliderView')\n",
      "('@jupyter-widgets/controls', '2.0.0', 'IntTextModel', '@jupyter-widgets/controls', '2.0.0', 'IntTextView')\n",
      "('@jupyter-widgets/controls', '2.0.0', 'IntsInputModel', '@jupyter-widgets/controls', '2.0.0', 'IntsInputView')\n",
      "('@jupyter-widgets/controls', '2.0.0', 'LabelModel', '@jupyter-widgets/controls', '2.0.0', 'LabelView')\n",
      "('@jupyter-widgets/controls', '2.0.0', 'LabelStyleModel', '@jupyter-widgets/base', '2.0.0', 'StyleView')\n",
      "('@jupyter-widgets/controls', '2.0.0', 'LinkModel', '@jupyter-widgets/controls', '2.0.0', None)\n",
      "('@jupyter-widgets/controls', '2.0.0', 'NaiveDatetimeModel', '@jupyter-widgets/controls', '2.0.0', 'DatetimeView')\n",
      "('@jupyter-widgets/controls', '2.0.0', 'PasswordModel', '@jupyter-widgets/controls', '2.0.0', 'PasswordView')\n",
      "('@jupyter-widgets/controls', '2.0.0', 'PlayModel', '@jupyter-widgets/controls', '2.0.0', 'PlayView')\n",
      "('@jupyter-widgets/controls', '2.0.0', 'ProgressStyleModel', '@jupyter-widgets/base', '2.0.0', 'StyleView')\n",
      "('@jupyter-widgets/controls', '2.0.0', 'RadioButtonsModel', '@jupyter-widgets/controls', '2.0.0', 'RadioButtonsView')\n",
      "('@jupyter-widgets/controls', '2.0.0', 'SelectModel', '@jupyter-widgets/controls', '2.0.0', 'SelectView')\n",
      "('@jupyter-widgets/controls', '2.0.0', 'SelectMultipleModel', '@jupyter-widgets/controls', '2.0.0', 'SelectMultipleView')\n",
      "('@jupyter-widgets/controls', '2.0.0', 'SelectionRangeSliderModel', '@jupyter-widgets/controls', '2.0.0', 'SelectionRangeSliderView')\n",
      "('@jupyter-widgets/controls', '2.0.0', 'SelectionSliderModel', '@jupyter-widgets/controls', '2.0.0', 'SelectionSliderView')\n",
      "('@jupyter-widgets/controls', '2.0.0', 'SliderStyleModel', '@jupyter-widgets/base', '2.0.0', 'StyleView')\n",
      "('@jupyter-widgets/controls', '2.0.0', 'StackModel', '@jupyter-widgets/controls', '2.0.0', 'StackView')\n",
      "('@jupyter-widgets/controls', '2.0.0', 'TabModel', '@jupyter-widgets/controls', '2.0.0', 'TabView')\n",
      "('@jupyter-widgets/controls', '2.0.0', 'TagsInputModel', '@jupyter-widgets/controls', '2.0.0', 'TagsInputView')\n",
      "('@jupyter-widgets/controls', '2.0.0', 'TextModel', '@jupyter-widgets/controls', '2.0.0', 'TextView')\n",
      "('@jupyter-widgets/controls', '2.0.0', 'TextStyleModel', '@jupyter-widgets/base', '2.0.0', 'StyleView')\n",
      "('@jupyter-widgets/controls', '2.0.0', 'TextareaModel', '@jupyter-widgets/controls', '2.0.0', 'TextareaView')\n",
      "('@jupyter-widgets/controls', '2.0.0', 'TimeModel', '@jupyter-widgets/controls', '2.0.0', 'TimeView')\n",
      "('@jupyter-widgets/controls', '2.0.0', 'ToggleButtonModel', '@jupyter-widgets/controls', '2.0.0', 'ToggleButtonView')\n",
      "('@jupyter-widgets/controls', '2.0.0', 'ToggleButtonStyleModel', '@jupyter-widgets/base', '2.0.0', 'StyleView')\n",
      "('@jupyter-widgets/controls', '2.0.0', 'ToggleButtonsModel', '@jupyter-widgets/controls', '2.0.0', 'ToggleButtonsView')\n",
      "('@jupyter-widgets/controls', '2.0.0', 'ToggleButtonsStyleModel', '@jupyter-widgets/base', '2.0.0', 'StyleView')\n",
      "('@jupyter-widgets/controls', '2.0.0', 'VBoxModel', '@jupyter-widgets/controls', '2.0.0', 'VBoxView')\n",
      "('@jupyter-widgets/controls', '2.0.0', 'ValidModel', '@jupyter-widgets/controls', '2.0.0', 'ValidView')\n",
      "('@jupyter-widgets/controls', '2.0.0', 'VideoModel', '@jupyter-widgets/controls', '2.0.0', 'VideoView')\n",
      "('@jupyter-widgets/output', '1.0.0', 'OutputModel', '@jupyter-widgets/output', '1.0.0', 'OutputView')\n"
     ]
    },
    {
     "name": "stderr",
     "output_type": "stream",
     "text": [
      "C:\\Users\\chira\\AppData\\Local\\Temp\\ipykernel_10924\\3424492652.py:1: DeprecationWarning: Widget.widget_types is deprecated.\n",
      "  for item in widgets.Widget.widget_types.items():\n"
     ]
    }
   ],
   "source": [
    "for item in widgets.Widget.widget_types.items():\n",
    "    print(item[0])"
   ]
  },
  {
   "cell_type": "code",
   "execution_count": null,
   "id": "5b648718",
   "metadata": {},
   "outputs": [],
   "source": []
  },
  {
   "cell_type": "code",
   "execution_count": null,
   "id": "a57d387f",
   "metadata": {},
   "outputs": [],
   "source": []
  },
  {
   "cell_type": "code",
   "execution_count": null,
   "id": "084372f9",
   "metadata": {},
   "outputs": [],
   "source": []
  },
  {
   "cell_type": "code",
   "execution_count": null,
   "id": "cd7beee2",
   "metadata": {},
   "outputs": [],
   "source": []
  },
  {
   "cell_type": "code",
   "execution_count": null,
   "id": "1f29a316",
   "metadata": {},
   "outputs": [],
   "source": []
  },
  {
   "cell_type": "code",
   "execution_count": null,
   "id": "cff3f0ef",
   "metadata": {},
   "outputs": [],
   "source": []
  },
  {
   "cell_type": "code",
   "execution_count": null,
   "id": "ebd7bd0b",
   "metadata": {},
   "outputs": [],
   "source": []
  }
 ],
 "metadata": {
  "kernelspec": {
   "display_name": "Python 3 (ipykernel)",
   "language": "python",
   "name": "python3"
  },
  "language_info": {
   "codemirror_mode": {
    "name": "ipython",
    "version": 3
   },
   "file_extension": ".py",
   "mimetype": "text/x-python",
   "name": "python",
   "nbconvert_exporter": "python",
   "pygments_lexer": "ipython3",
   "version": "3.10.6"
  }
 },
 "nbformat": 4,
 "nbformat_minor": 5
}
