{
 "cells": [
  {
   "cell_type": "code",
   "execution_count": 2,
   "id": "b7be7837",
   "metadata": {},
   "outputs": [
    {
     "data": {
      "text/plain": [
       "2401"
      ]
     },
     "execution_count": 2,
     "metadata": {},
     "output_type": "execute_result"
    }
   ],
   "source": [
    "7**4"
   ]
  },
  {
   "cell_type": "code",
   "execution_count": 2,
   "id": "cba58abc",
   "metadata": {},
   "outputs": [
    {
     "data": {
      "text/plain": [
       "['Hi', 'there', 'Sam!']"
      ]
     },
     "execution_count": 2,
     "metadata": {},
     "output_type": "execute_result"
    }
   ],
   "source": [
    "\"Hi there Sam!\".split()"
   ]
  },
  {
   "cell_type": "code",
   "execution_count": 3,
   "id": "12424596",
   "metadata": {},
   "outputs": [],
   "source": [
    "d = {'k1':[1,2,3,{'tricky':['oh','man','inception|',{'target':[1,2,3,'hello']}]}]}"
   ]
  },
  {
   "cell_type": "code",
   "execution_count": 4,
   "id": "fc8cf464",
   "metadata": {},
   "outputs": [
    {
     "data": {
      "text/plain": [
       "'hello'"
      ]
     },
     "execution_count": 4,
     "metadata": {},
     "output_type": "execute_result"
    }
   ],
   "source": [
    "d['k1'][3]['tricky'][3]['target'][3]"
   ]
  },
  {
   "cell_type": "code",
   "execution_count": 5,
   "id": "0425da19",
   "metadata": {},
   "outputs": [
    {
     "name": "stdout",
     "output_type": "stream",
     "text": [
      "gmail\n"
     ]
    }
   ],
   "source": [
    "def domainGet(s):\n",
    "    print(s.split('@')[1].split('.')[0])\n",
    "\n",
    "domainGet('johndoe@gmail.com')"
   ]
  },
  {
   "cell_type": "code",
   "execution_count": 8,
   "id": "2635dac4",
   "metadata": {},
   "outputs": [],
   "source": [
    "def findDog(s):\n",
    "    if 'dog' in s:\n",
    "        return True\n",
    "    elif 'Dog' in s:\n",
    "        return True\n",
    "    elif 'DOG' in s:\n",
    "        return True\n",
    "    else:\n",
    "        return False"
   ]
  },
  {
   "cell_type": "code",
   "execution_count": 9,
   "id": "9e354a78",
   "metadata": {},
   "outputs": [
    {
     "data": {
      "text/plain": [
       "True"
      ]
     },
     "execution_count": 9,
     "metadata": {},
     "output_type": "execute_result"
    }
   ],
   "source": [
    "findDog('DOG is a really nice')"
   ]
  },
  {
   "cell_type": "code",
   "execution_count": 10,
   "id": "869265c0",
   "metadata": {},
   "outputs": [
    {
     "data": {
      "text/plain": [
       "False"
      ]
     },
     "execution_count": 10,
     "metadata": {},
     "output_type": "execute_result"
    }
   ],
   "source": [
    "findDog('I have a cat')"
   ]
  },
  {
   "cell_type": "code",
   "execution_count": 14,
   "id": "83233da7",
   "metadata": {},
   "outputs": [],
   "source": [
    "def countDog(s):\n",
    "    return s.count('dog')"
   ]
  },
  {
   "cell_type": "code",
   "execution_count": 15,
   "id": "40189d02",
   "metadata": {},
   "outputs": [
    {
     "data": {
      "text/plain": [
       "3"
      ]
     },
     "execution_count": 15,
     "metadata": {},
     "output_type": "execute_result"
    }
   ],
   "source": [
    "countDog(\"hey dog, that's a nice dog. I want a dog.\")"
   ]
  },
  {
   "cell_type": "code",
   "execution_count": 16,
   "id": "60fa8aa4",
   "metadata": {},
   "outputs": [],
   "source": [
    "seq = ['soup','dog','salad','cat','great']"
   ]
  },
  {
   "cell_type": "code",
   "execution_count": 17,
   "id": "17e36c85",
   "metadata": {},
   "outputs": [],
   "source": [
    "res = list(filter(lambda s: s[0]=='s',seq))"
   ]
  },
  {
   "cell_type": "code",
   "execution_count": 18,
   "id": "f19ec0d8",
   "metadata": {},
   "outputs": [
    {
     "data": {
      "text/plain": [
       "['soup', 'salad']"
      ]
     },
     "execution_count": 18,
     "metadata": {},
     "output_type": "execute_result"
    }
   ],
   "source": [
    "res"
   ]
  },
  {
   "cell_type": "code",
   "execution_count": 8,
   "id": "6a828ed0",
   "metadata": {},
   "outputs": [],
   "source": [
    "def caught_speeding(speed,is_birthday):\n",
    "    if is_birthday:\n",
    "        if speed <= 65:\n",
    "            return \"No Ticket\"\n",
    "        elif speed <= 85:\n",
    "            return \"Small Ticket\"\n",
    "        else:\n",
    "            return \"Big Ticket\"\n",
    "    else:\n",
    "        if speed <= 60:\n",
    "            return \"No Ticket\"\n",
    "        elif speed <= 80:\n",
    "            return \"Small Ticket\"\n",
    "        else:\n",
    "            return \"Big Ticket\""
   ]
  },
  {
   "cell_type": "code",
   "execution_count": 10,
   "id": "199d92e3",
   "metadata": {},
   "outputs": [
    {
     "data": {
      "text/plain": [
       "'Small Ticket'"
      ]
     },
     "execution_count": 10,
     "metadata": {},
     "output_type": "execute_result"
    }
   ],
   "source": [
    "caught_speeding(85,True)"
   ]
  },
  {
   "cell_type": "code",
   "execution_count": null,
   "id": "7cf1ebbf",
   "metadata": {},
   "outputs": [],
   "source": []
  }
 ],
 "metadata": {
  "kernelspec": {
   "display_name": "Python 3 (ipykernel)",
   "language": "python",
   "name": "python3"
  },
  "language_info": {
   "codemirror_mode": {
    "name": "ipython",
    "version": 3
   },
   "file_extension": ".py",
   "mimetype": "text/x-python",
   "name": "python",
   "nbconvert_exporter": "python",
   "pygments_lexer": "ipython3",
   "version": "3.11.4"
  }
 },
 "nbformat": 4,
 "nbformat_minor": 5
}
