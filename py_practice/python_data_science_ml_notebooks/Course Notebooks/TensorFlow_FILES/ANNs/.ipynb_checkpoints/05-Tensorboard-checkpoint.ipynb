{
 "cells": [
  {
   "cell_type": "markdown",
   "metadata": {},
   "source": [
    "<a href=\"https://www.pieriandata.com\"><img src=\"../Pierian_Data_Logo.PNG\"></a>\n",
    "<strong><center>Copyright by Pierian Data Inc.</center></strong> \n",
    "<strong><center>Created by Jose Marcial Portilla.</center></strong>"
   ]
  },
  {
   "cell_type": "markdown",
   "metadata": {},
   "source": [
    "# Tensorboard\n",
    "\n",
    "---\n",
    "---\n",
    "\n",
    "**NOTE: You must watch the corresponding video to understand this lecture. This notebook can't serve as a full guide. Please watch the video BEFORE posting questions to the QA forum.**\n",
    "\n",
    "---\n",
    "---\n",
    "\n",
    "Let's explore the built in data visualization capabilities that come with Tensorboard.\n",
    "\n",
    "Full official tutorial available here: https://www.tensorflow.org/tensorboard/get_started\n",
    "\n",
    "## Data"
   ]
  },
  {
   "cell_type": "code",
   "execution_count": 1,
   "metadata": {},
   "outputs": [],
   "source": [
    "import pandas as pd\n",
    "import numpy as np"
   ]
  },
  {
   "cell_type": "code",
   "execution_count": 2,
   "metadata": {},
   "outputs": [],
   "source": [
    "df = pd.read_csv('../DATA/cancer_classification.csv')"
   ]
  },
  {
   "cell_type": "markdown",
   "metadata": {},
   "source": [
    "### Train Test Split"
   ]
  },
  {
   "cell_type": "code",
   "execution_count": 4,
   "metadata": {},
   "outputs": [],
   "source": [
    "X = df.drop('benign_0__mal_1',axis=1).values\n",
    "y = df['benign_0__mal_1'].values"
   ]
  },
  {
   "cell_type": "code",
   "execution_count": 5,
   "metadata": {},
   "outputs": [],
   "source": [
    "from sklearn.model_selection import train_test_split"
   ]
  },
  {
   "cell_type": "code",
   "execution_count": 6,
   "metadata": {},
   "outputs": [],
   "source": [
    "X_train, X_test, y_train, y_test = train_test_split(X,y,test_size=0.25,random_state=101)"
   ]
  },
  {
   "cell_type": "markdown",
   "metadata": {},
   "source": [
    "\n",
    "### Scaling Data"
   ]
  },
  {
   "cell_type": "code",
   "execution_count": 7,
   "metadata": {},
   "outputs": [],
   "source": [
    "from sklearn.preprocessing import MinMaxScaler"
   ]
  },
  {
   "cell_type": "code",
   "execution_count": 8,
   "metadata": {},
   "outputs": [],
   "source": [
    "scaler = MinMaxScaler()"
   ]
  },
  {
   "cell_type": "code",
   "execution_count": 9,
   "metadata": {},
   "outputs": [
    {
     "data": {
      "text/html": [
       "<style>#sk-container-id-1 {color: black;}#sk-container-id-1 pre{padding: 0;}#sk-container-id-1 div.sk-toggleable {background-color: white;}#sk-container-id-1 label.sk-toggleable__label {cursor: pointer;display: block;width: 100%;margin-bottom: 0;padding: 0.3em;box-sizing: border-box;text-align: center;}#sk-container-id-1 label.sk-toggleable__label-arrow:before {content: \"▸\";float: left;margin-right: 0.25em;color: #696969;}#sk-container-id-1 label.sk-toggleable__label-arrow:hover:before {color: black;}#sk-container-id-1 div.sk-estimator:hover label.sk-toggleable__label-arrow:before {color: black;}#sk-container-id-1 div.sk-toggleable__content {max-height: 0;max-width: 0;overflow: hidden;text-align: left;background-color: #f0f8ff;}#sk-container-id-1 div.sk-toggleable__content pre {margin: 0.2em;color: black;border-radius: 0.25em;background-color: #f0f8ff;}#sk-container-id-1 input.sk-toggleable__control:checked~div.sk-toggleable__content {max-height: 200px;max-width: 100%;overflow: auto;}#sk-container-id-1 input.sk-toggleable__control:checked~label.sk-toggleable__label-arrow:before {content: \"▾\";}#sk-container-id-1 div.sk-estimator input.sk-toggleable__control:checked~label.sk-toggleable__label {background-color: #d4ebff;}#sk-container-id-1 div.sk-label input.sk-toggleable__control:checked~label.sk-toggleable__label {background-color: #d4ebff;}#sk-container-id-1 input.sk-hidden--visually {border: 0;clip: rect(1px 1px 1px 1px);clip: rect(1px, 1px, 1px, 1px);height: 1px;margin: -1px;overflow: hidden;padding: 0;position: absolute;width: 1px;}#sk-container-id-1 div.sk-estimator {font-family: monospace;background-color: #f0f8ff;border: 1px dotted black;border-radius: 0.25em;box-sizing: border-box;margin-bottom: 0.5em;}#sk-container-id-1 div.sk-estimator:hover {background-color: #d4ebff;}#sk-container-id-1 div.sk-parallel-item::after {content: \"\";width: 100%;border-bottom: 1px solid gray;flex-grow: 1;}#sk-container-id-1 div.sk-label:hover label.sk-toggleable__label {background-color: #d4ebff;}#sk-container-id-1 div.sk-serial::before {content: \"\";position: absolute;border-left: 1px solid gray;box-sizing: border-box;top: 0;bottom: 0;left: 50%;z-index: 0;}#sk-container-id-1 div.sk-serial {display: flex;flex-direction: column;align-items: center;background-color: white;padding-right: 0.2em;padding-left: 0.2em;position: relative;}#sk-container-id-1 div.sk-item {position: relative;z-index: 1;}#sk-container-id-1 div.sk-parallel {display: flex;align-items: stretch;justify-content: center;background-color: white;position: relative;}#sk-container-id-1 div.sk-item::before, #sk-container-id-1 div.sk-parallel-item::before {content: \"\";position: absolute;border-left: 1px solid gray;box-sizing: border-box;top: 0;bottom: 0;left: 50%;z-index: -1;}#sk-container-id-1 div.sk-parallel-item {display: flex;flex-direction: column;z-index: 1;position: relative;background-color: white;}#sk-container-id-1 div.sk-parallel-item:first-child::after {align-self: flex-end;width: 50%;}#sk-container-id-1 div.sk-parallel-item:last-child::after {align-self: flex-start;width: 50%;}#sk-container-id-1 div.sk-parallel-item:only-child::after {width: 0;}#sk-container-id-1 div.sk-dashed-wrapped {border: 1px dashed gray;margin: 0 0.4em 0.5em 0.4em;box-sizing: border-box;padding-bottom: 0.4em;background-color: white;}#sk-container-id-1 div.sk-label label {font-family: monospace;font-weight: bold;display: inline-block;line-height: 1.2em;}#sk-container-id-1 div.sk-label-container {text-align: center;}#sk-container-id-1 div.sk-container {/* jupyter's `normalize.less` sets `[hidden] { display: none; }` but bootstrap.min.css set `[hidden] { display: none !important; }` so we also need the `!important` here to be able to override the default hidden behavior on the sphinx rendered scikit-learn.org. See: https://github.com/scikit-learn/scikit-learn/issues/21755 */display: inline-block !important;position: relative;}#sk-container-id-1 div.sk-text-repr-fallback {display: none;}</style><div id=\"sk-container-id-1\" class=\"sk-top-container\"><div class=\"sk-text-repr-fallback\"><pre>MinMaxScaler()</pre><b>In a Jupyter environment, please rerun this cell to show the HTML representation or trust the notebook. <br />On GitHub, the HTML representation is unable to render, please try loading this page with nbviewer.org.</b></div><div class=\"sk-container\" hidden><div class=\"sk-item\"><div class=\"sk-estimator sk-toggleable\"><input class=\"sk-toggleable__control sk-hidden--visually\" id=\"sk-estimator-id-1\" type=\"checkbox\" checked><label for=\"sk-estimator-id-1\" class=\"sk-toggleable__label sk-toggleable__label-arrow\">MinMaxScaler</label><div class=\"sk-toggleable__content\"><pre>MinMaxScaler()</pre></div></div></div></div></div>"
      ],
      "text/plain": [
       "MinMaxScaler()"
      ]
     },
     "execution_count": 9,
     "metadata": {},
     "output_type": "execute_result"
    }
   ],
   "source": [
    "scaler.fit(X_train)"
   ]
  },
  {
   "cell_type": "code",
   "execution_count": 10,
   "metadata": {},
   "outputs": [],
   "source": [
    "X_train = scaler.transform(X_train)\n",
    "X_test = scaler.transform(X_test)"
   ]
  },
  {
   "cell_type": "markdown",
   "metadata": {},
   "source": [
    "## Creating the Model"
   ]
  },
  {
   "cell_type": "code",
   "execution_count": 11,
   "metadata": {},
   "outputs": [],
   "source": [
    "import tensorflow as tf\n",
    "from tensorflow.keras.models import Sequential\n",
    "from tensorflow.keras.layers import Dense, Activation,Dropout"
   ]
  },
  {
   "cell_type": "code",
   "execution_count": 12,
   "metadata": {},
   "outputs": [],
   "source": [
    "from tensorflow.keras.callbacks import EarlyStopping,TensorBoard"
   ]
  },
  {
   "cell_type": "code",
   "execution_count": 13,
   "metadata": {},
   "outputs": [],
   "source": [
    "early_stop = EarlyStopping(monitor='val_loss', mode='min', verbose=1, patience=25)"
   ]
  },
  {
   "cell_type": "code",
   "execution_count": 14,
   "metadata": {},
   "outputs": [
    {
     "data": {
      "text/plain": [
       "'D:\\\\Chirag\\\\git_repos\\\\practice\\\\py_practice\\\\python_data_science_ml_notebooks\\\\Course Notebooks\\\\TensorFlow_FILES\\\\ANNs'"
      ]
     },
     "execution_count": 14,
     "metadata": {},
     "output_type": "execute_result"
    }
   ],
   "source": [
    "pwd"
   ]
  },
  {
   "cell_type": "markdown",
   "metadata": {},
   "source": [
    "## Creating the Tensorboard Callback\n",
    "\n",
    "TensorBoard is a visualization tool provided with TensorFlow.\n",
    "\n",
    "This callback logs events for TensorBoard, including:\n",
    "* Metrics summary plots\n",
    "* Training graph visualization\n",
    "* Activation histograms\n",
    "* Sampled profiling\n",
    "\n",
    "If you have installed TensorFlow with pip, you should be able\n",
    "to launch TensorBoard from the command line:\n",
    "\n",
    "```sh\n",
    "tensorboard --logdir=path_to_your_logs\n",
    "```\n",
    "\n",
    "You can find more information about TensorBoard\n",
    "[here](https://www.tensorflow.org/tensorboard/).\n",
    "\n",
    "    Arguments:\n",
    "        log_dir: the path of the directory where to save the log files to be\n",
    "          parsed by TensorBoard.\n",
    "        histogram_freq: frequency (in epochs) at which to compute activation and\n",
    "          weight histograms for the layers of the model. If set to 0, histograms\n",
    "          won't be computed. Validation data (or split) must be specified for\n",
    "          histogram visualizations.\n",
    "        write_graph: whether to visualize the graph in TensorBoard. The log file\n",
    "          can become quite large when write_graph is set to True.\n",
    "        write_images: whether to write model weights to visualize as image in\n",
    "          TensorBoard.\n",
    "        update_freq: `'batch'` or `'epoch'` or integer. When using `'batch'`,\n",
    "          writes the losses and metrics to TensorBoard after each batch. The same\n",
    "          applies for `'epoch'`. If using an integer, let's say `1000`, the\n",
    "          callback will write the metrics and losses to TensorBoard every 1000\n",
    "          samples. Note that writing too frequently to TensorBoard can slow down\n",
    "          your training.\n",
    "        profile_batch: Profile the batch to sample compute characteristics. By\n",
    "          default, it will profile the second batch. Set profile_batch=0 to\n",
    "          disable profiling. Must run in TensorFlow eager mode.\n",
    "        embeddings_freq: frequency (in epochs) at which embedding layers will\n",
    "          be visualized. If set to 0, embeddings won't be visualized.\n",
    "       "
   ]
  },
  {
   "cell_type": "code",
   "execution_count": 15,
   "metadata": {},
   "outputs": [],
   "source": [
    "from datetime import datetime"
   ]
  },
  {
   "cell_type": "code",
   "execution_count": 21,
   "metadata": {},
   "outputs": [
    {
     "data": {
      "text/plain": [
       "'09-09-2023--19-50'"
      ]
     },
     "execution_count": 21,
     "metadata": {},
     "output_type": "execute_result"
    }
   ],
   "source": [
    "datetime.now().strftime(\"%d-%m-%Y--%H-%M\")"
   ]
  },
  {
   "cell_type": "code",
   "execution_count": 22,
   "metadata": {},
   "outputs": [],
   "source": [
    "# WINDOWS: Use \"logs\\\\fit\"\n",
    "# MACOS/LINUX: Use \"logs\\fit\"\n",
    "\n",
    "log_directory = 'logs\\\\fit'\n",
    "\n",
    "# OPTIONAL: ADD A TIMESTAMP FOR UNIQUE FOLDER\n",
    "timestamp = datetime.now().strftime(\"%d-%m-%Y--%H-%M\")\n",
    "log_directory = log_directory + '\\\\' + timestamp\n",
    "\n",
    "\n",
    "board = TensorBoard(log_dir=log_directory,histogram_freq=1,\n",
    "    write_graph=True,\n",
    "    write_images=True,\n",
    "    update_freq='epoch',\n",
    "    profile_batch=2,\n",
    "    embeddings_freq=1)"
   ]
  },
  {
   "cell_type": "markdown",
   "metadata": {},
   "source": [
    "Now create the model layers:"
   ]
  },
  {
   "cell_type": "code",
   "execution_count": 23,
   "metadata": {},
   "outputs": [],
   "source": [
    "model = Sequential()\n",
    "model.add(Dense(units=30,activation='relu'))\n",
    "model.add(Dropout(0.5))\n",
    "model.add(Dense(units=15,activation='relu'))\n",
    "model.add(Dropout(0.5))\n",
    "model.add(Dense(units=1,activation='sigmoid'))\n",
    "model.compile(loss='binary_crossentropy', optimizer='adam')"
   ]
  },
  {
   "cell_type": "markdown",
   "metadata": {},
   "source": [
    "## Train the Model"
   ]
  },
  {
   "cell_type": "code",
   "execution_count": 24,
   "metadata": {},
   "outputs": [
    {
     "name": "stdout",
     "output_type": "stream",
     "text": [
      "Epoch 1/600\n",
      "14/14 [==============================] - 3s 190ms/step - loss: 0.7028 - val_loss: 0.6972\n",
      "Epoch 2/600\n",
      "14/14 [==============================] - 0s 33ms/step - loss: 0.6972 - val_loss: 0.6826\n",
      "Epoch 3/600\n",
      "14/14 [==============================] - 0s 32ms/step - loss: 0.6864 - val_loss: 0.6714\n",
      "Epoch 4/600\n",
      "14/14 [==============================] - 0s 35ms/step - loss: 0.6717 - val_loss: 0.6596\n",
      "Epoch 5/600\n",
      "14/14 [==============================] - 0s 34ms/step - loss: 0.6610 - val_loss: 0.6424\n",
      "Epoch 6/600\n",
      "14/14 [==============================] - 0s 34ms/step - loss: 0.6332 - val_loss: 0.6228\n",
      "Epoch 7/600\n",
      "14/14 [==============================] - 0s 32ms/step - loss: 0.6164 - val_loss: 0.5991\n",
      "Epoch 8/600\n",
      "14/14 [==============================] - 0s 33ms/step - loss: 0.5991 - val_loss: 0.5684\n",
      "Epoch 9/600\n",
      "14/14 [==============================] - 0s 32ms/step - loss: 0.6026 - val_loss: 0.5343\n",
      "Epoch 10/600\n",
      "14/14 [==============================] - 0s 35ms/step - loss: 0.5697 - val_loss: 0.5097\n",
      "Epoch 11/600\n",
      "14/14 [==============================] - 0s 29ms/step - loss: 0.5289 - val_loss: 0.4806\n",
      "Epoch 12/600\n",
      "14/14 [==============================] - 0s 32ms/step - loss: 0.5177 - val_loss: 0.4482\n",
      "Epoch 13/600\n",
      "14/14 [==============================] - 0s 34ms/step - loss: 0.4842 - val_loss: 0.4144\n",
      "Epoch 14/600\n",
      "14/14 [==============================] - 0s 29ms/step - loss: 0.4646 - val_loss: 0.3847\n",
      "Epoch 15/600\n",
      "14/14 [==============================] - 0s 31ms/step - loss: 0.4260 - val_loss: 0.3532\n",
      "Epoch 16/600\n",
      "14/14 [==============================] - 0s 31ms/step - loss: 0.3986 - val_loss: 0.3243\n",
      "Epoch 17/600\n",
      "14/14 [==============================] - 0s 31ms/step - loss: 0.3863 - val_loss: 0.3005\n",
      "Epoch 18/600\n",
      "14/14 [==============================] - 0s 32ms/step - loss: 0.3684 - val_loss: 0.2793\n",
      "Epoch 19/600\n",
      "14/14 [==============================] - 0s 34ms/step - loss: 0.3829 - val_loss: 0.2611\n",
      "Epoch 20/600\n",
      "14/14 [==============================] - 1s 110ms/step - loss: 0.3425 - val_loss: 0.2494\n",
      "Epoch 21/600\n",
      "14/14 [==============================] - 0s 29ms/step - loss: 0.3150 - val_loss: 0.2336\n",
      "Epoch 22/600\n",
      "14/14 [==============================] - 0s 31ms/step - loss: 0.2970 - val_loss: 0.2116\n",
      "Epoch 23/600\n",
      "14/14 [==============================] - 0s 31ms/step - loss: 0.3121 - val_loss: 0.1969\n",
      "Epoch 24/600\n",
      "14/14 [==============================] - 0s 31ms/step - loss: 0.3222 - val_loss: 0.1892\n",
      "Epoch 25/600\n",
      "14/14 [==============================] - 1s 39ms/step - loss: 0.2776 - val_loss: 0.1821\n",
      "Epoch 26/600\n",
      "14/14 [==============================] - 0s 33ms/step - loss: 0.2510 - val_loss: 0.1673\n",
      "Epoch 27/600\n",
      "14/14 [==============================] - 0s 37ms/step - loss: 0.2860 - val_loss: 0.1723\n",
      "Epoch 28/600\n",
      "14/14 [==============================] - 0s 33ms/step - loss: 0.2391 - val_loss: 0.1580\n",
      "Epoch 29/600\n",
      "14/14 [==============================] - 0s 32ms/step - loss: 0.2609 - val_loss: 0.1521\n",
      "Epoch 30/600\n",
      "14/14 [==============================] - 0s 33ms/step - loss: 0.2712 - val_loss: 0.1581\n",
      "Epoch 31/600\n",
      "14/14 [==============================] - 1s 41ms/step - loss: 0.2420 - val_loss: 0.1467\n",
      "Epoch 32/600\n",
      "14/14 [==============================] - 0s 33ms/step - loss: 0.2263 - val_loss: 0.1416\n",
      "Epoch 33/600\n",
      "14/14 [==============================] - 0s 35ms/step - loss: 0.2105 - val_loss: 0.1348\n",
      "Epoch 34/600\n",
      "14/14 [==============================] - 1s 40ms/step - loss: 0.1942 - val_loss: 0.1301\n",
      "Epoch 35/600\n",
      "14/14 [==============================] - 0s 37ms/step - loss: 0.1917 - val_loss: 0.1250\n",
      "Epoch 36/600\n",
      "14/14 [==============================] - 0s 35ms/step - loss: 0.1972 - val_loss: 0.1233\n",
      "Epoch 37/600\n",
      "14/14 [==============================] - 1s 41ms/step - loss: 0.1977 - val_loss: 0.1232\n",
      "Epoch 38/600\n",
      "14/14 [==============================] - 1s 97ms/step - loss: 0.2017 - val_loss: 0.1178\n",
      "Epoch 39/600\n",
      "14/14 [==============================] - 0s 37ms/step - loss: 0.1894 - val_loss: 0.1137\n",
      "Epoch 40/600\n",
      "14/14 [==============================] - 0s 35ms/step - loss: 0.1813 - val_loss: 0.1180\n",
      "Epoch 41/600\n",
      "14/14 [==============================] - 0s 34ms/step - loss: 0.1842 - val_loss: 0.1131\n",
      "Epoch 42/600\n",
      "14/14 [==============================] - 0s 33ms/step - loss: 0.1786 - val_loss: 0.1107\n",
      "Epoch 43/600\n",
      "14/14 [==============================] - 0s 33ms/step - loss: 0.1678 - val_loss: 0.1057\n",
      "Epoch 44/600\n",
      "14/14 [==============================] - 0s 34ms/step - loss: 0.1727 - val_loss: 0.1049\n",
      "Epoch 45/600\n",
      "14/14 [==============================] - 0s 31ms/step - loss: 0.1666 - val_loss: 0.1117\n",
      "Epoch 46/600\n",
      "14/14 [==============================] - 1s 42ms/step - loss: 0.1707 - val_loss: 0.1065\n",
      "Epoch 47/600\n",
      "14/14 [==============================] - 0s 29ms/step - loss: 0.1518 - val_loss: 0.1063\n",
      "Epoch 48/600\n",
      "14/14 [==============================] - 0s 33ms/step - loss: 0.1826 - val_loss: 0.1177\n",
      "Epoch 49/600\n",
      "14/14 [==============================] - 0s 34ms/step - loss: 0.1668 - val_loss: 0.1037\n",
      "Epoch 50/600\n",
      "14/14 [==============================] - 0s 33ms/step - loss: 0.1732 - val_loss: 0.1029\n",
      "Epoch 51/600\n",
      "14/14 [==============================] - 0s 32ms/step - loss: 0.1559 - val_loss: 0.1013\n",
      "Epoch 52/600\n",
      "14/14 [==============================] - 0s 34ms/step - loss: 0.1444 - val_loss: 0.1049\n",
      "Epoch 53/600\n",
      "14/14 [==============================] - 0s 34ms/step - loss: 0.1322 - val_loss: 0.1076\n",
      "Epoch 54/600\n",
      "14/14 [==============================] - 0s 31ms/step - loss: 0.1454 - val_loss: 0.1044\n",
      "Epoch 55/600\n",
      "14/14 [==============================] - 0s 34ms/step - loss: 0.1514 - val_loss: 0.0997\n",
      "Epoch 56/600\n",
      "14/14 [==============================] - 0s 31ms/step - loss: 0.1258 - val_loss: 0.1011\n",
      "Epoch 57/600\n",
      "14/14 [==============================] - 1s 106ms/step - loss: 0.1307 - val_loss: 0.0965\n",
      "Epoch 58/600\n",
      "14/14 [==============================] - 0s 32ms/step - loss: 0.1461 - val_loss: 0.1036\n",
      "Epoch 59/600\n",
      "14/14 [==============================] - 0s 32ms/step - loss: 0.1540 - val_loss: 0.0943\n",
      "Epoch 60/600\n",
      "14/14 [==============================] - 0s 32ms/step - loss: 0.1405 - val_loss: 0.0939\n",
      "Epoch 61/600\n",
      "14/14 [==============================] - 0s 33ms/step - loss: 0.1228 - val_loss: 0.0958\n",
      "Epoch 62/600\n",
      "14/14 [==============================] - 0s 34ms/step - loss: 0.1409 - val_loss: 0.1000\n",
      "Epoch 63/600\n",
      "14/14 [==============================] - 0s 30ms/step - loss: 0.1287 - val_loss: 0.0961\n",
      "Epoch 64/600\n",
      "14/14 [==============================] - 0s 30ms/step - loss: 0.1258 - val_loss: 0.1045\n",
      "Epoch 65/600\n",
      "14/14 [==============================] - 0s 30ms/step - loss: 0.1377 - val_loss: 0.0954\n",
      "Epoch 66/600\n",
      "14/14 [==============================] - 0s 31ms/step - loss: 0.1130 - val_loss: 0.0965\n",
      "Epoch 67/600\n",
      "14/14 [==============================] - 0s 31ms/step - loss: 0.1230 - val_loss: 0.1026\n",
      "Epoch 68/600\n",
      "14/14 [==============================] - 1s 46ms/step - loss: 0.1161 - val_loss: 0.0950\n",
      "Epoch 69/600\n",
      "14/14 [==============================] - 0s 32ms/step - loss: 0.1161 - val_loss: 0.1003\n",
      "Epoch 70/600\n",
      "14/14 [==============================] - 0s 34ms/step - loss: 0.1036 - val_loss: 0.0943\n",
      "Epoch 71/600\n",
      "14/14 [==============================] - 0s 30ms/step - loss: 0.1160 - val_loss: 0.0999\n",
      "Epoch 72/600\n",
      "14/14 [==============================] - 0s 32ms/step - loss: 0.1057 - val_loss: 0.0954\n",
      "Epoch 73/600\n",
      "14/14 [==============================] - 0s 31ms/step - loss: 0.1110 - val_loss: 0.0953\n",
      "Epoch 74/600\n",
      "14/14 [==============================] - 0s 33ms/step - loss: 0.1341 - val_loss: 0.0986\n",
      "Epoch 75/600\n",
      "14/14 [==============================] - 0s 38ms/step - loss: 0.1077 - val_loss: 0.0978\n",
      "Epoch 76/600\n",
      "14/14 [==============================] - 1s 87ms/step - loss: 0.0857 - val_loss: 0.0934\n",
      "Epoch 77/600\n",
      "14/14 [==============================] - 0s 29ms/step - loss: 0.1111 - val_loss: 0.0932\n",
      "Epoch 78/600\n",
      "14/14 [==============================] - 1s 43ms/step - loss: 0.1112 - val_loss: 0.1004\n",
      "Epoch 79/600\n",
      "14/14 [==============================] - 0s 34ms/step - loss: 0.1392 - val_loss: 0.0911\n",
      "Epoch 80/600\n",
      "14/14 [==============================] - 0s 30ms/step - loss: 0.1003 - val_loss: 0.0960\n",
      "Epoch 81/600\n",
      "14/14 [==============================] - 0s 34ms/step - loss: 0.1066 - val_loss: 0.0902\n",
      "Epoch 82/600\n",
      "14/14 [==============================] - 0s 30ms/step - loss: 0.0999 - val_loss: 0.0906\n",
      "Epoch 83/600\n",
      "14/14 [==============================] - 0s 33ms/step - loss: 0.0834 - val_loss: 0.0963\n",
      "Epoch 84/600\n",
      "14/14 [==============================] - 0s 34ms/step - loss: 0.0991 - val_loss: 0.0898\n",
      "Epoch 85/600\n",
      "14/14 [==============================] - 0s 32ms/step - loss: 0.1021 - val_loss: 0.0925\n",
      "Epoch 86/600\n",
      "14/14 [==============================] - 0s 30ms/step - loss: 0.0854 - val_loss: 0.0916\n",
      "Epoch 87/600\n",
      "14/14 [==============================] - 0s 32ms/step - loss: 0.1006 - val_loss: 0.1022\n",
      "Epoch 88/600\n",
      "14/14 [==============================] - 0s 30ms/step - loss: 0.0880 - val_loss: 0.1053\n",
      "Epoch 89/600\n",
      "14/14 [==============================] - 1s 63ms/step - loss: 0.0936 - val_loss: 0.0917\n",
      "Epoch 90/600\n",
      "14/14 [==============================] - 0s 34ms/step - loss: 0.1126 - val_loss: 0.0971\n",
      "Epoch 91/600\n",
      "14/14 [==============================] - 0s 30ms/step - loss: 0.1166 - val_loss: 0.1095\n",
      "Epoch 92/600\n",
      "14/14 [==============================] - 0s 34ms/step - loss: 0.0962 - val_loss: 0.0929\n",
      "Epoch 93/600\n",
      "14/14 [==============================] - 0s 30ms/step - loss: 0.1056 - val_loss: 0.1010\n",
      "Epoch 94/600\n",
      "14/14 [==============================] - 0s 33ms/step - loss: 0.1024 - val_loss: 0.0910\n",
      "Epoch 95/600\n",
      "14/14 [==============================] - 0s 31ms/step - loss: 0.1069 - val_loss: 0.0969\n",
      "Epoch 96/600\n",
      "14/14 [==============================] - 0s 32ms/step - loss: 0.1050 - val_loss: 0.1105\n",
      "Epoch 97/600\n",
      "14/14 [==============================] - 0s 33ms/step - loss: 0.0843 - val_loss: 0.0905\n",
      "Epoch 98/600\n",
      "14/14 [==============================] - 0s 31ms/step - loss: 0.0905 - val_loss: 0.0923\n",
      "Epoch 99/600\n",
      "14/14 [==============================] - 0s 33ms/step - loss: 0.1018 - val_loss: 0.1018\n",
      "Epoch 100/600\n",
      "14/14 [==============================] - 1s 41ms/step - loss: 0.0869 - val_loss: 0.0980\n",
      "Epoch 101/600\n",
      "14/14 [==============================] - 0s 33ms/step - loss: 0.0840 - val_loss: 0.0905\n",
      "Epoch 102/600\n",
      "14/14 [==============================] - 0s 30ms/step - loss: 0.0988 - val_loss: 0.0875\n",
      "Epoch 103/600\n",
      "14/14 [==============================] - 0s 32ms/step - loss: 0.0800 - val_loss: 0.1059\n",
      "Epoch 104/600\n",
      "14/14 [==============================] - 0s 31ms/step - loss: 0.0795 - val_loss: 0.0921\n",
      "Epoch 105/600\n",
      "14/14 [==============================] - 0s 29ms/step - loss: 0.0818 - val_loss: 0.1113\n",
      "Epoch 106/600\n",
      "14/14 [==============================] - 0s 32ms/step - loss: 0.0734 - val_loss: 0.0956\n",
      "Epoch 107/600\n",
      "14/14 [==============================] - 0s 31ms/step - loss: 0.0852 - val_loss: 0.0898\n",
      "Epoch 108/600\n",
      "14/14 [==============================] - 1s 92ms/step - loss: 0.0889 - val_loss: 0.0908\n",
      "Epoch 109/600\n",
      "14/14 [==============================] - 0s 31ms/step - loss: 0.1072 - val_loss: 0.0991\n",
      "Epoch 110/600\n",
      "14/14 [==============================] - 0s 31ms/step - loss: 0.0927 - val_loss: 0.0998\n",
      "Epoch 111/600\n",
      "14/14 [==============================] - 0s 29ms/step - loss: 0.0761 - val_loss: 0.0908\n",
      "Epoch 112/600\n",
      "14/14 [==============================] - 0s 36ms/step - loss: 0.0810 - val_loss: 0.0946\n",
      "Epoch 113/600\n",
      "14/14 [==============================] - 1s 46ms/step - loss: 0.0848 - val_loss: 0.0938\n",
      "Epoch 114/600\n",
      "14/14 [==============================] - 0s 33ms/step - loss: 0.0930 - val_loss: 0.0920\n",
      "Epoch 115/600\n",
      "14/14 [==============================] - 0s 31ms/step - loss: 0.0776 - val_loss: 0.0956\n",
      "Epoch 116/600\n",
      "14/14 [==============================] - 0s 30ms/step - loss: 0.0893 - val_loss: 0.0931\n",
      "Epoch 117/600\n",
      "14/14 [==============================] - 0s 29ms/step - loss: 0.0888 - val_loss: 0.0909\n",
      "Epoch 118/600\n",
      "14/14 [==============================] - 0s 32ms/step - loss: 0.0680 - val_loss: 0.0977\n",
      "Epoch 119/600\n",
      "14/14 [==============================] - 0s 32ms/step - loss: 0.0706 - val_loss: 0.0914\n",
      "Epoch 120/600\n",
      "14/14 [==============================] - 0s 33ms/step - loss: 0.0673 - val_loss: 0.0974\n",
      "Epoch 121/600\n",
      "14/14 [==============================] - 0s 32ms/step - loss: 0.1047 - val_loss: 0.0987\n",
      "Epoch 122/600\n",
      "14/14 [==============================] - 0s 29ms/step - loss: 0.0905 - val_loss: 0.0972\n",
      "Epoch 123/600\n",
      "14/14 [==============================] - 1s 44ms/step - loss: 0.0892 - val_loss: 0.1047\n",
      "Epoch 124/600\n",
      "14/14 [==============================] - 0s 37ms/step - loss: 0.0868 - val_loss: 0.0908\n",
      "Epoch 125/600\n",
      "14/14 [==============================] - 0s 31ms/step - loss: 0.0768 - val_loss: 0.0892\n",
      "Epoch 126/600\n",
      "14/14 [==============================] - 1s 53ms/step - loss: 0.0812 - val_loss: 0.0900\n",
      "Epoch 127/600\n",
      "14/14 [==============================] - 1s 68ms/step - loss: 0.0885 - val_loss: 0.0975\n",
      "Epoch 127: early stopping\n"
     ]
    },
    {
     "data": {
      "text/plain": [
       "<keras.src.callbacks.History at 0x1fae8383c90>"
      ]
     },
     "execution_count": 24,
     "metadata": {},
     "output_type": "execute_result"
    }
   ],
   "source": [
    "model.fit(x=X_train, \n",
    "          y=y_train, \n",
    "          epochs=600,\n",
    "          validation_data=(X_test, y_test), verbose=1,\n",
    "          callbacks=[early_stop,board]\n",
    "          )"
   ]
  },
  {
   "cell_type": "markdown",
   "metadata": {},
   "source": [
    "# Running Tensorboard\n"
   ]
  },
  {
   "cell_type": "markdown",
   "metadata": {},
   "source": [
    "## Running through the Command Line\n",
    "\n",
    "**Watch video to see how to run Tensorboard through a command line call.**"
   ]
  },
  {
   "cell_type": "markdown",
   "metadata": {},
   "source": [
    "Tensorboard will run locally in your browser at [http://localhost:6006/](http://localhost:6006/)\n"
   ]
  },
  {
   "cell_type": "code",
   "execution_count": 25,
   "metadata": {},
   "outputs": [
    {
     "name": "stdout",
     "output_type": "stream",
     "text": [
      "logs\\fit\\09-09-2023--19-51\n"
     ]
    }
   ],
   "source": [
    "print(log_directory)"
   ]
  },
  {
   "cell_type": "code",
   "execution_count": 26,
   "metadata": {},
   "outputs": [
    {
     "data": {
      "text/plain": [
       "'D:\\\\Chirag\\\\git_repos\\\\practice\\\\py_practice\\\\python_data_science_ml_notebooks\\\\Course Notebooks\\\\TensorFlow_FILES\\\\ANNs'"
      ]
     },
     "execution_count": 26,
     "metadata": {},
     "output_type": "execute_result"
    }
   ],
   "source": [
    "pwd"
   ]
  },
  {
   "cell_type": "markdown",
   "metadata": {},
   "source": [
    "### Use cd at your command line to change directory to the file path reported back by pwd or your current .py file location.\n",
    "### Then run this code at your command line or terminal"
   ]
  },
  {
   "cell_type": "code",
   "execution_count": null,
   "metadata": {},
   "outputs": [],
   "source": [
    "tensorboard --logdir logs\\fit "
   ]
  }
 ],
 "metadata": {
  "kernelspec": {
   "display_name": "Python 3 (ipykernel)",
   "language": "python",
   "name": "python3"
  },
  "language_info": {
   "codemirror_mode": {
    "name": "ipython",
    "version": 3
   },
   "file_extension": ".py",
   "mimetype": "text/x-python",
   "name": "python",
   "nbconvert_exporter": "python",
   "pygments_lexer": "ipython3",
   "version": "3.11.4"
  }
 },
 "nbformat": 4,
 "nbformat_minor": 4
}
