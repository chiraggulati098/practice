{
 "cells": [
  {
   "cell_type": "markdown",
   "id": "0dee995c-dc6d-4c42-9866-59f570c2240e",
   "metadata": {},
   "source": [
    "#### Importing Libraries"
   ]
  },
  {
   "cell_type": "code",
   "execution_count": 25,
   "id": "a71bdb23-9f75-4ed8-9c27-99fa3404fa2e",
   "metadata": {},
   "outputs": [],
   "source": [
    "import numpy as np\n",
    "import pandas as pd\n",
    "import matplotlib.pyplot as plt\n",
    "import tensorflow as tf"
   ]
  },
  {
   "cell_type": "code",
   "execution_count": 26,
   "id": "b579b579-0922-4c96-a9f7-67f9290fddbb",
   "metadata": {},
   "outputs": [
    {
     "data": {
      "text/plain": [
       "'2.13.0'"
      ]
     },
     "execution_count": 26,
     "metadata": {},
     "output_type": "execute_result"
    }
   ],
   "source": [
    "tf.__version__"
   ]
  },
  {
   "cell_type": "markdown",
   "id": "f74bfce2-9539-446f-950d-d823af301db4",
   "metadata": {},
   "source": [
    "### Data Preprocessing"
   ]
  },
  {
   "cell_type": "code",
   "execution_count": 29,
   "id": "74fb8a68-90de-4d70-9a4a-073f6c84650a",
   "metadata": {},
   "outputs": [],
   "source": [
    "#importing dataset\n",
    "dataset = pd.read_csv('Churn_Modelling.csv')\n",
    "dataset.drop(['RowNumber','CustomerId','Surname'],axis=1,inplace=True)\n",
    "X = dataset.drop('Exited',axis=1)\n",
    "y = dataset['Exited']"
   ]
  },
  {
   "cell_type": "code",
   "execution_count": 30,
   "id": "d4ed0523-03ee-4965-a57e-cd68e026d641",
   "metadata": {},
   "outputs": [],
   "source": [
    "#encoding categorical columns\n",
    "X = pd.get_dummies(X,['Geography','Gender'],drop_first=True)"
   ]
  },
  {
   "cell_type": "code",
   "execution_count": 31,
   "id": "adca5390-66c5-4ffb-ae44-3e15c263a23a",
   "metadata": {},
   "outputs": [
    {
     "data": {
      "text/html": [
       "<div>\n",
       "<style scoped>\n",
       "    .dataframe tbody tr th:only-of-type {\n",
       "        vertical-align: middle;\n",
       "    }\n",
       "\n",
       "    .dataframe tbody tr th {\n",
       "        vertical-align: top;\n",
       "    }\n",
       "\n",
       "    .dataframe thead th {\n",
       "        text-align: right;\n",
       "    }\n",
       "</style>\n",
       "<table border=\"1\" class=\"dataframe\">\n",
       "  <thead>\n",
       "    <tr style=\"text-align: right;\">\n",
       "      <th></th>\n",
       "      <th>CreditScore</th>\n",
       "      <th>Age</th>\n",
       "      <th>Tenure</th>\n",
       "      <th>Balance</th>\n",
       "      <th>NumOfProducts</th>\n",
       "      <th>HasCrCard</th>\n",
       "      <th>IsActiveMember</th>\n",
       "      <th>EstimatedSalary</th>\n",
       "      <th>Geography_Germany</th>\n",
       "      <th>Geography_Spain</th>\n",
       "      <th>Gender_Male</th>\n",
       "    </tr>\n",
       "  </thead>\n",
       "  <tbody>\n",
       "    <tr>\n",
       "      <th>0</th>\n",
       "      <td>619</td>\n",
       "      <td>42</td>\n",
       "      <td>2</td>\n",
       "      <td>0.00</td>\n",
       "      <td>1</td>\n",
       "      <td>1</td>\n",
       "      <td>1</td>\n",
       "      <td>101348.88</td>\n",
       "      <td>False</td>\n",
       "      <td>False</td>\n",
       "      <td>False</td>\n",
       "    </tr>\n",
       "    <tr>\n",
       "      <th>1</th>\n",
       "      <td>608</td>\n",
       "      <td>41</td>\n",
       "      <td>1</td>\n",
       "      <td>83807.86</td>\n",
       "      <td>1</td>\n",
       "      <td>0</td>\n",
       "      <td>1</td>\n",
       "      <td>112542.58</td>\n",
       "      <td>False</td>\n",
       "      <td>True</td>\n",
       "      <td>False</td>\n",
       "    </tr>\n",
       "    <tr>\n",
       "      <th>2</th>\n",
       "      <td>502</td>\n",
       "      <td>42</td>\n",
       "      <td>8</td>\n",
       "      <td>159660.80</td>\n",
       "      <td>3</td>\n",
       "      <td>1</td>\n",
       "      <td>0</td>\n",
       "      <td>113931.57</td>\n",
       "      <td>False</td>\n",
       "      <td>False</td>\n",
       "      <td>False</td>\n",
       "    </tr>\n",
       "    <tr>\n",
       "      <th>3</th>\n",
       "      <td>699</td>\n",
       "      <td>39</td>\n",
       "      <td>1</td>\n",
       "      <td>0.00</td>\n",
       "      <td>2</td>\n",
       "      <td>0</td>\n",
       "      <td>0</td>\n",
       "      <td>93826.63</td>\n",
       "      <td>False</td>\n",
       "      <td>False</td>\n",
       "      <td>False</td>\n",
       "    </tr>\n",
       "    <tr>\n",
       "      <th>4</th>\n",
       "      <td>850</td>\n",
       "      <td>43</td>\n",
       "      <td>2</td>\n",
       "      <td>125510.82</td>\n",
       "      <td>1</td>\n",
       "      <td>1</td>\n",
       "      <td>1</td>\n",
       "      <td>79084.10</td>\n",
       "      <td>False</td>\n",
       "      <td>True</td>\n",
       "      <td>False</td>\n",
       "    </tr>\n",
       "  </tbody>\n",
       "</table>\n",
       "</div>"
      ],
      "text/plain": [
       "   CreditScore  Age  Tenure    Balance  NumOfProducts  HasCrCard  \\\n",
       "0          619   42       2       0.00              1          1   \n",
       "1          608   41       1   83807.86              1          0   \n",
       "2          502   42       8  159660.80              3          1   \n",
       "3          699   39       1       0.00              2          0   \n",
       "4          850   43       2  125510.82              1          1   \n",
       "\n",
       "   IsActiveMember  EstimatedSalary  Geography_Germany  Geography_Spain  \\\n",
       "0               1        101348.88              False            False   \n",
       "1               1        112542.58              False             True   \n",
       "2               0        113931.57              False            False   \n",
       "3               0         93826.63              False            False   \n",
       "4               1         79084.10              False             True   \n",
       "\n",
       "   Gender_Male  \n",
       "0        False  \n",
       "1        False  \n",
       "2        False  \n",
       "3        False  \n",
       "4        False  "
      ]
     },
     "execution_count": 31,
     "metadata": {},
     "output_type": "execute_result"
    }
   ],
   "source": [
    "X.head()"
   ]
  },
  {
   "cell_type": "code",
   "execution_count": 33,
   "id": "c510f4d2-97f9-4273-8bb3-86acad5d9bb3",
   "metadata": {},
   "outputs": [],
   "source": [
    "#split into training testing\n",
    "from sklearn.model_selection import train_test_split\n",
    "X_train, X_test, y_train, y_test = train_test_split(X, y, test_size=0.2, random_state=0)"
   ]
  },
  {
   "cell_type": "code",
   "execution_count": 34,
   "id": "c5f6f934-a216-4831-95f9-92614249e70c",
   "metadata": {},
   "outputs": [],
   "source": [
    "#feature scaling\n",
    "from sklearn.preprocessing import StandardScaler\n",
    "sc = StandardScaler()\n",
    "X_train = sc.fit_transform(X_train)\n",
    "X_test = sc.transform(X_test)"
   ]
  },
  {
   "cell_type": "markdown",
   "id": "ba638c7f-1bb5-42df-80e7-a71f772284c8",
   "metadata": {},
   "source": [
    "### Building ANN"
   ]
  },
  {
   "cell_type": "code",
   "execution_count": 36,
   "id": "f4df11e7-891b-4e2f-b0e3-8e9e019b7a01",
   "metadata": {},
   "outputs": [],
   "source": [
    "#initialize ANN\n",
    "from tensorflow.keras.models import Sequential\n",
    "ann = Sequential()"
   ]
  },
  {
   "cell_type": "code",
   "execution_count": 39,
   "id": "0f30791a-7967-4f03-addd-338805f1a031",
   "metadata": {},
   "outputs": [],
   "source": [
    "#adding input layer and 1st hidden layer\n",
    "from tensorflow.keras.layers import Dense\n",
    "ann.add(Dense(units=11,activation='relu'))"
   ]
  },
  {
   "cell_type": "code",
   "execution_count": 40,
   "id": "e241ba2c-63cd-4ed8-9e00-57623c86b3e9",
   "metadata": {},
   "outputs": [],
   "source": [
    "#adding 2nd hidden layer\n",
    "ann.add(Dense(units=6,activation='relu'))"
   ]
  },
  {
   "cell_type": "code",
   "execution_count": 41,
   "id": "6a0a511b-5d35-4e80-915c-fbc3bd1df011",
   "metadata": {},
   "outputs": [],
   "source": [
    "#adding output layer\n",
    "ann.add(Dense(units=1,activation='sigmoid'))"
   ]
  },
  {
   "cell_type": "markdown",
   "id": "27445f22-0a64-458f-8133-10b81bb68886",
   "metadata": {},
   "source": [
    "### Training the ANN"
   ]
  },
  {
   "cell_type": "code",
   "execution_count": 42,
   "id": "fe37acec-df83-436e-9242-54332e72d602",
   "metadata": {},
   "outputs": [],
   "source": [
    "#compile ANN\n",
    "ann.compile(optimizer='adam',loss='binary_crossentropy',metrics=['accuracy'])"
   ]
  },
  {
   "cell_type": "code",
   "execution_count": 43,
   "id": "7e852fbf-d3a1-4605-a8e8-52d00a17fa0c",
   "metadata": {},
   "outputs": [
    {
     "name": "stdout",
     "output_type": "stream",
     "text": [
      "Epoch 1/100\n",
      "534/534 [==============================] - 1s 1ms/step - loss: 0.4779 - accuracy: 0.7959\n",
      "Epoch 2/100\n",
      "534/534 [==============================] - 1s 1ms/step - loss: 0.4403 - accuracy: 0.7960\n",
      "Epoch 3/100\n",
      "534/534 [==============================] - 1s 1ms/step - loss: 0.4291 - accuracy: 0.7962\n",
      "Epoch 4/100\n",
      "534/534 [==============================] - 1s 1ms/step - loss: 0.4128 - accuracy: 0.8049\n",
      "Epoch 5/100\n",
      "534/534 [==============================] - 1s 1ms/step - loss: 0.3890 - accuracy: 0.8245\n",
      "Epoch 6/100\n",
      "534/534 [==============================] - 1s 1ms/step - loss: 0.3739 - accuracy: 0.8374\n",
      "Epoch 7/100\n",
      "534/534 [==============================] - 1s 1ms/step - loss: 0.3658 - accuracy: 0.8472\n",
      "Epoch 8/100\n",
      "534/534 [==============================] - 1s 1ms/step - loss: 0.3602 - accuracy: 0.8522\n",
      "Epoch 9/100\n",
      "534/534 [==============================] - 1s 1ms/step - loss: 0.3563 - accuracy: 0.8545\n",
      "Epoch 10/100\n",
      "534/534 [==============================] - 1s 1ms/step - loss: 0.3540 - accuracy: 0.8546\n",
      "Epoch 11/100\n",
      "534/534 [==============================] - 1s 1ms/step - loss: 0.3509 - accuracy: 0.8570\n",
      "Epoch 12/100\n",
      "534/534 [==============================] - 1s 1ms/step - loss: 0.3490 - accuracy: 0.8572\n",
      "Epoch 13/100\n",
      "534/534 [==============================] - 1s 1ms/step - loss: 0.3472 - accuracy: 0.8577\n",
      "Epoch 14/100\n",
      "534/534 [==============================] - 1s 1ms/step - loss: 0.3458 - accuracy: 0.8581\n",
      "Epoch 15/100\n",
      "534/534 [==============================] - 1s 1ms/step - loss: 0.3441 - accuracy: 0.8586\n",
      "Epoch 16/100\n",
      "534/534 [==============================] - 1s 1ms/step - loss: 0.3434 - accuracy: 0.8595\n",
      "Epoch 17/100\n",
      "534/534 [==============================] - 1s 1ms/step - loss: 0.3418 - accuracy: 0.8606\n",
      "Epoch 18/100\n",
      "534/534 [==============================] - 1s 1ms/step - loss: 0.3414 - accuracy: 0.8619\n",
      "Epoch 19/100\n",
      "534/534 [==============================] - 1s 1ms/step - loss: 0.3403 - accuracy: 0.8609\n",
      "Epoch 20/100\n",
      "534/534 [==============================] - 1s 1ms/step - loss: 0.3396 - accuracy: 0.8611\n",
      "Epoch 21/100\n",
      "534/534 [==============================] - 1s 1ms/step - loss: 0.3388 - accuracy: 0.8619\n",
      "Epoch 22/100\n",
      "534/534 [==============================] - 1s 1ms/step - loss: 0.3382 - accuracy: 0.8618\n",
      "Epoch 23/100\n",
      "534/534 [==============================] - 1s 1ms/step - loss: 0.3371 - accuracy: 0.8621\n",
      "Epoch 24/100\n",
      "534/534 [==============================] - 1s 1ms/step - loss: 0.3365 - accuracy: 0.8620\n",
      "Epoch 25/100\n",
      "534/534 [==============================] - 1s 1ms/step - loss: 0.3363 - accuracy: 0.8624\n",
      "Epoch 26/100\n",
      "534/534 [==============================] - 1s 1ms/step - loss: 0.3354 - accuracy: 0.8625\n",
      "Epoch 27/100\n",
      "534/534 [==============================] - 1s 1ms/step - loss: 0.3351 - accuracy: 0.8631\n",
      "Epoch 28/100\n",
      "534/534 [==============================] - 1s 1ms/step - loss: 0.3350 - accuracy: 0.8630\n",
      "Epoch 29/100\n",
      "534/534 [==============================] - 1s 1ms/step - loss: 0.3346 - accuracy: 0.8625\n",
      "Epoch 30/100\n",
      "534/534 [==============================] - 1s 1ms/step - loss: 0.3336 - accuracy: 0.8633\n",
      "Epoch 31/100\n",
      "534/534 [==============================] - 1s 1ms/step - loss: 0.3333 - accuracy: 0.8648\n",
      "Epoch 32/100\n",
      "534/534 [==============================] - 1s 1ms/step - loss: 0.3332 - accuracy: 0.8633\n",
      "Epoch 33/100\n",
      "534/534 [==============================] - 1s 1ms/step - loss: 0.3332 - accuracy: 0.8645\n",
      "Epoch 34/100\n",
      "534/534 [==============================] - 1s 1ms/step - loss: 0.3328 - accuracy: 0.8654\n",
      "Epoch 35/100\n",
      "534/534 [==============================] - 1s 1ms/step - loss: 0.3321 - accuracy: 0.8644\n",
      "Epoch 36/100\n",
      "534/534 [==============================] - 1s 1ms/step - loss: 0.3322 - accuracy: 0.8643\n",
      "Epoch 37/100\n",
      "534/534 [==============================] - 1s 1ms/step - loss: 0.3317 - accuracy: 0.8661\n",
      "Epoch 38/100\n",
      "534/534 [==============================] - 1s 1ms/step - loss: 0.3312 - accuracy: 0.8656\n",
      "Epoch 39/100\n",
      "534/534 [==============================] - 1s 1ms/step - loss: 0.3313 - accuracy: 0.8648\n",
      "Epoch 40/100\n",
      "534/534 [==============================] - 1s 1ms/step - loss: 0.3311 - accuracy: 0.8645\n",
      "Epoch 41/100\n",
      "534/534 [==============================] - 1s 1ms/step - loss: 0.3311 - accuracy: 0.8637\n",
      "Epoch 42/100\n",
      "534/534 [==============================] - 1s 1ms/step - loss: 0.3308 - accuracy: 0.8656\n",
      "Epoch 43/100\n",
      "534/534 [==============================] - 1s 1ms/step - loss: 0.3310 - accuracy: 0.8639\n",
      "Epoch 44/100\n",
      "534/534 [==============================] - 1s 1ms/step - loss: 0.3302 - accuracy: 0.8639\n",
      "Epoch 45/100\n",
      "534/534 [==============================] - 1s 1ms/step - loss: 0.3301 - accuracy: 0.8658\n",
      "Epoch 46/100\n",
      "534/534 [==============================] - 1s 1ms/step - loss: 0.3297 - accuracy: 0.8637\n",
      "Epoch 47/100\n",
      "534/534 [==============================] - 1s 1ms/step - loss: 0.3297 - accuracy: 0.8654\n",
      "Epoch 48/100\n",
      "534/534 [==============================] - 1s 2ms/step - loss: 0.3295 - accuracy: 0.8637\n",
      "Epoch 49/100\n",
      "534/534 [==============================] - 1s 1ms/step - loss: 0.3294 - accuracy: 0.8660\n",
      "Epoch 50/100\n",
      "534/534 [==============================] - 1s 1ms/step - loss: 0.3292 - accuracy: 0.8648\n",
      "Epoch 51/100\n",
      "534/534 [==============================] - 1s 1ms/step - loss: 0.3291 - accuracy: 0.8668\n",
      "Epoch 52/100\n",
      "534/534 [==============================] - 1s 1ms/step - loss: 0.3291 - accuracy: 0.8655\n",
      "Epoch 53/100\n",
      "534/534 [==============================] - 1s 1ms/step - loss: 0.3287 - accuracy: 0.8654\n",
      "Epoch 54/100\n",
      "534/534 [==============================] - 1s 1ms/step - loss: 0.3289 - accuracy: 0.8666\n",
      "Epoch 55/100\n",
      "534/534 [==============================] - 1s 1ms/step - loss: 0.3291 - accuracy: 0.8646\n",
      "Epoch 56/100\n",
      "534/534 [==============================] - 1s 1ms/step - loss: 0.3288 - accuracy: 0.8658\n",
      "Epoch 57/100\n",
      "534/534 [==============================] - 1s 1ms/step - loss: 0.3288 - accuracy: 0.8654\n",
      "Epoch 58/100\n",
      "534/534 [==============================] - 1s 1ms/step - loss: 0.3285 - accuracy: 0.8658\n",
      "Epoch 59/100\n",
      "534/534 [==============================] - 1s 1ms/step - loss: 0.3281 - accuracy: 0.8652\n",
      "Epoch 60/100\n",
      "534/534 [==============================] - 1s 1ms/step - loss: 0.3281 - accuracy: 0.8668\n",
      "Epoch 61/100\n",
      "534/534 [==============================] - 1s 2ms/step - loss: 0.3285 - accuracy: 0.8664\n",
      "Epoch 62/100\n",
      "534/534 [==============================] - 1s 2ms/step - loss: 0.3276 - accuracy: 0.8679\n",
      "Epoch 63/100\n",
      "534/534 [==============================] - 1s 2ms/step - loss: 0.3280 - accuracy: 0.8651\n",
      "Epoch 64/100\n",
      "534/534 [==============================] - 1s 1ms/step - loss: 0.3277 - accuracy: 0.8666\n",
      "Epoch 65/100\n",
      "534/534 [==============================] - 1s 1ms/step - loss: 0.3281 - accuracy: 0.8660\n",
      "Epoch 66/100\n",
      "534/534 [==============================] - 1s 1ms/step - loss: 0.3280 - accuracy: 0.8645\n",
      "Epoch 67/100\n",
      "534/534 [==============================] - 1s 1ms/step - loss: 0.3279 - accuracy: 0.8662\n",
      "Epoch 68/100\n",
      "534/534 [==============================] - 1s 1ms/step - loss: 0.3281 - accuracy: 0.8654\n",
      "Epoch 69/100\n",
      "534/534 [==============================] - 1s 1ms/step - loss: 0.3278 - accuracy: 0.8661\n",
      "Epoch 70/100\n",
      "534/534 [==============================] - 1s 1ms/step - loss: 0.3276 - accuracy: 0.8656\n",
      "Epoch 71/100\n",
      "534/534 [==============================] - 1s 1ms/step - loss: 0.3281 - accuracy: 0.8661\n",
      "Epoch 72/100\n",
      "534/534 [==============================] - 1s 1ms/step - loss: 0.3274 - accuracy: 0.8668\n",
      "Epoch 73/100\n",
      "534/534 [==============================] - 1s 1ms/step - loss: 0.3276 - accuracy: 0.8658\n",
      "Epoch 74/100\n",
      "534/534 [==============================] - 1s 1ms/step - loss: 0.3276 - accuracy: 0.8666\n",
      "Epoch 75/100\n",
      "534/534 [==============================] - 1s 1ms/step - loss: 0.3271 - accuracy: 0.8652\n",
      "Epoch 76/100\n",
      "534/534 [==============================] - 1s 1ms/step - loss: 0.3274 - accuracy: 0.8650\n",
      "Epoch 77/100\n",
      "534/534 [==============================] - 1s 1ms/step - loss: 0.3275 - accuracy: 0.8656\n",
      "Epoch 78/100\n",
      "534/534 [==============================] - 1s 1ms/step - loss: 0.3270 - accuracy: 0.8666\n",
      "Epoch 79/100\n",
      "534/534 [==============================] - 1s 1ms/step - loss: 0.3273 - accuracy: 0.8661\n",
      "Epoch 80/100\n",
      "534/534 [==============================] - 1s 1ms/step - loss: 0.3274 - accuracy: 0.8661\n",
      "Epoch 81/100\n",
      "534/534 [==============================] - 1s 1ms/step - loss: 0.3270 - accuracy: 0.8673\n",
      "Epoch 82/100\n",
      "534/534 [==============================] - 1s 1ms/step - loss: 0.3273 - accuracy: 0.8650\n",
      "Epoch 83/100\n",
      "534/534 [==============================] - 1s 1ms/step - loss: 0.3268 - accuracy: 0.8675\n",
      "Epoch 84/100\n",
      "534/534 [==============================] - 1s 1ms/step - loss: 0.3268 - accuracy: 0.8668\n",
      "Epoch 85/100\n",
      "534/534 [==============================] - 1s 1ms/step - loss: 0.3264 - accuracy: 0.8656\n",
      "Epoch 86/100\n",
      "534/534 [==============================] - 1s 1ms/step - loss: 0.3265 - accuracy: 0.8661\n",
      "Epoch 87/100\n",
      "534/534 [==============================] - 1s 1ms/step - loss: 0.3270 - accuracy: 0.8666\n",
      "Epoch 88/100\n",
      "534/534 [==============================] - 1s 1ms/step - loss: 0.3264 - accuracy: 0.8655\n",
      "Epoch 89/100\n",
      "534/534 [==============================] - 1s 1ms/step - loss: 0.3262 - accuracy: 0.8659\n",
      "Epoch 90/100\n",
      "534/534 [==============================] - 1s 1ms/step - loss: 0.3262 - accuracy: 0.8661\n",
      "Epoch 91/100\n",
      "534/534 [==============================] - 1s 1ms/step - loss: 0.3259 - accuracy: 0.8674\n",
      "Epoch 92/100\n",
      "534/534 [==============================] - 1s 1ms/step - loss: 0.3262 - accuracy: 0.8680\n",
      "Epoch 93/100\n",
      "534/534 [==============================] - 1s 1ms/step - loss: 0.3256 - accuracy: 0.8666\n",
      "Epoch 94/100\n",
      "534/534 [==============================] - 1s 1ms/step - loss: 0.3265 - accuracy: 0.8648\n",
      "Epoch 95/100\n",
      "534/534 [==============================] - 1s 1ms/step - loss: 0.3254 - accuracy: 0.8674\n",
      "Epoch 96/100\n",
      "534/534 [==============================] - 1s 1ms/step - loss: 0.3252 - accuracy: 0.8654\n",
      "Epoch 97/100\n",
      "534/534 [==============================] - 1s 1ms/step - loss: 0.3260 - accuracy: 0.8665\n",
      "Epoch 98/100\n",
      "534/534 [==============================] - 1s 1ms/step - loss: 0.3257 - accuracy: 0.8666\n",
      "Epoch 99/100\n",
      "534/534 [==============================] - 1s 1ms/step - loss: 0.3257 - accuracy: 0.8656\n",
      "Epoch 100/100\n",
      "534/534 [==============================] - 1s 1ms/step - loss: 0.3255 - accuracy: 0.8670\n"
     ]
    },
    {
     "data": {
      "text/plain": [
       "<keras.src.callbacks.History at 0x23a2feae990>"
      ]
     },
     "execution_count": 43,
     "metadata": {},
     "output_type": "execute_result"
    }
   ],
   "source": [
    "#train ANN\n",
    "ann.fit(X_train,y_train,batch_size=15,epochs=100)"
   ]
  },
  {
   "cell_type": "markdown",
   "id": "a340501b-9594-4d15-943f-612519f25887",
   "metadata": {},
   "source": [
    "### Testing the ANN Model"
   ]
  },
  {
   "cell_type": "code",
   "execution_count": 60,
   "id": "8fbb2d8f-2fc3-4752-a07c-b436e81d8a21",
   "metadata": {},
   "outputs": [
    {
     "name": "stdout",
     "output_type": "stream",
     "text": [
      "1/1 [==============================] - 0s 19ms/step\n",
      "[[False]]\n"
     ]
    },
    {
     "name": "stderr",
     "output_type": "stream",
     "text": [
      "C:\\Users\\chira\\AppData\\Local\\Programs\\Python\\Python311\\Lib\\site-packages\\sklearn\\base.py:464: UserWarning: X does not have valid feature names, but StandardScaler was fitted with feature names\n",
      "  warnings.warn(\n"
     ]
    }
   ],
   "source": [
    "#predicting one entry\n",
    "print(ann.predict(sc.transform([[600,40,3,60000,2,1,1,50000,False,False,True]]))>0.5)"
   ]
  },
  {
   "cell_type": "code",
   "execution_count": 62,
   "id": "8292f535-4ca7-4841-9a71-20a976a7b142",
   "metadata": {},
   "outputs": [
    {
     "name": "stdout",
     "output_type": "stream",
     "text": [
      "63/63 [==============================] - 0s 1ms/step\n"
     ]
    }
   ],
   "source": [
    "#predicting test set\n",
    "y_pred = (ann.predict(X_test)>0.5)"
   ]
  },
  {
   "cell_type": "code",
   "execution_count": 63,
   "id": "af812f3d-2c4c-4584-ad60-ddeda60389e4",
   "metadata": {},
   "outputs": [
    {
     "name": "stdout",
     "output_type": "stream",
     "text": [
      "0.857\n",
      "[[1511   84]\n",
      " [ 202  203]]\n"
     ]
    }
   ],
   "source": [
    "from sklearn.metrics import confusion_matrix, accuracy_score\n",
    "print(accuracy_score(y_test,y_pred))\n",
    "print(confusion_matrix(y_test,y_pred))"
   ]
  },
  {
   "cell_type": "code",
   "execution_count": null,
   "id": "bea4a5dd-65ae-4ccc-91b8-c7eb8c5985a1",
   "metadata": {},
   "outputs": [],
   "source": []
  }
 ],
 "metadata": {
  "kernelspec": {
   "display_name": "Python 3 (ipykernel)",
   "language": "python",
   "name": "python3"
  },
  "language_info": {
   "codemirror_mode": {
    "name": "ipython",
    "version": 3
   },
   "file_extension": ".py",
   "mimetype": "text/x-python",
   "name": "python",
   "nbconvert_exporter": "python",
   "pygments_lexer": "ipython3",
   "version": "3.11.4"
  }
 },
 "nbformat": 4,
 "nbformat_minor": 5
}
