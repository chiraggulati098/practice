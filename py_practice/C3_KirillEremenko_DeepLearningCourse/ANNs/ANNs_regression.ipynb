{
 "cells": [
  {
   "cell_type": "markdown",
   "id": "0dee995c-dc6d-4c42-9866-59f570c2240e",
   "metadata": {},
   "source": [
    "#### Importing Libraries"
   ]
  },
  {
   "cell_type": "code",
   "execution_count": 2,
   "id": "a71bdb23-9f75-4ed8-9c27-99fa3404fa2e",
   "metadata": {},
   "outputs": [],
   "source": [
    "import numpy as np\n",
    "import pandas as pd\n",
    "import matplotlib.pyplot as plt\n",
    "import tensorflow as tf"
   ]
  },
  {
   "cell_type": "code",
   "execution_count": 3,
   "id": "b579b579-0922-4c96-a9f7-67f9290fddbb",
   "metadata": {},
   "outputs": [
    {
     "data": {
      "text/plain": [
       "'2.13.0'"
      ]
     },
     "execution_count": 3,
     "metadata": {},
     "output_type": "execute_result"
    }
   ],
   "source": [
    "tf.__version__"
   ]
  },
  {
   "cell_type": "markdown",
   "id": "f74bfce2-9539-446f-950d-d823af301db4",
   "metadata": {},
   "source": [
    "### Data Preprocessing"
   ]
  },
  {
   "cell_type": "code",
   "execution_count": 12,
   "id": "74fb8a68-90de-4d70-9a4a-073f6c84650a",
   "metadata": {},
   "outputs": [],
   "source": [
    "#importing dataset\n",
    "dataset = pd.read_excel('Folds5x2_pp.xlsx')\n",
    "target = 'PE'\n",
    "X = dataset.drop(target,axis=1)\n",
    "y = dataset[target]"
   ]
  },
  {
   "cell_type": "code",
   "execution_count": 9,
   "id": "844f4875-e929-457c-b982-08c046c5ee0d",
   "metadata": {},
   "outputs": [
    {
     "data": {
      "text/html": [
       "<div>\n",
       "<style scoped>\n",
       "    .dataframe tbody tr th:only-of-type {\n",
       "        vertical-align: middle;\n",
       "    }\n",
       "\n",
       "    .dataframe tbody tr th {\n",
       "        vertical-align: top;\n",
       "    }\n",
       "\n",
       "    .dataframe thead th {\n",
       "        text-align: right;\n",
       "    }\n",
       "</style>\n",
       "<table border=\"1\" class=\"dataframe\">\n",
       "  <thead>\n",
       "    <tr style=\"text-align: right;\">\n",
       "      <th></th>\n",
       "      <th>AT</th>\n",
       "      <th>V</th>\n",
       "      <th>AP</th>\n",
       "      <th>RH</th>\n",
       "    </tr>\n",
       "  </thead>\n",
       "  <tbody>\n",
       "    <tr>\n",
       "      <th>0</th>\n",
       "      <td>14.96</td>\n",
       "      <td>41.76</td>\n",
       "      <td>1024.07</td>\n",
       "      <td>73.17</td>\n",
       "    </tr>\n",
       "    <tr>\n",
       "      <th>1</th>\n",
       "      <td>25.18</td>\n",
       "      <td>62.96</td>\n",
       "      <td>1020.04</td>\n",
       "      <td>59.08</td>\n",
       "    </tr>\n",
       "    <tr>\n",
       "      <th>2</th>\n",
       "      <td>5.11</td>\n",
       "      <td>39.40</td>\n",
       "      <td>1012.16</td>\n",
       "      <td>92.14</td>\n",
       "    </tr>\n",
       "    <tr>\n",
       "      <th>3</th>\n",
       "      <td>20.86</td>\n",
       "      <td>57.32</td>\n",
       "      <td>1010.24</td>\n",
       "      <td>76.64</td>\n",
       "    </tr>\n",
       "    <tr>\n",
       "      <th>4</th>\n",
       "      <td>10.82</td>\n",
       "      <td>37.50</td>\n",
       "      <td>1009.23</td>\n",
       "      <td>96.62</td>\n",
       "    </tr>\n",
       "  </tbody>\n",
       "</table>\n",
       "</div>"
      ],
      "text/plain": [
       "      AT      V       AP     RH\n",
       "0  14.96  41.76  1024.07  73.17\n",
       "1  25.18  62.96  1020.04  59.08\n",
       "2   5.11  39.40  1012.16  92.14\n",
       "3  20.86  57.32  1010.24  76.64\n",
       "4  10.82  37.50  1009.23  96.62"
      ]
     },
     "execution_count": 9,
     "metadata": {},
     "output_type": "execute_result"
    }
   ],
   "source": [
    "X.head()"
   ]
  },
  {
   "cell_type": "code",
   "execution_count": 10,
   "id": "adca5390-66c5-4ffb-ae44-3e15c263a23a",
   "metadata": {},
   "outputs": [
    {
     "data": {
      "text/plain": [
       "0    463.26\n",
       "1    444.37\n",
       "2    488.56\n",
       "3    446.48\n",
       "4    473.90\n",
       "Name: PE, dtype: float64"
      ]
     },
     "execution_count": 10,
     "metadata": {},
     "output_type": "execute_result"
    }
   ],
   "source": [
    "y.head()"
   ]
  },
  {
   "cell_type": "code",
   "execution_count": 13,
   "id": "c510f4d2-97f9-4273-8bb3-86acad5d9bb3",
   "metadata": {},
   "outputs": [],
   "source": [
    "#split into training testing\n",
    "from sklearn.model_selection import train_test_split\n",
    "X_train, X_test, y_train, y_test = train_test_split(X, y, test_size=0.2, random_state=0)"
   ]
  },
  {
   "cell_type": "code",
   "execution_count": 14,
   "id": "c5f6f934-a216-4831-95f9-92614249e70c",
   "metadata": {},
   "outputs": [],
   "source": [
    "#feature scaling\n",
    "from sklearn.preprocessing import StandardScaler\n",
    "sc = StandardScaler()\n",
    "X_train = sc.fit_transform(X_train)\n",
    "X_test = sc.transform(X_test)"
   ]
  },
  {
   "cell_type": "markdown",
   "id": "ba638c7f-1bb5-42df-80e7-a71f772284c8",
   "metadata": {},
   "source": [
    "### Building ANN"
   ]
  },
  {
   "cell_type": "code",
   "execution_count": 15,
   "id": "f4df11e7-891b-4e2f-b0e3-8e9e019b7a01",
   "metadata": {},
   "outputs": [],
   "source": [
    "#initialize ANN\n",
    "from tensorflow.keras.models import Sequential\n",
    "ann = Sequential()"
   ]
  },
  {
   "cell_type": "code",
   "execution_count": 16,
   "id": "0f30791a-7967-4f03-addd-338805f1a031",
   "metadata": {},
   "outputs": [],
   "source": [
    "#adding input layer and 1st hidden layer\n",
    "from tensorflow.keras.layers import Dense\n",
    "ann.add(Dense(units=6,activation='relu'))"
   ]
  },
  {
   "cell_type": "code",
   "execution_count": 17,
   "id": "e241ba2c-63cd-4ed8-9e00-57623c86b3e9",
   "metadata": {},
   "outputs": [],
   "source": [
    "#adding 2nd hidden layer\n",
    "ann.add(Dense(units=6,activation='relu'))"
   ]
  },
  {
   "cell_type": "code",
   "execution_count": 18,
   "id": "6a0a511b-5d35-4e80-915c-fbc3bd1df011",
   "metadata": {},
   "outputs": [],
   "source": [
    "#adding output layer\n",
    "ann.add(Dense(units=1))"
   ]
  },
  {
   "cell_type": "markdown",
   "id": "27445f22-0a64-458f-8133-10b81bb68886",
   "metadata": {},
   "source": [
    "### Training the ANN"
   ]
  },
  {
   "cell_type": "code",
   "execution_count": 19,
   "id": "fe37acec-df83-436e-9242-54332e72d602",
   "metadata": {},
   "outputs": [],
   "source": [
    "#compile ANN\n",
    "ann.compile(optimizer='adam',loss='mean_squared_error')"
   ]
  },
  {
   "cell_type": "code",
   "execution_count": 20,
   "id": "7e852fbf-d3a1-4605-a8e8-52d00a17fa0c",
   "metadata": {},
   "outputs": [
    {
     "name": "stdout",
     "output_type": "stream",
     "text": [
      "Epoch 1/100\n",
      "240/240 [==============================] - 1s 1ms/step - loss: 206163.9062\n",
      "Epoch 2/100\n",
      "240/240 [==============================] - 0s 1ms/step - loss: 202534.0000\n",
      "Epoch 3/100\n",
      "240/240 [==============================] - 0s 1ms/step - loss: 191066.1094\n",
      "Epoch 4/100\n",
      "240/240 [==============================] - 0s 1ms/step - loss: 168067.0781\n",
      "Epoch 5/100\n",
      "240/240 [==============================] - 0s 1ms/step - loss: 134999.5781\n",
      "Epoch 6/100\n",
      "240/240 [==============================] - 0s 1ms/step - loss: 98155.5156\n",
      "Epoch 7/100\n",
      "240/240 [==============================] - 0s 1ms/step - loss: 65752.1406\n",
      "Epoch 8/100\n",
      "240/240 [==============================] - 0s 1ms/step - loss: 43036.6016\n",
      "Epoch 9/100\n",
      "240/240 [==============================] - 0s 1ms/step - loss: 29740.1973\n",
      "Epoch 10/100\n",
      "240/240 [==============================] - 0s 1ms/step - loss: 22282.5176\n",
      "Epoch 11/100\n",
      "240/240 [==============================] - 0s 1ms/step - loss: 17821.8398\n",
      "Epoch 12/100\n",
      "240/240 [==============================] - 0s 1ms/step - loss: 14825.2822\n",
      "Epoch 13/100\n",
      "240/240 [==============================] - 0s 1ms/step - loss: 12431.1406\n",
      "Epoch 14/100\n",
      "240/240 [==============================] - 0s 1ms/step - loss: 10275.2852\n",
      "Epoch 15/100\n",
      "240/240 [==============================] - 0s 1ms/step - loss: 8259.3115\n",
      "Epoch 16/100\n",
      "240/240 [==============================] - 0s 1ms/step - loss: 6427.3677\n",
      "Epoch 17/100\n",
      "240/240 [==============================] - 0s 1ms/step - loss: 4847.1890\n",
      "Epoch 18/100\n",
      "240/240 [==============================] - 0s 1ms/step - loss: 3564.2668\n",
      "Epoch 19/100\n",
      "240/240 [==============================] - 0s 1ms/step - loss: 2602.4951\n",
      "Epoch 20/100\n",
      "240/240 [==============================] - 0s 1ms/step - loss: 1897.0922\n",
      "Epoch 21/100\n",
      "240/240 [==============================] - 0s 1ms/step - loss: 1378.9642\n",
      "Epoch 22/100\n",
      "240/240 [==============================] - 0s 1ms/step - loss: 1002.9792\n",
      "Epoch 23/100\n",
      "240/240 [==============================] - 0s 1ms/step - loss: 731.5222\n",
      "Epoch 24/100\n",
      "240/240 [==============================] - 0s 1ms/step - loss: 536.5602\n",
      "Epoch 25/100\n",
      "240/240 [==============================] - 0s 1ms/step - loss: 392.2799\n",
      "Epoch 26/100\n",
      "240/240 [==============================] - 0s 1ms/step - loss: 281.2030\n",
      "Epoch 27/100\n",
      "240/240 [==============================] - 0s 1ms/step - loss: 202.5556\n",
      "Epoch 28/100\n",
      "240/240 [==============================] - 0s 1ms/step - loss: 148.2686\n",
      "Epoch 29/100\n",
      "240/240 [==============================] - 0s 1ms/step - loss: 111.0499\n",
      "Epoch 30/100\n",
      "240/240 [==============================] - 0s 1ms/step - loss: 85.3471\n",
      "Epoch 31/100\n",
      "240/240 [==============================] - 0s 1ms/step - loss: 66.7472\n",
      "Epoch 32/100\n",
      "240/240 [==============================] - 0s 1ms/step - loss: 54.5665\n",
      "Epoch 33/100\n",
      "240/240 [==============================] - 0s 1ms/step - loss: 46.3820\n",
      "Epoch 34/100\n",
      "240/240 [==============================] - 0s 1ms/step - loss: 40.6386\n",
      "Epoch 35/100\n",
      "240/240 [==============================] - 0s 1ms/step - loss: 36.4456\n",
      "Epoch 36/100\n",
      "240/240 [==============================] - 0s 1ms/step - loss: 33.0677\n",
      "Epoch 37/100\n",
      "240/240 [==============================] - 0s 1ms/step - loss: 30.5672\n",
      "Epoch 38/100\n",
      "240/240 [==============================] - 0s 1ms/step - loss: 28.4821\n",
      "Epoch 39/100\n",
      "240/240 [==============================] - 0s 1ms/step - loss: 26.9405\n",
      "Epoch 40/100\n",
      "240/240 [==============================] - 0s 1ms/step - loss: 25.8659\n",
      "Epoch 41/100\n",
      "240/240 [==============================] - 0s 1ms/step - loss: 24.8392\n",
      "Epoch 42/100\n",
      "240/240 [==============================] - 0s 1ms/step - loss: 24.1547\n",
      "Epoch 43/100\n",
      "240/240 [==============================] - 0s 1ms/step - loss: 23.6067\n",
      "Epoch 44/100\n",
      "240/240 [==============================] - 0s 1ms/step - loss: 23.1213\n",
      "Epoch 45/100\n",
      "240/240 [==============================] - 0s 1ms/step - loss: 22.7295\n",
      "Epoch 46/100\n",
      "240/240 [==============================] - 0s 1ms/step - loss: 22.5686\n",
      "Epoch 47/100\n",
      "240/240 [==============================] - 0s 1ms/step - loss: 22.2719\n",
      "Epoch 48/100\n",
      "240/240 [==============================] - 0s 1ms/step - loss: 22.0803\n",
      "Epoch 49/100\n",
      "240/240 [==============================] - 0s 1ms/step - loss: 21.9425\n",
      "Epoch 50/100\n",
      "240/240 [==============================] - 0s 1ms/step - loss: 21.7726\n",
      "Epoch 51/100\n",
      "240/240 [==============================] - 0s 1ms/step - loss: 21.6839\n",
      "Epoch 52/100\n",
      "240/240 [==============================] - 0s 1ms/step - loss: 21.5857\n",
      "Epoch 53/100\n",
      "240/240 [==============================] - 0s 1ms/step - loss: 21.5617\n",
      "Epoch 54/100\n",
      "240/240 [==============================] - 0s 1ms/step - loss: 21.5279\n",
      "Epoch 55/100\n",
      "240/240 [==============================] - 0s 1ms/step - loss: 21.3303\n",
      "Epoch 56/100\n",
      "240/240 [==============================] - 0s 1ms/step - loss: 21.3125\n",
      "Epoch 57/100\n",
      "240/240 [==============================] - 0s 1ms/step - loss: 21.3785\n",
      "Epoch 58/100\n",
      "240/240 [==============================] - 0s 1ms/step - loss: 21.2440\n",
      "Epoch 59/100\n",
      "240/240 [==============================] - 0s 1ms/step - loss: 21.2458\n",
      "Epoch 60/100\n",
      "240/240 [==============================] - 0s 1ms/step - loss: 21.2124\n",
      "Epoch 61/100\n",
      "240/240 [==============================] - 0s 1ms/step - loss: 21.1743\n",
      "Epoch 62/100\n",
      "240/240 [==============================] - 0s 1ms/step - loss: 21.2312\n",
      "Epoch 63/100\n",
      "240/240 [==============================] - 0s 1ms/step - loss: 21.1617\n",
      "Epoch 64/100\n",
      "240/240 [==============================] - 0s 1ms/step - loss: 21.0826\n",
      "Epoch 65/100\n",
      "240/240 [==============================] - 0s 1ms/step - loss: 21.0716\n",
      "Epoch 66/100\n",
      "240/240 [==============================] - 0s 1ms/step - loss: 21.0265\n",
      "Epoch 67/100\n",
      "240/240 [==============================] - 0s 1ms/step - loss: 20.9870\n",
      "Epoch 68/100\n",
      "240/240 [==============================] - 0s 1ms/step - loss: 20.9669\n",
      "Epoch 69/100\n",
      "240/240 [==============================] - 0s 1ms/step - loss: 21.0589\n",
      "Epoch 70/100\n",
      "240/240 [==============================] - 0s 1ms/step - loss: 20.9247\n",
      "Epoch 71/100\n",
      "240/240 [==============================] - 0s 1ms/step - loss: 21.0886\n",
      "Epoch 72/100\n",
      "240/240 [==============================] - 0s 1ms/step - loss: 20.9929\n",
      "Epoch 73/100\n",
      "240/240 [==============================] - 0s 1ms/step - loss: 20.9429\n",
      "Epoch 74/100\n",
      "240/240 [==============================] - 0s 1ms/step - loss: 20.9855\n",
      "Epoch 75/100\n",
      "240/240 [==============================] - 0s 1ms/step - loss: 20.9568\n",
      "Epoch 76/100\n",
      "240/240 [==============================] - 0s 1ms/step - loss: 20.9676\n",
      "Epoch 77/100\n",
      "240/240 [==============================] - 0s 1ms/step - loss: 20.9851\n",
      "Epoch 78/100\n",
      "240/240 [==============================] - 0s 1ms/step - loss: 20.8921\n",
      "Epoch 79/100\n",
      "240/240 [==============================] - 0s 1ms/step - loss: 20.9184\n",
      "Epoch 80/100\n",
      "240/240 [==============================] - 0s 1ms/step - loss: 20.8760\n",
      "Epoch 81/100\n",
      "240/240 [==============================] - 0s 1ms/step - loss: 20.8460\n",
      "Epoch 82/100\n",
      "240/240 [==============================] - 0s 1ms/step - loss: 20.9047\n",
      "Epoch 83/100\n",
      "240/240 [==============================] - 0s 1ms/step - loss: 20.8546\n",
      "Epoch 84/100\n",
      "240/240 [==============================] - 0s 1ms/step - loss: 20.8961\n",
      "Epoch 85/100\n",
      "240/240 [==============================] - 0s 1ms/step - loss: 20.8288\n",
      "Epoch 86/100\n",
      "240/240 [==============================] - 0s 1ms/step - loss: 20.8546\n",
      "Epoch 87/100\n",
      "240/240 [==============================] - 0s 1ms/step - loss: 20.8254\n",
      "Epoch 88/100\n",
      "240/240 [==============================] - 0s 1ms/step - loss: 20.7950\n",
      "Epoch 89/100\n",
      "240/240 [==============================] - 0s 1ms/step - loss: 20.8199\n",
      "Epoch 90/100\n",
      "240/240 [==============================] - 0s 1ms/step - loss: 20.8059\n",
      "Epoch 91/100\n",
      "240/240 [==============================] - 0s 1ms/step - loss: 20.7793\n",
      "Epoch 92/100\n",
      "240/240 [==============================] - 0s 1ms/step - loss: 20.8158\n",
      "Epoch 93/100\n",
      "240/240 [==============================] - 0s 1ms/step - loss: 20.7934\n",
      "Epoch 94/100\n",
      "240/240 [==============================] - 0s 1ms/step - loss: 20.7939\n",
      "Epoch 95/100\n",
      "240/240 [==============================] - 0s 1ms/step - loss: 20.7696\n",
      "Epoch 96/100\n",
      "240/240 [==============================] - 0s 1ms/step - loss: 20.8519\n",
      "Epoch 97/100\n",
      "240/240 [==============================] - 0s 1ms/step - loss: 20.7516\n",
      "Epoch 98/100\n",
      "240/240 [==============================] - 0s 1ms/step - loss: 20.7564\n",
      "Epoch 99/100\n",
      "240/240 [==============================] - 0s 1ms/step - loss: 20.7145\n",
      "Epoch 100/100\n",
      "240/240 [==============================] - 0s 1ms/step - loss: 20.7149\n"
     ]
    },
    {
     "data": {
      "text/plain": [
       "<keras.src.callbacks.History at 0x1fea4f620d0>"
      ]
     },
     "execution_count": 20,
     "metadata": {},
     "output_type": "execute_result"
    }
   ],
   "source": [
    "#train ANN\n",
    "ann.fit(X_train,y_train,epochs=100,batch_size=32)"
   ]
  },
  {
   "cell_type": "markdown",
   "id": "a340501b-9594-4d15-943f-612519f25887",
   "metadata": {},
   "source": [
    "### Testing the ANN Model"
   ]
  },
  {
   "cell_type": "code",
   "execution_count": 24,
   "id": "8292f535-4ca7-4841-9a71-20a976a7b142",
   "metadata": {},
   "outputs": [
    {
     "name": "stdout",
     "output_type": "stream",
     "text": [
      "60/60 [==============================] - 0s 917us/step\n"
     ]
    },
    {
     "name": "stderr",
     "output_type": "stream",
     "text": [
      "C:\\Users\\chira\\AppData\\Local\\Programs\\Python\\Python311\\Lib\\site-packages\\sklearn\\base.py:464: UserWarning: X does not have valid feature names, but StandardScaler was fitted with feature names\n",
      "  warnings.warn(\n"
     ]
    }
   ],
   "source": [
    "#predicting test set\n",
    "y_pred = ann.predict(sc.transform(X_test))\n",
    "np.set_printoptions(precision=2)"
   ]
  },
  {
   "cell_type": "code",
   "execution_count": 39,
   "id": "75faaba0-4f25-4e2e-b0dc-f1b5af7748ef",
   "metadata": {},
   "outputs": [
    {
     "name": "stdout",
     "output_type": "stream",
     "text": [
      "28367875.38438453\n",
      "5326.090335949745\n"
     ]
    }
   ],
   "source": [
    "from sklearn.metrics import mean_squared_error,mean_absolute_error\n",
    "print(mean_squared_error(y_test, y_pred))\n",
    "print(mean_absolute_error(y_test, y_pred))"
   ]
  }
 ],
 "metadata": {
  "kernelspec": {
   "display_name": "Python 3 (ipykernel)",
   "language": "python",
   "name": "python3"
  },
  "language_info": {
   "codemirror_mode": {
    "name": "ipython",
    "version": 3
   },
   "file_extension": ".py",
   "mimetype": "text/x-python",
   "name": "python",
   "nbconvert_exporter": "python",
   "pygments_lexer": "ipython3",
   "version": "3.11.4"
  }
 },
 "nbformat": 4,
 "nbformat_minor": 5
}
