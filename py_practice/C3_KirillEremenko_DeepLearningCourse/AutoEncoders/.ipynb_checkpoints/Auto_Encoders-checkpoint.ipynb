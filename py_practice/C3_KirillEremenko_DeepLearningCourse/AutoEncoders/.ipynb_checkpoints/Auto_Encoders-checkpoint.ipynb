{
 "cells": [
  {
   "cell_type": "code",
   "execution_count": 4,
   "id": "029d6ac7-d6ce-4a23-a357-4ab06ceda3f9",
   "metadata": {},
   "outputs": [],
   "source": [
    "import numpy as np\n",
    "import pandas as pd\n",
    "import torch\n",
    "import torch.nn as nn\n",
    "import torch.nn.parallel \n",
    "import torch.optim as optim\n",
    "import torch.utils.data\n",
    "from torch.autograd import Variable"
   ]
  },
  {
   "cell_type": "code",
   "execution_count": 6,
   "id": "e32b97a0-6d0c-45a8-bd43-69487f3fb60f",
   "metadata": {},
   "outputs": [],
   "source": [
    "movies = pd.read_csv('ml-1m/movies.dat',sep='::',header=None,engine='python',\n",
    "                     encoding='latin-1')"
   ]
  },
  {
   "cell_type": "code",
   "execution_count": 7,
   "id": "75d6ceec-06fb-480b-a0d4-1491ce810d5b",
   "metadata": {},
   "outputs": [
    {
     "data": {
      "text/html": [
       "<div>\n",
       "<style scoped>\n",
       "    .dataframe tbody tr th:only-of-type {\n",
       "        vertical-align: middle;\n",
       "    }\n",
       "\n",
       "    .dataframe tbody tr th {\n",
       "        vertical-align: top;\n",
       "    }\n",
       "\n",
       "    .dataframe thead th {\n",
       "        text-align: right;\n",
       "    }\n",
       "</style>\n",
       "<table border=\"1\" class=\"dataframe\">\n",
       "  <thead>\n",
       "    <tr style=\"text-align: right;\">\n",
       "      <th></th>\n",
       "      <th>0</th>\n",
       "      <th>1</th>\n",
       "      <th>2</th>\n",
       "    </tr>\n",
       "  </thead>\n",
       "  <tbody>\n",
       "    <tr>\n",
       "      <th>0</th>\n",
       "      <td>1</td>\n",
       "      <td>Toy Story (1995)</td>\n",
       "      <td>Animation|Children's|Comedy</td>\n",
       "    </tr>\n",
       "    <tr>\n",
       "      <th>1</th>\n",
       "      <td>2</td>\n",
       "      <td>Jumanji (1995)</td>\n",
       "      <td>Adventure|Children's|Fantasy</td>\n",
       "    </tr>\n",
       "    <tr>\n",
       "      <th>2</th>\n",
       "      <td>3</td>\n",
       "      <td>Grumpier Old Men (1995)</td>\n",
       "      <td>Comedy|Romance</td>\n",
       "    </tr>\n",
       "    <tr>\n",
       "      <th>3</th>\n",
       "      <td>4</td>\n",
       "      <td>Waiting to Exhale (1995)</td>\n",
       "      <td>Comedy|Drama</td>\n",
       "    </tr>\n",
       "    <tr>\n",
       "      <th>4</th>\n",
       "      <td>5</td>\n",
       "      <td>Father of the Bride Part II (1995)</td>\n",
       "      <td>Comedy</td>\n",
       "    </tr>\n",
       "  </tbody>\n",
       "</table>\n",
       "</div>"
      ],
      "text/plain": [
       "   0                                   1                             2\n",
       "0  1                    Toy Story (1995)   Animation|Children's|Comedy\n",
       "1  2                      Jumanji (1995)  Adventure|Children's|Fantasy\n",
       "2  3             Grumpier Old Men (1995)                Comedy|Romance\n",
       "3  4            Waiting to Exhale (1995)                  Comedy|Drama\n",
       "4  5  Father of the Bride Part II (1995)                        Comedy"
      ]
     },
     "execution_count": 7,
     "metadata": {},
     "output_type": "execute_result"
    }
   ],
   "source": [
    "movies.head()"
   ]
  },
  {
   "cell_type": "code",
   "execution_count": 8,
   "id": "1327f081-d3c6-4be1-97b5-7e4bc0028f08",
   "metadata": {},
   "outputs": [],
   "source": [
    "users = pd.read_csv('ml-1m/users.dat',sep='::',header=None,engine='python',\n",
    "                    encoding='latin-1')"
   ]
  },
  {
   "cell_type": "code",
   "execution_count": 9,
   "id": "e6e05bfb-6982-4990-90cc-31343355d16c",
   "metadata": {},
   "outputs": [
    {
     "data": {
      "text/html": [
       "<div>\n",
       "<style scoped>\n",
       "    .dataframe tbody tr th:only-of-type {\n",
       "        vertical-align: middle;\n",
       "    }\n",
       "\n",
       "    .dataframe tbody tr th {\n",
       "        vertical-align: top;\n",
       "    }\n",
       "\n",
       "    .dataframe thead th {\n",
       "        text-align: right;\n",
       "    }\n",
       "</style>\n",
       "<table border=\"1\" class=\"dataframe\">\n",
       "  <thead>\n",
       "    <tr style=\"text-align: right;\">\n",
       "      <th></th>\n",
       "      <th>0</th>\n",
       "      <th>1</th>\n",
       "      <th>2</th>\n",
       "      <th>3</th>\n",
       "      <th>4</th>\n",
       "    </tr>\n",
       "  </thead>\n",
       "  <tbody>\n",
       "    <tr>\n",
       "      <th>0</th>\n",
       "      <td>1</td>\n",
       "      <td>F</td>\n",
       "      <td>1</td>\n",
       "      <td>10</td>\n",
       "      <td>48067</td>\n",
       "    </tr>\n",
       "    <tr>\n",
       "      <th>1</th>\n",
       "      <td>2</td>\n",
       "      <td>M</td>\n",
       "      <td>56</td>\n",
       "      <td>16</td>\n",
       "      <td>70072</td>\n",
       "    </tr>\n",
       "    <tr>\n",
       "      <th>2</th>\n",
       "      <td>3</td>\n",
       "      <td>M</td>\n",
       "      <td>25</td>\n",
       "      <td>15</td>\n",
       "      <td>55117</td>\n",
       "    </tr>\n",
       "    <tr>\n",
       "      <th>3</th>\n",
       "      <td>4</td>\n",
       "      <td>M</td>\n",
       "      <td>45</td>\n",
       "      <td>7</td>\n",
       "      <td>02460</td>\n",
       "    </tr>\n",
       "    <tr>\n",
       "      <th>4</th>\n",
       "      <td>5</td>\n",
       "      <td>M</td>\n",
       "      <td>25</td>\n",
       "      <td>20</td>\n",
       "      <td>55455</td>\n",
       "    </tr>\n",
       "  </tbody>\n",
       "</table>\n",
       "</div>"
      ],
      "text/plain": [
       "   0  1   2   3      4\n",
       "0  1  F   1  10  48067\n",
       "1  2  M  56  16  70072\n",
       "2  3  M  25  15  55117\n",
       "3  4  M  45   7  02460\n",
       "4  5  M  25  20  55455"
      ]
     },
     "execution_count": 9,
     "metadata": {},
     "output_type": "execute_result"
    }
   ],
   "source": [
    "users.head()"
   ]
  },
  {
   "cell_type": "code",
   "execution_count": 10,
   "id": "41059f54-59fa-4f0f-bfab-7799e307a5a1",
   "metadata": {},
   "outputs": [],
   "source": [
    "ratings = pd.read_csv('ml-1m/ratings.dat',sep='::',header=None,engine='python',\n",
    "                      encoding='latin-1')"
   ]
  },
  {
   "cell_type": "code",
   "execution_count": 11,
   "id": "ba789c50-ad24-49c5-9f02-77aed76b5629",
   "metadata": {},
   "outputs": [
    {
     "data": {
      "text/html": [
       "<div>\n",
       "<style scoped>\n",
       "    .dataframe tbody tr th:only-of-type {\n",
       "        vertical-align: middle;\n",
       "    }\n",
       "\n",
       "    .dataframe tbody tr th {\n",
       "        vertical-align: top;\n",
       "    }\n",
       "\n",
       "    .dataframe thead th {\n",
       "        text-align: right;\n",
       "    }\n",
       "</style>\n",
       "<table border=\"1\" class=\"dataframe\">\n",
       "  <thead>\n",
       "    <tr style=\"text-align: right;\">\n",
       "      <th></th>\n",
       "      <th>0</th>\n",
       "      <th>1</th>\n",
       "      <th>2</th>\n",
       "      <th>3</th>\n",
       "    </tr>\n",
       "  </thead>\n",
       "  <tbody>\n",
       "    <tr>\n",
       "      <th>0</th>\n",
       "      <td>1</td>\n",
       "      <td>1193</td>\n",
       "      <td>5</td>\n",
       "      <td>978300760</td>\n",
       "    </tr>\n",
       "    <tr>\n",
       "      <th>1</th>\n",
       "      <td>1</td>\n",
       "      <td>661</td>\n",
       "      <td>3</td>\n",
       "      <td>978302109</td>\n",
       "    </tr>\n",
       "    <tr>\n",
       "      <th>2</th>\n",
       "      <td>1</td>\n",
       "      <td>914</td>\n",
       "      <td>3</td>\n",
       "      <td>978301968</td>\n",
       "    </tr>\n",
       "    <tr>\n",
       "      <th>3</th>\n",
       "      <td>1</td>\n",
       "      <td>3408</td>\n",
       "      <td>4</td>\n",
       "      <td>978300275</td>\n",
       "    </tr>\n",
       "    <tr>\n",
       "      <th>4</th>\n",
       "      <td>1</td>\n",
       "      <td>2355</td>\n",
       "      <td>5</td>\n",
       "      <td>978824291</td>\n",
       "    </tr>\n",
       "  </tbody>\n",
       "</table>\n",
       "</div>"
      ],
      "text/plain": [
       "   0     1  2          3\n",
       "0  1  1193  5  978300760\n",
       "1  1   661  3  978302109\n",
       "2  1   914  3  978301968\n",
       "3  1  3408  4  978300275\n",
       "4  1  2355  5  978824291"
      ]
     },
     "execution_count": 11,
     "metadata": {},
     "output_type": "execute_result"
    }
   ],
   "source": [
    "ratings.head()"
   ]
  },
  {
   "cell_type": "code",
   "execution_count": 12,
   "id": "b6f4cb29-67c2-4677-b886-e3886c8dcd4b",
   "metadata": {},
   "outputs": [],
   "source": [
    "training_set = pd.read_csv('ml-100k/u1.base',delimiter='\\t',header=None)"
   ]
  },
  {
   "cell_type": "code",
   "execution_count": 13,
   "id": "dff6a5fe-215c-4436-96ad-aa01645d9594",
   "metadata": {},
   "outputs": [
    {
     "data": {
      "text/html": [
       "<div>\n",
       "<style scoped>\n",
       "    .dataframe tbody tr th:only-of-type {\n",
       "        vertical-align: middle;\n",
       "    }\n",
       "\n",
       "    .dataframe tbody tr th {\n",
       "        vertical-align: top;\n",
       "    }\n",
       "\n",
       "    .dataframe thead th {\n",
       "        text-align: right;\n",
       "    }\n",
       "</style>\n",
       "<table border=\"1\" class=\"dataframe\">\n",
       "  <thead>\n",
       "    <tr style=\"text-align: right;\">\n",
       "      <th></th>\n",
       "      <th>0</th>\n",
       "      <th>1</th>\n",
       "      <th>2</th>\n",
       "      <th>3</th>\n",
       "    </tr>\n",
       "  </thead>\n",
       "  <tbody>\n",
       "    <tr>\n",
       "      <th>0</th>\n",
       "      <td>1</td>\n",
       "      <td>1</td>\n",
       "      <td>5</td>\n",
       "      <td>874965758</td>\n",
       "    </tr>\n",
       "    <tr>\n",
       "      <th>1</th>\n",
       "      <td>1</td>\n",
       "      <td>2</td>\n",
       "      <td>3</td>\n",
       "      <td>876893171</td>\n",
       "    </tr>\n",
       "    <tr>\n",
       "      <th>2</th>\n",
       "      <td>1</td>\n",
       "      <td>3</td>\n",
       "      <td>4</td>\n",
       "      <td>878542960</td>\n",
       "    </tr>\n",
       "    <tr>\n",
       "      <th>3</th>\n",
       "      <td>1</td>\n",
       "      <td>4</td>\n",
       "      <td>3</td>\n",
       "      <td>876893119</td>\n",
       "    </tr>\n",
       "    <tr>\n",
       "      <th>4</th>\n",
       "      <td>1</td>\n",
       "      <td>5</td>\n",
       "      <td>3</td>\n",
       "      <td>889751712</td>\n",
       "    </tr>\n",
       "  </tbody>\n",
       "</table>\n",
       "</div>"
      ],
      "text/plain": [
       "   0  1  2          3\n",
       "0  1  1  5  874965758\n",
       "1  1  2  3  876893171\n",
       "2  1  3  4  878542960\n",
       "3  1  4  3  876893119\n",
       "4  1  5  3  889751712"
      ]
     },
     "execution_count": 13,
     "metadata": {},
     "output_type": "execute_result"
    }
   ],
   "source": [
    "training_set.head()"
   ]
  },
  {
   "cell_type": "code",
   "execution_count": 14,
   "id": "c07f0885-6769-46d6-8146-c9d6c7e34b9b",
   "metadata": {},
   "outputs": [],
   "source": [
    "training_set = np.array(training_set,dtype='int')"
   ]
  },
  {
   "cell_type": "code",
   "execution_count": 15,
   "id": "4e6f52b5-4abc-4f39-ac28-e21c0246f3d2",
   "metadata": {},
   "outputs": [
    {
     "data": {
      "text/plain": [
       "array([[        1,         1,         5, 874965758],\n",
       "       [        1,         2,         3, 876893171],\n",
       "       [        1,         3,         4, 878542960],\n",
       "       ...,\n",
       "       [      943,      1188,         3, 888640250],\n",
       "       [      943,      1228,         3, 888640275],\n",
       "       [      943,      1330,         3, 888692465]])"
      ]
     },
     "execution_count": 15,
     "metadata": {},
     "output_type": "execute_result"
    }
   ],
   "source": [
    "training_set"
   ]
  },
  {
   "cell_type": "code",
   "execution_count": 16,
   "id": "5b9f405f-07f1-4d59-8e20-c9a19d2f00ad",
   "metadata": {},
   "outputs": [],
   "source": [
    "test_set = pd.read_csv('ml-100k/u1.test',delimiter='\\t',header=None)\n",
    "test_set = np.array(test_set,dtype='int')"
   ]
  },
  {
   "cell_type": "code",
   "execution_count": 18,
   "id": "b1f3a208-fcf6-4189-8891-c10e96d31f41",
   "metadata": {},
   "outputs": [
    {
     "data": {
      "text/plain": [
       "array([[        1,         6,         5, 887431973],\n",
       "       [        1,        10,         3, 875693118],\n",
       "       [        1,        12,         5, 878542960],\n",
       "       ...,\n",
       "       [      459,       934,         3, 879563639],\n",
       "       [      460,        10,         3, 882912371],\n",
       "       [      462,       682,         5, 886365231]])"
      ]
     },
     "execution_count": 18,
     "metadata": {},
     "output_type": "execute_result"
    }
   ],
   "source": [
    "test_set"
   ]
  },
  {
   "cell_type": "code",
   "execution_count": 19,
   "id": "93a98a12-4ae3-493d-8de5-3e7f23974c99",
   "metadata": {},
   "outputs": [
    {
     "name": "stdout",
     "output_type": "stream",
     "text": [
      "(80000, 4)\n",
      "(20000, 4)\n"
     ]
    }
   ],
   "source": [
    "print(training_set.shape)\n",
    "print(test_set.shape)"
   ]
  },
  {
   "cell_type": "code",
   "execution_count": 20,
   "id": "1d182811-66bc-4745-94bc-99ba8c9b4118",
   "metadata": {},
   "outputs": [],
   "source": [
    "# Getting number of users and movies\n",
    "nb_users = int(max(max(training_set[:,0]),max(test_set[:,0])))\n",
    "nb_movies = int(max(max(training_set[:,1]),max(test_set[:,1])))"
   ]
  },
  {
   "cell_type": "code",
   "execution_count": 21,
   "id": "785d4370-2d32-4621-8dae-e25492ed1b69",
   "metadata": {},
   "outputs": [
    {
     "name": "stdout",
     "output_type": "stream",
     "text": [
      "943\n",
      "1682\n"
     ]
    }
   ],
   "source": [
    "print(nb_users)\n",
    "print(nb_movies)"
   ]
  },
  {
   "cell_type": "code",
   "execution_count": 22,
   "id": "e282d488-2dc5-43cc-85c7-a31a36385a3f",
   "metadata": {},
   "outputs": [],
   "source": [
    "# Converting data into 2D array of users X movies\n",
    "\n",
    "def convert(data):\n",
    "    new_data = []\n",
    "    for id_users in range(1,nb_users+1):\n",
    "        id_movies = data[:,1][data[:,0] == id_users]\n",
    "        id_ratings = data[:,2][data[:,0] == id_users]\n",
    "        ratings = np.zeros(nb_movies)\n",
    "        ratings[id_movies-1] = id_ratings\n",
    "        new_data.append(list(ratings))\n",
    "    return new_data"
   ]
  },
  {
   "cell_type": "code",
   "execution_count": 23,
   "id": "b9a29960-bc1c-40d1-be2a-2a31a38c97a3",
   "metadata": {},
   "outputs": [],
   "source": [
    "training_set = convert(training_set)\n",
    "test_set = convert(test_set)"
   ]
  },
  {
   "cell_type": "code",
   "execution_count": 24,
   "id": "97c94a4a-b943-41ee-b5fe-9d0a279f8063",
   "metadata": {},
   "outputs": [
    {
     "name": "stdout",
     "output_type": "stream",
     "text": [
      "943\n",
      "943\n"
     ]
    }
   ],
   "source": [
    "print(len(training_set))\n",
    "print(len(test_set))"
   ]
  },
  {
   "cell_type": "code",
   "execution_count": 25,
   "id": "b4e59977-69d5-458e-b8c9-a496a426cf8b",
   "metadata": {},
   "outputs": [
    {
     "data": {
      "text/plain": [
       "1682"
      ]
     },
     "execution_count": 25,
     "metadata": {},
     "output_type": "execute_result"
    }
   ],
   "source": [
    "len(training_set[1])"
   ]
  },
  {
   "cell_type": "code",
   "execution_count": 26,
   "id": "f737406d-3a48-4018-b421-fdf249e0c9ff",
   "metadata": {},
   "outputs": [],
   "source": [
    "# Converting data into Torch Tensors\n",
    "training_set = torch.FloatTensor(training_set)\n",
    "test_set = torch.FloatTensor(test_set)"
   ]
  },
  {
   "cell_type": "code",
   "execution_count": 27,
   "id": "2a06a6bc-fc3f-4a7a-8aac-9f3a93d99304",
   "metadata": {},
   "outputs": [
    {
     "data": {
      "text/plain": [
       "tensor([[5., 3., 4.,  ..., 0., 0., 0.],\n",
       "        [4., 0., 0.,  ..., 0., 0., 0.],\n",
       "        [0., 0., 0.,  ..., 0., 0., 0.],\n",
       "        ...,\n",
       "        [5., 0., 0.,  ..., 0., 0., 0.],\n",
       "        [0., 0., 0.,  ..., 0., 0., 0.],\n",
       "        [0., 5., 0.,  ..., 0., 0., 0.]])"
      ]
     },
     "execution_count": 27,
     "metadata": {},
     "output_type": "execute_result"
    }
   ],
   "source": [
    "training_set"
   ]
  },
  {
   "cell_type": "code",
   "execution_count": 28,
   "id": "5bb2a413-1176-47f4-a6ed-2926fe28a3ed",
   "metadata": {},
   "outputs": [
    {
     "data": {
      "text/plain": [
       "tensor([[0., 0., 0.,  ..., 0., 0., 0.],\n",
       "        [0., 0., 0.,  ..., 0., 0., 0.],\n",
       "        [0., 0., 0.,  ..., 0., 0., 0.],\n",
       "        ...,\n",
       "        [0., 0., 0.,  ..., 0., 0., 0.],\n",
       "        [0., 0., 0.,  ..., 0., 0., 0.],\n",
       "        [0., 0., 0.,  ..., 0., 0., 0.]])"
      ]
     },
     "execution_count": 28,
     "metadata": {},
     "output_type": "execute_result"
    }
   ],
   "source": [
    "test_set"
   ]
  },
  {
   "cell_type": "code",
   "execution_count": 31,
   "id": "ac815cc4-4463-41a7-b0ee-17cc5416f278",
   "metadata": {},
   "outputs": [],
   "source": [
    "# Creating the architecture of the Stacked Auto Encoder Network\n",
    "\n",
    "class SAE(nn.Module):\n",
    "    def __init__(self,):\n",
    "        super(SAE,self).__init__()\n",
    "        self.fc1 = nn.Linear(nb_movies,20)\n",
    "        self.fc2 = nn.Linear(20,10)\n",
    "        self.fc3 = nn.Linear(10,20)\n",
    "        self.fc4 = nn.Linear(20,nb_movies)\n",
    "        self.activation = nn.Sigmoid()\n",
    "        \n",
    "    def forward(self,x):\n",
    "        x = self.activation(self.fc1(x))\n",
    "        x = self.activation(self.fc2(x))\n",
    "        x = self.activation(self.fc3(x))\n",
    "        x = self.fc4(x)\n",
    "        return x"
   ]
  },
  {
   "cell_type": "code",
   "execution_count": 32,
   "id": "883517fe-a638-4cd5-af09-ea413d1d7c96",
   "metadata": {},
   "outputs": [],
   "source": [
    "sae = SAE()"
   ]
  },
  {
   "cell_type": "code",
   "execution_count": 34,
   "id": "eb729dd4-9cb1-4142-b971-b5b8211aebc2",
   "metadata": {},
   "outputs": [],
   "source": [
    "criterion = nn.MSELoss()\n",
    "optimizer = optim.RMSprop(sae.parameters(),lr=0.01,weight_decay=0.5)"
   ]
  },
  {
   "cell_type": "code",
   "execution_count": 47,
   "id": "c47c679f-193c-4b7f-b55a-9ce68d9505d9",
   "metadata": {},
   "outputs": [
    {
     "name": "stdout",
     "output_type": "stream",
     "text": [
      "Epoch: 1 | loss: 1.020716667175293\n",
      "Epoch: 2 | loss: 1.019654393196106\n",
      "Epoch: 3 | loss: 1.018885850906372\n",
      "Epoch: 4 | loss: 1.0183213949203491\n",
      "Epoch: 5 | loss: 1.0180654525756836\n",
      "Epoch: 6 | loss: 1.0175825357437134\n",
      "Epoch: 7 | loss: 1.017478108406067\n",
      "Epoch: 8 | loss: 1.0168883800506592\n",
      "Epoch: 9 | loss: 1.0165666341781616\n",
      "Epoch: 10 | loss: 1.0165234804153442\n",
      "Epoch: 11 | loss: 1.016279935836792\n",
      "Epoch: 12 | loss: 1.0160317420959473\n",
      "Epoch: 13 | loss: 1.0160751342773438\n",
      "Epoch: 14 | loss: 1.0161017179489136\n",
      "Epoch: 15 | loss: 1.0158600807189941\n",
      "Epoch: 16 | loss: 1.015673041343689\n",
      "Epoch: 17 | loss: 1.0155396461486816\n",
      "Epoch: 18 | loss: 1.0155621767044067\n",
      "Epoch: 19 | loss: 1.0152236223220825\n",
      "Epoch: 20 | loss: 1.015008568763733\n",
      "Epoch: 21 | loss: 1.0129709243774414\n",
      "Epoch: 22 | loss: 1.0112364292144775\n",
      "Epoch: 23 | loss: 1.0102506875991821\n",
      "Epoch: 24 | loss: 1.0081446170806885\n",
      "Epoch: 25 | loss: 1.00741708278656\n",
      "Epoch: 26 | loss: 1.0038561820983887\n",
      "Epoch: 27 | loss: 1.004699468612671\n",
      "Epoch: 28 | loss: 1.0014530420303345\n",
      "Epoch: 29 | loss: 0.999390184879303\n",
      "Epoch: 30 | loss: 0.9972131848335266\n",
      "Epoch: 31 | loss: 0.9963933229446411\n",
      "Epoch: 32 | loss: 0.9922077655792236\n",
      "Epoch: 33 | loss: 0.9940623641014099\n",
      "Epoch: 34 | loss: 0.9907359480857849\n",
      "Epoch: 35 | loss: 0.9876700043678284\n",
      "Epoch: 36 | loss: 0.9866300225257874\n",
      "Epoch: 37 | loss: 0.9848431944847107\n",
      "Epoch: 38 | loss: 0.9822303652763367\n",
      "Epoch: 39 | loss: 0.9830456972122192\n",
      "Epoch: 40 | loss: 0.976155161857605\n",
      "Epoch: 41 | loss: 0.9760385751724243\n",
      "Epoch: 42 | loss: 0.9706889986991882\n",
      "Epoch: 43 | loss: 0.9712426066398621\n",
      "Epoch: 44 | loss: 0.9681575298309326\n",
      "Epoch: 45 | loss: 0.9681745171546936\n",
      "Epoch: 46 | loss: 0.9656442403793335\n",
      "Epoch: 47 | loss: 0.9656635522842407\n",
      "Epoch: 48 | loss: 0.9612767100334167\n",
      "Epoch: 49 | loss: 0.9626057744026184\n",
      "Epoch: 50 | loss: 0.9618794322013855\n",
      "Epoch: 51 | loss: 0.9611212611198425\n",
      "Epoch: 52 | loss: 0.9585975408554077\n",
      "Epoch: 53 | loss: 0.9592708945274353\n",
      "Epoch: 54 | loss: 0.9550639390945435\n",
      "Epoch: 55 | loss: 0.9568135738372803\n",
      "Epoch: 56 | loss: 0.9550989270210266\n",
      "Epoch: 57 | loss: 0.953943133354187\n",
      "Epoch: 58 | loss: 0.9509850740432739\n",
      "Epoch: 59 | loss: 0.9532176852226257\n",
      "Epoch: 60 | loss: 0.9551477432250977\n",
      "Epoch: 61 | loss: 0.9567807912826538\n",
      "Epoch: 62 | loss: 0.9579631686210632\n",
      "Epoch: 63 | loss: 0.9555160403251648\n",
      "Epoch: 64 | loss: 0.9544634222984314\n",
      "Epoch: 65 | loss: 0.9549221992492676\n",
      "Epoch: 66 | loss: 0.9514479041099548\n",
      "Epoch: 67 | loss: 0.9529045224189758\n",
      "Epoch: 68 | loss: 0.9474773406982422\n",
      "Epoch: 69 | loss: 0.9492953419685364\n",
      "Epoch: 70 | loss: 0.947676956653595\n",
      "Epoch: 71 | loss: 0.947644054889679\n",
      "Epoch: 72 | loss: 0.9452513456344604\n",
      "Epoch: 73 | loss: 0.9454518556594849\n",
      "Epoch: 74 | loss: 0.9447498917579651\n",
      "Epoch: 75 | loss: 0.9533257484436035\n",
      "Epoch: 76 | loss: 0.9533053040504456\n",
      "Epoch: 77 | loss: 0.9505912065505981\n",
      "Epoch: 78 | loss: 0.9494672417640686\n",
      "Epoch: 79 | loss: 0.949174702167511\n",
      "Epoch: 80 | loss: 0.9474149346351624\n",
      "Epoch: 81 | loss: 0.9489017128944397\n",
      "Epoch: 82 | loss: 0.9473587870597839\n",
      "Epoch: 83 | loss: 0.9463794827461243\n",
      "Epoch: 84 | loss: 0.9439931511878967\n",
      "Epoch: 85 | loss: 0.9453104734420776\n",
      "Epoch: 86 | loss: 0.9435515999794006\n",
      "Epoch: 87 | loss: 0.9471387267112732\n",
      "Epoch: 88 | loss: 0.9431243538856506\n",
      "Epoch: 89 | loss: 0.9430271983146667\n",
      "Epoch: 90 | loss: 0.9419074058532715\n",
      "Epoch: 91 | loss: 0.9416864514350891\n",
      "Epoch: 92 | loss: 0.9405002593994141\n",
      "Epoch: 93 | loss: 0.9412426352500916\n",
      "Epoch: 94 | loss: 0.939765989780426\n",
      "Epoch: 95 | loss: 0.9403504729270935\n",
      "Epoch: 96 | loss: 0.9380344152450562\n",
      "Epoch: 97 | loss: 0.9383776187896729\n",
      "Epoch: 98 | loss: 0.9371057748794556\n",
      "Epoch: 99 | loss: 0.938006579875946\n",
      "Epoch: 100 | loss: 0.9363686442375183\n",
      "Epoch: 101 | loss: 0.9366004467010498\n",
      "Epoch: 102 | loss: 0.9362933039665222\n",
      "Epoch: 103 | loss: 0.9358317255973816\n",
      "Epoch: 104 | loss: 0.9347792267799377\n",
      "Epoch: 105 | loss: 0.9350405931472778\n",
      "Epoch: 106 | loss: 0.9338746666908264\n",
      "Epoch: 107 | loss: 0.9338833689689636\n",
      "Epoch: 108 | loss: 0.9331260323524475\n",
      "Epoch: 109 | loss: 0.9334476590156555\n",
      "Epoch: 110 | loss: 0.9322790503501892\n",
      "Epoch: 111 | loss: 0.9321327209472656\n",
      "Epoch: 112 | loss: 0.9311578273773193\n",
      "Epoch: 113 | loss: 0.9312984347343445\n",
      "Epoch: 114 | loss: 0.930247962474823\n",
      "Epoch: 115 | loss: 0.9303369522094727\n",
      "Epoch: 116 | loss: 0.9315946102142334\n",
      "Epoch: 117 | loss: 0.9318670034408569\n",
      "Epoch: 118 | loss: 0.9300349950790405\n",
      "Epoch: 119 | loss: 0.9309357404708862\n",
      "Epoch: 120 | loss: 0.9292967319488525\n",
      "Epoch: 121 | loss: 0.9294906854629517\n",
      "Epoch: 122 | loss: 0.9293913841247559\n",
      "Epoch: 123 | loss: 0.9291418790817261\n",
      "Epoch: 124 | loss: 0.927909791469574\n",
      "Epoch: 125 | loss: 0.9278566837310791\n",
      "Epoch: 126 | loss: 0.9271690249443054\n",
      "Epoch: 127 | loss: 0.927800178527832\n",
      "Epoch: 128 | loss: 0.926758885383606\n",
      "Epoch: 129 | loss: 0.9264642000198364\n",
      "Epoch: 130 | loss: 0.9257227182388306\n",
      "Epoch: 131 | loss: 0.9259123206138611\n",
      "Epoch: 132 | loss: 0.925281822681427\n",
      "Epoch: 133 | loss: 0.9247490763664246\n",
      "Epoch: 134 | loss: 0.9245068430900574\n",
      "Epoch: 135 | loss: 0.9247509837150574\n",
      "Epoch: 136 | loss: 0.924079179763794\n",
      "Epoch: 137 | loss: 0.9235855937004089\n",
      "Epoch: 138 | loss: 0.9235280752182007\n",
      "Epoch: 139 | loss: 0.9237146377563477\n",
      "Epoch: 140 | loss: 0.9228649735450745\n",
      "Epoch: 141 | loss: 0.9232654571533203\n",
      "Epoch: 142 | loss: 0.9228555560112\n",
      "Epoch: 143 | loss: 0.9231022000312805\n",
      "Epoch: 144 | loss: 0.9223422408103943\n",
      "Epoch: 145 | loss: 0.9219638109207153\n",
      "Epoch: 146 | loss: 0.9218936562538147\n",
      "Epoch: 147 | loss: 0.9217513799667358\n",
      "Epoch: 148 | loss: 0.9215163588523865\n",
      "Epoch: 149 | loss: 0.9212595224380493\n",
      "Epoch: 150 | loss: 0.9207822680473328\n",
      "Epoch: 151 | loss: 0.9208986163139343\n",
      "Epoch: 152 | loss: 0.9207852482795715\n",
      "Epoch: 153 | loss: 0.9207718968391418\n",
      "Epoch: 154 | loss: 0.9204102158546448\n",
      "Epoch: 155 | loss: 0.9202061891555786\n",
      "Epoch: 156 | loss: 0.9199036359786987\n",
      "Epoch: 157 | loss: 0.9196813106536865\n",
      "Epoch: 158 | loss: 0.9197142124176025\n",
      "Epoch: 159 | loss: 0.9197155833244324\n",
      "Epoch: 160 | loss: 0.9192782044410706\n",
      "Epoch: 161 | loss: 0.9185537695884705\n",
      "Epoch: 162 | loss: 0.9185552597045898\n",
      "Epoch: 163 | loss: 0.9187442064285278\n",
      "Epoch: 164 | loss: 0.9183204174041748\n",
      "Epoch: 165 | loss: 0.9181355237960815\n",
      "Epoch: 166 | loss: 0.9176003932952881\n",
      "Epoch: 167 | loss: 0.9177517890930176\n",
      "Epoch: 168 | loss: 0.917576789855957\n",
      "Epoch: 169 | loss: 0.9171875715255737\n",
      "Epoch: 170 | loss: 0.9173679351806641\n",
      "Epoch: 171 | loss: 0.9172165989875793\n",
      "Epoch: 172 | loss: 0.9168457388877869\n",
      "Epoch: 173 | loss: 0.9170888662338257\n",
      "Epoch: 174 | loss: 0.9164597392082214\n",
      "Epoch: 175 | loss: 0.9166653752326965\n",
      "Epoch: 176 | loss: 0.9158093333244324\n",
      "Epoch: 177 | loss: 0.915924608707428\n",
      "Epoch: 178 | loss: 0.9157107472419739\n",
      "Epoch: 179 | loss: 0.9155158400535583\n",
      "Epoch: 180 | loss: 0.915297269821167\n",
      "Epoch: 181 | loss: 0.9157659411430359\n",
      "Epoch: 182 | loss: 0.9154630899429321\n",
      "Epoch: 183 | loss: 0.9152857065200806\n",
      "Epoch: 184 | loss: 0.915117084980011\n",
      "Epoch: 185 | loss: 0.9144933223724365\n",
      "Epoch: 186 | loss: 0.9144560098648071\n",
      "Epoch: 187 | loss: 0.9142726063728333\n",
      "Epoch: 188 | loss: 0.9138364791870117\n",
      "Epoch: 189 | loss: 0.9142844676971436\n",
      "Epoch: 190 | loss: 0.9136865139007568\n",
      "Epoch: 191 | loss: 0.9134895205497742\n",
      "Epoch: 192 | loss: 0.9131661057472229\n",
      "Epoch: 193 | loss: 0.9128440618515015\n",
      "Epoch: 194 | loss: 0.912612795829773\n",
      "Epoch: 195 | loss: 0.9121970534324646\n",
      "Epoch: 196 | loss: 0.9119271039962769\n",
      "Epoch: 197 | loss: 0.9117326140403748\n",
      "Epoch: 198 | loss: 0.9111204743385315\n",
      "Epoch: 199 | loss: 0.9108825922012329\n",
      "Epoch: 200 | loss: 0.9109449982643127\n"
     ]
    }
   ],
   "source": [
    "# Training the SAE\n",
    "nb_epoch = 200\n",
    "for epoch in range(1,nb_epoch+1):\n",
    "    train_loss = 0\n",
    "    s = 0.\n",
    "    for id_user in range(nb_users):\n",
    "        input = Variable(training_set[id_user]).unsqueeze(0) \n",
    "        target = input.clone()\n",
    "        if torch.sum(target.data > 0) > 0:\n",
    "            output = sae(input)\n",
    "            target.require_grad = False\n",
    "            output[target == 0] = 0\n",
    "            loss = criterion(output,target)\n",
    "            mean_corrector = nb_movies/float(torch.sum(target.data > 0) + 1e-10)\n",
    "            loss.backward()\n",
    "            train_loss += np.sqrt(loss.data*mean_corrector)\n",
    "            s += 1\n",
    "            optimizer.step()\n",
    "    print(f'Epoch: {epoch} | loss: {train_loss/s}')"
   ]
  },
  {
   "cell_type": "code",
   "execution_count": 50,
   "id": "2ba8cc82-e9ab-4408-9a20-c65f5b6e6ae9",
   "metadata": {},
   "outputs": [
    {
     "name": "stdout",
     "output_type": "stream",
     "text": [
      "Loss: 0.9487899541854858\n"
     ]
    }
   ],
   "source": [
    "# Testing the SAE\n",
    "test_loss = 0\n",
    "s = 0.\n",
    "for id_user in range(nb_users):\n",
    "    input = Variable(training_set[id_user]).unsqueeze(0) \n",
    "    target = Variable(test_set[id_user]).unsqueeze(0)\n",
    "    if torch.sum(target.data > 0) > 0:\n",
    "        output = sae(input)\n",
    "        target.require_grad = False\n",
    "        output[target == 0] = 0\n",
    "        loss = criterion(output,target)\n",
    "        mean_corrector = nb_movies/float(torch.sum(target.data > 0) + 1e-10)\n",
    "        test_loss += np.sqrt(loss.data*mean_corrector)\n",
    "        s += 1\n",
    "print(f'Loss: {test_loss/s}')"
   ]
  },
  {
   "cell_type": "code",
   "execution_count": null,
   "id": "02762e48-d41e-4a45-a58a-74546a0d1570",
   "metadata": {},
   "outputs": [],
   "source": []
  }
 ],
 "metadata": {
  "kernelspec": {
   "display_name": "Python 3 (ipykernel)",
   "language": "python",
   "name": "python3"
  },
  "language_info": {
   "codemirror_mode": {
    "name": "ipython",
    "version": 3
   },
   "file_extension": ".py",
   "mimetype": "text/x-python",
   "name": "python",
   "nbconvert_exporter": "python",
   "pygments_lexer": "ipython3",
   "version": "3.12.0"
  }
 },
 "nbformat": 4,
 "nbformat_minor": 5
}
