{
 "cells": [
  {
   "cell_type": "code",
   "execution_count": 1,
   "id": "3f10c5bc-3d74-40f9-881e-afaa85f5f1b7",
   "metadata": {},
   "outputs": [],
   "source": [
    "import numpy as np\n",
    "import pandas as pd\n",
    "import matplotlib.pyplot as plt"
   ]
  },
  {
   "cell_type": "code",
   "execution_count": 2,
   "id": "72356e82-799f-49e3-a011-32dca3ecf726",
   "metadata": {},
   "outputs": [],
   "source": [
    "dataset = pd.read_csv('Credit_Card_Applications.csv')"
   ]
  },
  {
   "cell_type": "code",
   "execution_count": 3,
   "id": "e30c466b-d40c-45b0-9011-626ab6022278",
   "metadata": {},
   "outputs": [
    {
     "data": {
      "text/html": [
       "<div>\n",
       "<style scoped>\n",
       "    .dataframe tbody tr th:only-of-type {\n",
       "        vertical-align: middle;\n",
       "    }\n",
       "\n",
       "    .dataframe tbody tr th {\n",
       "        vertical-align: top;\n",
       "    }\n",
       "\n",
       "    .dataframe thead th {\n",
       "        text-align: right;\n",
       "    }\n",
       "</style>\n",
       "<table border=\"1\" class=\"dataframe\">\n",
       "  <thead>\n",
       "    <tr style=\"text-align: right;\">\n",
       "      <th></th>\n",
       "      <th>CustomerID</th>\n",
       "      <th>A1</th>\n",
       "      <th>A2</th>\n",
       "      <th>A3</th>\n",
       "      <th>A4</th>\n",
       "      <th>A5</th>\n",
       "      <th>A6</th>\n",
       "      <th>A7</th>\n",
       "      <th>A8</th>\n",
       "      <th>A9</th>\n",
       "      <th>A10</th>\n",
       "      <th>A11</th>\n",
       "      <th>A12</th>\n",
       "      <th>A13</th>\n",
       "      <th>A14</th>\n",
       "      <th>Class</th>\n",
       "    </tr>\n",
       "  </thead>\n",
       "  <tbody>\n",
       "    <tr>\n",
       "      <th>0</th>\n",
       "      <td>15776156</td>\n",
       "      <td>1</td>\n",
       "      <td>22.08</td>\n",
       "      <td>11.46</td>\n",
       "      <td>2</td>\n",
       "      <td>4</td>\n",
       "      <td>4</td>\n",
       "      <td>1.585</td>\n",
       "      <td>0</td>\n",
       "      <td>0</td>\n",
       "      <td>0</td>\n",
       "      <td>1</td>\n",
       "      <td>2</td>\n",
       "      <td>100</td>\n",
       "      <td>1213</td>\n",
       "      <td>0</td>\n",
       "    </tr>\n",
       "    <tr>\n",
       "      <th>1</th>\n",
       "      <td>15739548</td>\n",
       "      <td>0</td>\n",
       "      <td>22.67</td>\n",
       "      <td>7.00</td>\n",
       "      <td>2</td>\n",
       "      <td>8</td>\n",
       "      <td>4</td>\n",
       "      <td>0.165</td>\n",
       "      <td>0</td>\n",
       "      <td>0</td>\n",
       "      <td>0</td>\n",
       "      <td>0</td>\n",
       "      <td>2</td>\n",
       "      <td>160</td>\n",
       "      <td>1</td>\n",
       "      <td>0</td>\n",
       "    </tr>\n",
       "  </tbody>\n",
       "</table>\n",
       "</div>"
      ],
      "text/plain": [
       "   CustomerID  A1     A2     A3  A4  A5  A6     A7  A8  A9  A10  A11  A12  \\\n",
       "0    15776156   1  22.08  11.46   2   4   4  1.585   0   0    0    1    2   \n",
       "1    15739548   0  22.67   7.00   2   8   4  0.165   0   0    0    0    2   \n",
       "\n",
       "   A13   A14  Class  \n",
       "0  100  1213      0  \n",
       "1  160     1      0  "
      ]
     },
     "execution_count": 3,
     "metadata": {},
     "output_type": "execute_result"
    }
   ],
   "source": [
    "dataset.head(2)"
   ]
  },
  {
   "cell_type": "code",
   "execution_count": 34,
   "id": "45a8534a-239e-4a37-8e1b-dea0aae9be2a",
   "metadata": {},
   "outputs": [],
   "source": [
    "X = dataset.iloc[:,:-1].values\n",
    "y = dataset.iloc[:,-1:].values"
   ]
  },
  {
   "cell_type": "code",
   "execution_count": 35,
   "id": "1336ab4c-e8fb-42c5-88c7-b120a4270465",
   "metadata": {},
   "outputs": [],
   "source": [
    "# Feature Scaling\n",
    "from sklearn.preprocessing import MinMaxScaler\n",
    "sc = MinMaxScaler(feature_range=(0,1))\n",
    "X = sc.fit_transform(X)"
   ]
  },
  {
   "cell_type": "code",
   "execution_count": 6,
   "id": "4c4a4043-7a74-4f53-b9e4-62bb5534ca6f",
   "metadata": {},
   "outputs": [
    {
     "name": "stdout",
     "output_type": "stream",
     "text": [
      "Requirement already satisfied: minisom in c:\\users\\chira\\appdata\\local\\programs\\python\\python311\\lib\\site-packages (2.3.1)\n"
     ]
    },
    {
     "name": "stderr",
     "output_type": "stream",
     "text": [
      "\n",
      "[notice] A new release of pip is available: 23.2.1 -> 24.0\n",
      "[notice] To update, run: python.exe -m pip install --upgrade pip\n"
     ]
    }
   ],
   "source": [
    "!pip install minisom"
   ]
  },
  {
   "cell_type": "code",
   "execution_count": 36,
   "id": "fec12c40-4156-4311-8484-d7258ffc6aa0",
   "metadata": {},
   "outputs": [],
   "source": [
    "# Training the SOM\n",
    "from minisom import MiniSom"
   ]
  },
  {
   "cell_type": "code",
   "execution_count": 37,
   "id": "95007278-e896-4724-8c2b-3ac9c7549242",
   "metadata": {},
   "outputs": [],
   "source": [
    "som = MiniSom(x=10,y=10,input_len=15,sigma=1.0,learning_rate=0.5)"
   ]
  },
  {
   "cell_type": "code",
   "execution_count": 38,
   "id": "93cbb09e-7772-49a3-bdbe-8e73bbe43a97",
   "metadata": {},
   "outputs": [],
   "source": [
    "# Initialize Weights\n",
    "som.random_weights_init(X)"
   ]
  },
  {
   "cell_type": "code",
   "execution_count": 39,
   "id": "37e769c8-e879-4666-bd56-fcdda16ac93e",
   "metadata": {},
   "outputs": [],
   "source": [
    "# Train Model\n",
    "som.train_random(X,num_iteration=100)"
   ]
  },
  {
   "cell_type": "code",
   "execution_count": 40,
   "id": "271d6ee8-864b-4544-83cb-4791834d3416",
   "metadata": {},
   "outputs": [],
   "source": [
    "# Visualizing results\n",
    "from pylab import bone,pcolor,colorbar,plot,show"
   ]
  },
  {
   "cell_type": "code",
   "execution_count": 41,
   "id": "2b5a71d5-35ab-41bb-8dbd-d5bb11abfcb9",
   "metadata": {},
   "outputs": [
    {
     "data": {
      "text/plain": [
       "(690, 1)"
      ]
     },
     "execution_count": 41,
     "metadata": {},
     "output_type": "execute_result"
    }
   ],
   "source": [
    "y.shape"
   ]
  },
  {
   "cell_type": "code",
   "execution_count": 42,
   "id": "a0fbef0d-b75f-4e7d-b9d4-a3b8c2fb677a",
   "metadata": {},
   "outputs": [
    {
     "data": {
      "image/png": "[encoded data removed]",
      "text/plain": [
       "<Figure size 640x480 with 2 Axes>"
      ]
     },
     "metadata": {},
     "output_type": "display_data"
    }
   ],
   "source": [
    "bone()\n",
    "pcolor(som.distance_map().T)\n",
    "colorbar()\n",
    "markers = ['o','s']\n",
    "colors = ['r','g']\n",
    "\n",
    "for i,x in enumerate(X):\n",
    "    w = som.winner(x)\n",
    "    plot(w[0]+0.5,\n",
    "         w[1]+0.5,\n",
    "         markers[int(y[i])],\n",
    "         markeredgecolor = colors[int(y[i])],\n",
    "         markerfacecolor = 'None',\n",
    "         markersize = 10,\n",
    "         markeredgewidth = 2)\n",
    "\n",
    "show()"
   ]
  },
  {
   "cell_type": "code",
   "execution_count": 43,
   "id": "c87705b2-05dc-48bf-9058-321ba5d896d0",
   "metadata": {},
   "outputs": [],
   "source": [
    "mappings = som.win_map(X)"
   ]
  },
  {
   "cell_type": "code",
   "execution_count": 45,
   "id": "7bbd0bc6-7b95-4800-bb2a-1e458b0ab7fd",
   "metadata": {},
   "outputs": [
    {
     "data": {
      "text/plain": [
       "dict_keys([(1, 2), (5, 6), (1, 6), (1, 9), (2, 3), (1, 0), (2, 5), (4, 7), (1, 8), (5, 9), (9, 4), (9, 9), (0, 9), (9, 0), (2, 8), (0, 3), (4, 0), (0, 7), (4, 9), (8, 5), (6, 5), (7, 7), (7, 9), (0, 1), (3, 8), (3, 3), (9, 6), (6, 4), (8, 2), (9, 8), (8, 6), (8, 9), (3, 1), (5, 1), (0, 2), (8, 4), (0, 5), (6, 0), (4, 8), (0, 4), (6, 2), (4, 3), (7, 3), (9, 7), (3, 2), (5, 3), (7, 1), (2, 7), (8, 3), (4, 1), (3, 0), (4, 5), (1, 7), (4, 4), (6, 9), (3, 6), (6, 7), (1, 3), (0, 6), (5, 0), (3, 7), (5, 8), (8, 0), (6, 3), (7, 2), (4, 2), (1, 4), (8, 8), (3, 9), (8, 7), (2, 1), (5, 4), (9, 2), (2, 0), (1, 5), (2, 6), (5, 2), (3, 4), (7, 6), (7, 4)])"
      ]
     },
     "execution_count": 45,
     "metadata": {},
     "output_type": "execute_result"
    }
   ],
   "source": [
    "mappings.keys()"
   ]
  },
  {
   "cell_type": "code",
   "execution_count": 54,
   "id": "36b4ec0b-5aad-40e5-b711-1df15d0e0fd7",
   "metadata": {},
   "outputs": [],
   "source": [
    "frauds = np.concatenate([mappings[(5,3)],mappings[(2,7)],mappings[(4,8)]]) "
   ]
  },
  {
   "cell_type": "code",
   "execution_count": 56,
   "id": "ba7396da-2464-4c90-8327-c7c4c490ae8a",
   "metadata": {},
   "outputs": [],
   "source": [
    "frauds = sc.inverse_transform(frauds)"
   ]
  },
  {
   "cell_type": "code",
   "execution_count": 57,
   "id": "bd804802-8891-40b0-af08-2cd94c235b95",
   "metadata": {},
   "outputs": [
    {
     "data": {
      "text/plain": [
       "array([[1.5719940e+07, 0.0000000e+00, 3.5170000e+01, 3.7500000e+00,\n",
       "        2.0000000e+00, 1.0000000e+00, 1.0000000e+00, 0.0000000e+00,\n",
       "        0.0000000e+00, 1.0000000e+00, 6.0000000e+00, 0.0000000e+00,\n",
       "        2.0000000e+00, 0.0000000e+00, 2.0100000e+02],\n",
       "       [1.5711742e+07, 0.0000000e+00, 2.3000000e+01, 1.8350000e+00,\n",
       "        2.0000000e+00, 5.0000000e+00, 3.0000000e+00, 0.0000000e+00,\n",
       "        0.0000000e+00, 1.0000000e+00, 1.0000000e+00, 0.0000000e+00,\n",
       "        2.0000000e+00, 2.0000000e+02, 5.4000000e+01],\n",
       "       [1.5761733e+07, 0.0000000e+00, 1.6080000e+01, 3.3500000e-01,\n",
       "        2.0000000e+00, 1.0000000e+00, 1.0000000e+00, 0.0000000e+00,\n",
       "        0.0000000e+00, 1.0000000e+00, 1.0000000e+00, 0.0000000e+00,\n",
       "        2.0000000e+00, 1.6000000e+02, 1.2700000e+02],\n",
       "       [1.5770995e+07, 0.0000000e+00, 4.0330000e+01, 8.1250000e+00,\n",
       "        1.0000000e+00, 4.0000000e+00, 4.0000000e+00, 1.6500000e-01,\n",
       "        0.0000000e+00, 1.0000000e+00, 2.0000000e+00, 0.0000000e+00,\n",
       "        2.0000000e+00, 1.8400000e+02, 1.9000000e+01],\n",
       "       [1.5736399e+07, 0.0000000e+00, 3.6580000e+01, 2.9000000e-01,\n",
       "        2.0000000e+00, 1.0000000e+00, 1.0000000e+00, 0.0000000e+00,\n",
       "        0.0000000e+00, 1.0000000e+00, 1.0000000e+01, 0.0000000e+00,\n",
       "        2.0000000e+00, 2.0000000e+02, 1.9000000e+01],\n",
       "       [1.5766734e+07, 0.0000000e+00, 2.7170000e+01, 1.2500000e+00,\n",
       "        2.0000000e+00, 1.0000000e+00, 1.0000000e+00, 0.0000000e+00,\n",
       "        0.0000000e+00, 1.0000000e+00, 1.0000000e+00, 0.0000000e+00,\n",
       "        2.0000000e+00, 9.2000000e+01, 3.0100000e+02],\n",
       "       [1.5667934e+07, 0.0000000e+00, 5.7580000e+01, 2.0000000e+00,\n",
       "        2.0000000e+00, 1.0000000e+00, 1.0000000e+00, 6.5000000e+00,\n",
       "        0.0000000e+00, 1.0000000e+00, 1.0000000e+00, 0.0000000e+00,\n",
       "        2.0000000e+00, 0.0000000e+00, 1.1000000e+01],\n",
       "       [1.5571415e+07, 1.0000000e+00, 3.7580000e+01, 0.0000000e+00,\n",
       "        2.0000000e+00, 8.0000000e+00, 4.0000000e+00, 0.0000000e+00,\n",
       "        0.0000000e+00, 0.0000000e+00, 0.0000000e+00, 0.0000000e+00,\n",
       "        3.0000000e+00, 1.8400000e+02, 1.0000000e+00],\n",
       "       [1.5699340e+07, 1.0000000e+00, 2.3170000e+01, 0.0000000e+00,\n",
       "        2.0000000e+00, 8.0000000e+00, 4.0000000e+00, 0.0000000e+00,\n",
       "        0.0000000e+00, 0.0000000e+00, 0.0000000e+00, 0.0000000e+00,\n",
       "        3.0000000e+00, 1.8400000e+02, 1.0000000e+00],\n",
       "       [1.5644400e+07, 1.0000000e+00, 3.4580000e+01, 0.0000000e+00,\n",
       "        2.0000000e+00, 8.0000000e+00, 4.0000000e+00, 0.0000000e+00,\n",
       "        0.0000000e+00, 0.0000000e+00, 0.0000000e+00, 0.0000000e+00,\n",
       "        3.0000000e+00, 1.8400000e+02, 1.0000000e+00],\n",
       "       [1.5684440e+07, 1.0000000e+00, 3.3670000e+01, 2.1650000e+00,\n",
       "        2.0000000e+00, 8.0000000e+00, 4.0000000e+00, 1.5000000e+00,\n",
       "        0.0000000e+00, 0.0000000e+00, 0.0000000e+00, 0.0000000e+00,\n",
       "        3.0000000e+00, 1.2000000e+02, 1.0000000e+00],\n",
       "       [1.5608595e+07, 0.0000000e+00, 3.0420000e+01, 1.3750000e+00,\n",
       "        2.0000000e+00, 9.0000000e+00, 8.0000000e+00, 4.0000000e-02,\n",
       "        0.0000000e+00, 1.0000000e+00, 3.0000000e+00, 0.0000000e+00,\n",
       "        2.0000000e+00, 0.0000000e+00, 3.4000000e+01],\n",
       "       [1.5761158e+07, 0.0000000e+00, 1.6500000e+01, 1.2500000e+00,\n",
       "        2.0000000e+00, 1.1000000e+01, 4.0000000e+00, 2.5000000e-01,\n",
       "        0.0000000e+00, 1.0000000e+00, 1.0000000e+00, 0.0000000e+00,\n",
       "        2.0000000e+00, 1.0800000e+02, 9.9000000e+01],\n",
       "       [1.5666166e+07, 0.0000000e+00, 2.0080000e+01, 1.2500000e-01,\n",
       "        2.0000000e+00, 1.1000000e+01, 4.0000000e+00, 1.0000000e+00,\n",
       "        0.0000000e+00, 1.0000000e+00, 1.0000000e+00, 0.0000000e+00,\n",
       "        2.0000000e+00, 2.4000000e+02, 7.6900000e+02],\n",
       "       [1.5665087e+07, 0.0000000e+00, 1.8250000e+01, 1.0000000e+01,\n",
       "        2.0000000e+00, 9.0000000e+00, 4.0000000e+00, 1.0000000e+00,\n",
       "        0.0000000e+00, 1.0000000e+00, 1.0000000e+00, 0.0000000e+00,\n",
       "        2.0000000e+00, 1.2000000e+02, 2.0000000e+00]])"
      ]
     },
     "execution_count": 57,
     "metadata": {},
     "output_type": "execute_result"
    }
   ],
   "source": [
    "frauds"
   ]
  },
  {
   "cell_type": "code",
   "execution_count": null,
   "id": "8cb3c3c0-7a36-426b-b963-fb801652f72c",
   "metadata": {},
   "outputs": [],
   "source": []
  }
 ],
 "metadata": {
  "kernelspec": {
   "display_name": "Python 3 (ipykernel)",
   "language": "python",
   "name": "python3"
  },
  "language_info": {
   "codemirror_mode": {
    "name": "ipython",
    "version": 3
   },
   "file_extension": ".py",
   "mimetype": "text/x-python",
   "name": "python",
   "nbconvert_exporter": "python",
   "pygments_lexer": "ipython3",
   "version": "3.11.4"
  }
 },
 "nbformat": 4,
 "nbformat_minor": 5
}
