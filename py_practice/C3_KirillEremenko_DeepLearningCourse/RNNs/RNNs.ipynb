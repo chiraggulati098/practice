{
 "cells": [
  {
   "cell_type": "code",
   "execution_count": 3,
   "id": "c9592edd-36a9-4687-8187-95ce5b5d9616",
   "metadata": {},
   "outputs": [],
   "source": [
    "#importing libraries\n",
    "import numpy as np\n",
    "import matplotlib.pyplot as plt\n",
    "import pandas as pd"
   ]
  },
  {
   "cell_type": "markdown",
   "id": "a8719c22-c119-4766-a44e-26e9e10a2e0e",
   "metadata": {},
   "source": [
    "### Data Preprocessing"
   ]
  },
  {
   "cell_type": "code",
   "execution_count": 4,
   "id": "a1db1af6-c9d8-4b8e-ab72-54d6a988f8e3",
   "metadata": {},
   "outputs": [],
   "source": [
    "#import training set\n",
    "dataset_train = pd.read_csv('Google_Stock_Price_Train.csv')"
   ]
  },
  {
   "cell_type": "code",
   "execution_count": 5,
   "id": "ba987c4b-d5f7-4524-8895-ba14226b3f45",
   "metadata": {},
   "outputs": [
    {
     "data": {
      "text/html": [
       "<div>\n",
       "<style scoped>\n",
       "    .dataframe tbody tr th:only-of-type {\n",
       "        vertical-align: middle;\n",
       "    }\n",
       "\n",
       "    .dataframe tbody tr th {\n",
       "        vertical-align: top;\n",
       "    }\n",
       "\n",
       "    .dataframe thead th {\n",
       "        text-align: right;\n",
       "    }\n",
       "</style>\n",
       "<table border=\"1\" class=\"dataframe\">\n",
       "  <thead>\n",
       "    <tr style=\"text-align: right;\">\n",
       "      <th></th>\n",
       "      <th>Date</th>\n",
       "      <th>Open</th>\n",
       "      <th>High</th>\n",
       "      <th>Low</th>\n",
       "      <th>Close</th>\n",
       "      <th>Volume</th>\n",
       "    </tr>\n",
       "  </thead>\n",
       "  <tbody>\n",
       "    <tr>\n",
       "      <th>0</th>\n",
       "      <td>1/3/2012</td>\n",
       "      <td>325.25</td>\n",
       "      <td>332.83</td>\n",
       "      <td>324.97</td>\n",
       "      <td>663.59</td>\n",
       "      <td>7,380,500</td>\n",
       "    </tr>\n",
       "  </tbody>\n",
       "</table>\n",
       "</div>"
      ],
      "text/plain": [
       "       Date    Open    High     Low   Close     Volume\n",
       "0  1/3/2012  325.25  332.83  324.97  663.59  7,380,500"
      ]
     },
     "execution_count": 5,
     "metadata": {},
     "output_type": "execute_result"
    }
   ],
   "source": [
    "dataset_train.head(1)"
   ]
  },
  {
   "cell_type": "code",
   "execution_count": 12,
   "id": "a15d3071-9975-4954-a1e5-a2f51e77cbd2",
   "metadata": {},
   "outputs": [],
   "source": [
    "training_set = dataset_train.iloc[:,1:2].values #need numpy array"
   ]
  },
  {
   "cell_type": "code",
   "execution_count": 11,
   "id": "2e7d3b2b-86e5-4d8f-b943-6ed913558cca",
   "metadata": {},
   "outputs": [
    {
     "data": {
      "text/plain": [
       "numpy.ndarray"
      ]
     },
     "execution_count": 11,
     "metadata": {},
     "output_type": "execute_result"
    }
   ],
   "source": [
    "type(training_set)"
   ]
  },
  {
   "cell_type": "code",
   "execution_count": 14,
   "id": "cd03968d-a469-4c5d-b0cf-95ca984d850b",
   "metadata": {},
   "outputs": [],
   "source": [
    "#feature scaling\n",
    "from sklearn.preprocessing import MinMaxScaler\n",
    "sc = MinMaxScaler(feature_range=(0, 1))"
   ]
  },
  {
   "cell_type": "code",
   "execution_count": 15,
   "id": "a96c5ec1-896e-4e11-9701-63ef53a2d102",
   "metadata": {},
   "outputs": [],
   "source": [
    "training_set_scaled = sc.fit_transform(training_set)"
   ]
  },
  {
   "cell_type": "code",
   "execution_count": 17,
   "id": "16dc8642-1709-4293-9348-d0ef9ee5ec3c",
   "metadata": {},
   "outputs": [
    {
     "data": {
      "text/plain": [
       "array([[0.08581368],\n",
       "       [0.09701243],\n",
       "       [0.09433366],\n",
       "       ...,\n",
       "       [0.95725128],\n",
       "       [0.93796041],\n",
       "       [0.93688146]])"
      ]
     },
     "execution_count": 17,
     "metadata": {},
     "output_type": "execute_result"
    }
   ],
   "source": [
    "training_set_scaled"
   ]
  },
  {
   "cell_type": "code",
   "execution_count": 19,
   "id": "44ce34ac-8c37-47ce-912d-d04bd260759f",
   "metadata": {},
   "outputs": [
    {
     "data": {
      "text/plain": [
       "(1258, 1)"
      ]
     },
     "execution_count": 19,
     "metadata": {},
     "output_type": "execute_result"
    }
   ],
   "source": [
    "training_set_scaled.shape"
   ]
  },
  {
   "cell_type": "code",
   "execution_count": 26,
   "id": "c6055168-bcf0-4f33-be00-2b6b9bf287cc",
   "metadata": {},
   "outputs": [],
   "source": [
    "#creating data structure with 60 timesteps and 1 output\n",
    "#X_train - last 60 days price, y_train - next day price\n",
    "\n",
    "X_train = []\n",
    "y_train = []\n",
    "\n",
    "for i in range(60,1258):\n",
    "    X_train.append(training_set_scaled[i-60:i,0])\n",
    "    y_train.append(training_set_scaled[i,0])\n",
    "\n",
    "X_train, y_train = np.array(X_train),np.array(y_train)"
   ]
  },
  {
   "cell_type": "code",
   "execution_count": 34,
   "id": "c9eefd85-99c8-4386-89de-d817c68e5f0c",
   "metadata": {},
   "outputs": [
    {
     "data": {
      "text/plain": [
       "(1198, 60)"
      ]
     },
     "execution_count": 34,
     "metadata": {},
     "output_type": "execute_result"
    }
   ],
   "source": [
    "X_train.shape"
   ]
  },
  {
   "cell_type": "code",
   "execution_count": 32,
   "id": "2305e12e-c871-44d0-86f5-d9619f9b8e86",
   "metadata": {},
   "outputs": [
    {
     "data": {
      "text/plain": [
       "(1198,)"
      ]
     },
     "execution_count": 32,
     "metadata": {},
     "output_type": "execute_result"
    }
   ],
   "source": [
    "y_train.shape"
   ]
  },
  {
   "cell_type": "code",
   "execution_count": 40,
   "id": "262d0f9b-344b-48a7-8390-314b40646f18",
   "metadata": {},
   "outputs": [],
   "source": [
    "#reshaping\n",
    "X_train = np.reshape(X_train,(X_train.shape[0],X_train.shape[1],1))"
   ]
  },
  {
   "cell_type": "code",
   "execution_count": 41,
   "id": "cd11ced4-c837-439b-83e4-29e09978c7ab",
   "metadata": {},
   "outputs": [
    {
     "data": {
      "text/plain": [
       "(1198, 60, 1)"
      ]
     },
     "execution_count": 41,
     "metadata": {},
     "output_type": "execute_result"
    }
   ],
   "source": [
    "X_train.shape"
   ]
  },
  {
   "cell_type": "markdown",
   "id": "74b4e3e7-642e-4d56-98a4-f90baacdffaf",
   "metadata": {},
   "source": [
    "### Building the RNN"
   ]
  },
  {
   "cell_type": "code",
   "execution_count": 43,
   "id": "efbbe77a-36cb-4f50-b4cc-165f1477d72d",
   "metadata": {},
   "outputs": [],
   "source": [
    "from keras.models import Sequential"
   ]
  },
  {
   "cell_type": "code",
   "execution_count": 44,
   "id": "70620726-e018-4647-af7c-b00321e38cce",
   "metadata": {},
   "outputs": [],
   "source": [
    "from keras.layers import Dense,LSTM,Dropout"
   ]
  },
  {
   "cell_type": "code",
   "execution_count": 45,
   "id": "b8bb6185-1584-4edc-b0ab-d352f853e7bc",
   "metadata": {},
   "outputs": [],
   "source": [
    "#initializee the RNN\n",
    "regressor = Sequential()"
   ]
  },
  {
   "cell_type": "code",
   "execution_count": 46,
   "id": "60f92395-66ca-4802-a63d-acec6a1200a7",
   "metadata": {},
   "outputs": [],
   "source": [
    "#Adding first LSTM layer and some Dropout regularization\n",
    "regressor.add(LSTM(units=50,return_sequences=True,input_shape=(X_train.shape[1],1)))\n",
    "'''\n",
    "parameters:\n",
    "units - number of neurons\n",
    "return_sequence - should be set to true if more layers are to be added\n",
    "input_shape - shape of every time frame entry\n",
    "'''\n",
    "regressor.add(Dropout(rate=0.2))\n",
    "# 20 percent of neurons will be ignored during training in each epoch\n",
    "# used to prevent overfitting"
   ]
  },
  {
   "cell_type": "code",
   "execution_count": 47,
   "id": "de9a9fac-b519-4d3d-96b6-73b3b289cfc1",
   "metadata": {},
   "outputs": [],
   "source": [
    "# Adding 2nd, 3rd and 4th LSTM layer and some Dropout regularization\n",
    "regressor.add(LSTM(units=50,return_sequences=True)) # no need to mention input_shape now\n",
    "regressor.add(Dropout(rate=0.2))\n",
    "\n",
    "regressor.add(LSTM(units=50,return_sequences=True)) \n",
    "regressor.add(Dropout(rate=0.2))\n",
    "\n",
    "regressor.add(LSTM(units=50,return_sequences=False)) \n",
    "# return sequences should be false as no more LSTM layers to be added\n",
    "regressor.add(Dropout(rate=0.2))"
   ]
  },
  {
   "cell_type": "code",
   "execution_count": 48,
   "id": "0c7c09e6-80f4-45ed-aacd-60dd8d59ec87",
   "metadata": {},
   "outputs": [],
   "source": [
    "# Adding output layer \n",
    "regressor.add(Dense(units=1))"
   ]
  },
  {
   "cell_type": "code",
   "execution_count": 49,
   "id": "dc85122b-7c0a-4fed-bab1-e2d64fc748be",
   "metadata": {},
   "outputs": [],
   "source": [
    "# Compiling the RNN\n",
    "regressor.compile(optimizer='adam', loss='mean_squared_error')"
   ]
  },
  {
   "cell_type": "code",
   "execution_count": 50,
   "id": "8303fe2b-a98a-464d-8d6d-5a8736da2180",
   "metadata": {},
   "outputs": [
    {
     "name": "stdout",
     "output_type": "stream",
     "text": [
      "Epoch 1/100\n",
      "38/38 [==============================] - 11s 61ms/step - loss: 0.0445\n",
      "Epoch 2/100\n",
      "38/38 [==============================] - 2s 63ms/step - loss: 0.0057\n",
      "Epoch 3/100\n",
      "38/38 [==============================] - 2s 62ms/step - loss: 0.0053\n",
      "Epoch 4/100\n",
      "38/38 [==============================] - 2s 56ms/step - loss: 0.0056\n",
      "Epoch 5/100\n",
      "38/38 [==============================] - 2s 61ms/step - loss: 0.0047\n",
      "Epoch 6/100\n",
      "38/38 [==============================] - 3s 72ms/step - loss: 0.0053\n",
      "Epoch 7/100\n",
      "38/38 [==============================] - 3s 65ms/step - loss: 0.0051\n",
      "Epoch 8/100\n",
      "38/38 [==============================] - 2s 58ms/step - loss: 0.0045\n",
      "Epoch 9/100\n",
      "38/38 [==============================] - 3s 67ms/step - loss: 0.0044\n",
      "Epoch 10/100\n",
      "38/38 [==============================] - 2s 63ms/step - loss: 0.0041\n",
      "Epoch 11/100\n",
      "38/38 [==============================] - 3s 66ms/step - loss: 0.0042\n",
      "Epoch 12/100\n",
      "38/38 [==============================] - 3s 67ms/step - loss: 0.0043\n",
      "Epoch 13/100\n",
      "38/38 [==============================] - 3s 68ms/step - loss: 0.0040\n",
      "Epoch 14/100\n",
      "38/38 [==============================] - 3s 67ms/step - loss: 0.0042\n",
      "Epoch 15/100\n",
      "38/38 [==============================] - 2s 61ms/step - loss: 0.0039\n",
      "Epoch 16/100\n",
      "38/38 [==============================] - 3s 81ms/step - loss: 0.0036\n",
      "Epoch 17/100\n",
      "38/38 [==============================] - 4s 92ms/step - loss: 0.0037\n",
      "Epoch 18/100\n",
      "38/38 [==============================] - 2s 60ms/step - loss: 0.0039\n",
      "Epoch 19/100\n",
      "38/38 [==============================] - 3s 78ms/step - loss: 0.0034\n",
      "Epoch 20/100\n",
      "38/38 [==============================] - 3s 91ms/step - loss: 0.0035\n",
      "Epoch 21/100\n",
      "38/38 [==============================] - 3s 66ms/step - loss: 0.0032\n",
      "Epoch 22/100\n",
      "38/38 [==============================] - 2s 63ms/step - loss: 0.0036\n",
      "Epoch 23/100\n",
      "38/38 [==============================] - 2s 65ms/step - loss: 0.0034\n",
      "Epoch 24/100\n",
      "38/38 [==============================] - 2s 62ms/step - loss: 0.0032\n",
      "Epoch 25/100\n",
      "38/38 [==============================] - 2s 62ms/step - loss: 0.0033\n",
      "Epoch 26/100\n",
      "38/38 [==============================] - 3s 67ms/step - loss: 0.0034\n",
      "Epoch 27/100\n",
      "38/38 [==============================] - 3s 67ms/step - loss: 0.0042\n",
      "Epoch 28/100\n",
      "38/38 [==============================] - 3s 67ms/step - loss: 0.0037\n",
      "Epoch 29/100\n",
      "38/38 [==============================] - 2s 63ms/step - loss: 0.0030\n",
      "Epoch 30/100\n",
      "38/38 [==============================] - 3s 67ms/step - loss: 0.0029\n",
      "Epoch 31/100\n",
      "38/38 [==============================] - 3s 69ms/step - loss: 0.0031\n",
      "Epoch 32/100\n",
      "38/38 [==============================] - 3s 66ms/step - loss: 0.0027\n",
      "Epoch 33/100\n",
      "38/38 [==============================] - 2s 65ms/step - loss: 0.0030\n",
      "Epoch 34/100\n",
      "38/38 [==============================] - 2s 65ms/step - loss: 0.0029\n",
      "Epoch 35/100\n",
      "38/38 [==============================] - 2s 65ms/step - loss: 0.0028\n",
      "Epoch 36/100\n",
      "38/38 [==============================] - 2s 64ms/step - loss: 0.0028\n",
      "Epoch 37/100\n",
      "38/38 [==============================] - 3s 68ms/step - loss: 0.0024\n",
      "Epoch 38/100\n",
      "38/38 [==============================] - 3s 69ms/step - loss: 0.0026\n",
      "Epoch 39/100\n",
      "38/38 [==============================] - 2s 65ms/step - loss: 0.0026\n",
      "Epoch 40/100\n",
      "38/38 [==============================] - 2s 66ms/step - loss: 0.0028\n",
      "Epoch 41/100\n",
      "38/38 [==============================] - 2s 62ms/step - loss: 0.0026\n",
      "Epoch 42/100\n",
      "38/38 [==============================] - 2s 65ms/step - loss: 0.0024\n",
      "Epoch 43/100\n",
      "38/38 [==============================] - 3s 66ms/step - loss: 0.0023\n",
      "Epoch 44/100\n",
      "38/38 [==============================] - 2s 65ms/step - loss: 0.0028\n",
      "Epoch 45/100\n",
      "38/38 [==============================] - 3s 69ms/step - loss: 0.0025\n",
      "Epoch 46/100\n",
      "38/38 [==============================] - 3s 66ms/step - loss: 0.0024\n",
      "Epoch 47/100\n",
      "38/38 [==============================] - 2s 63ms/step - loss: 0.0027\n",
      "Epoch 48/100\n",
      "38/38 [==============================] - 2s 62ms/step - loss: 0.0023\n",
      "Epoch 49/100\n",
      "38/38 [==============================] - 2s 64ms/step - loss: 0.0025\n",
      "Epoch 50/100\n",
      "38/38 [==============================] - 2s 61ms/step - loss: 0.0024\n",
      "Epoch 51/100\n",
      "38/38 [==============================] - 2s 64ms/step - loss: 0.0029\n",
      "Epoch 52/100\n",
      "38/38 [==============================] - 3s 68ms/step - loss: 0.0028\n",
      "Epoch 53/100\n",
      "38/38 [==============================] - 2s 61ms/step - loss: 0.0022\n",
      "Epoch 54/100\n",
      "38/38 [==============================] - 2s 61ms/step - loss: 0.0023\n",
      "Epoch 55/100\n",
      "38/38 [==============================] - 2s 62ms/step - loss: 0.0027\n",
      "Epoch 56/100\n",
      "38/38 [==============================] - 2s 61ms/step - loss: 0.0023\n",
      "Epoch 57/100\n",
      "38/38 [==============================] - 2s 62ms/step - loss: 0.0022\n",
      "Epoch 58/100\n",
      "38/38 [==============================] - 2s 62ms/step - loss: 0.0020\n",
      "Epoch 59/100\n",
      "38/38 [==============================] - 3s 77ms/step - loss: 0.0022\n",
      "Epoch 60/100\n",
      "38/38 [==============================] - 3s 69ms/step - loss: 0.0022\n",
      "Epoch 61/100\n",
      "38/38 [==============================] - 2s 64ms/step - loss: 0.0019\n",
      "Epoch 62/100\n",
      "38/38 [==============================] - 3s 67ms/step - loss: 0.0020\n",
      "Epoch 63/100\n",
      "38/38 [==============================] - 3s 81ms/step - loss: 0.0023\n",
      "Epoch 64/100\n",
      "38/38 [==============================] - 3s 73ms/step - loss: 0.0020\n",
      "Epoch 65/100\n",
      "38/38 [==============================] - 3s 81ms/step - loss: 0.0020\n",
      "Epoch 66/100\n",
      "38/38 [==============================] - 2s 64ms/step - loss: 0.0022\n",
      "Epoch 67/100\n",
      "38/38 [==============================] - 2s 65ms/step - loss: 0.0021\n",
      "Epoch 68/100\n",
      "38/38 [==============================] - 2s 62ms/step - loss: 0.0018\n",
      "Epoch 69/100\n",
      "38/38 [==============================] - 2s 61ms/step - loss: 0.0018\n",
      "Epoch 70/100\n",
      "38/38 [==============================] - 2s 64ms/step - loss: 0.0019\n",
      "Epoch 71/100\n",
      "38/38 [==============================] - 2s 62ms/step - loss: 0.0019\n",
      "Epoch 72/100\n",
      "38/38 [==============================] - 2s 61ms/step - loss: 0.0017\n",
      "Epoch 73/100\n",
      "38/38 [==============================] - 2s 63ms/step - loss: 0.0019\n",
      "Epoch 74/100\n",
      "38/38 [==============================] - 2s 63ms/step - loss: 0.0018\n",
      "Epoch 75/100\n",
      "38/38 [==============================] - 2s 62ms/step - loss: 0.0018\n",
      "Epoch 76/100\n",
      "38/38 [==============================] - 2s 62ms/step - loss: 0.0018\n",
      "Epoch 77/100\n",
      "38/38 [==============================] - 2s 62ms/step - loss: 0.0018\n",
      "Epoch 78/100\n",
      "38/38 [==============================] - 2s 62ms/step - loss: 0.0016\n",
      "Epoch 79/100\n",
      "38/38 [==============================] - 2s 62ms/step - loss: 0.0015\n",
      "Epoch 80/100\n",
      "38/38 [==============================] - 2s 62ms/step - loss: 0.0018\n",
      "Epoch 81/100\n",
      "38/38 [==============================] - 2s 62ms/step - loss: 0.0017\n",
      "Epoch 82/100\n",
      "38/38 [==============================] - 2s 62ms/step - loss: 0.0016\n",
      "Epoch 83/100\n",
      "38/38 [==============================] - 2s 62ms/step - loss: 0.0016\n",
      "Epoch 84/100\n",
      "38/38 [==============================] - 2s 63ms/step - loss: 0.0020\n",
      "Epoch 85/100\n",
      "38/38 [==============================] - 2s 63ms/step - loss: 0.0016\n",
      "Epoch 86/100\n",
      "38/38 [==============================] - 2s 62ms/step - loss: 0.0017\n",
      "Epoch 87/100\n",
      "38/38 [==============================] - 2s 62ms/step - loss: 0.0017\n",
      "Epoch 88/100\n",
      "38/38 [==============================] - 2s 63ms/step - loss: 0.0018\n",
      "Epoch 89/100\n",
      "38/38 [==============================] - 2s 63ms/step - loss: 0.0017\n",
      "Epoch 90/100\n",
      "38/38 [==============================] - 2s 61ms/step - loss: 0.0016\n",
      "Epoch 91/100\n",
      "38/38 [==============================] - 2s 64ms/step - loss: 0.0017\n",
      "Epoch 92/100\n",
      "38/38 [==============================] - 2s 62ms/step - loss: 0.0017\n",
      "Epoch 93/100\n",
      "38/38 [==============================] - 2s 63ms/step - loss: 0.0017\n",
      "Epoch 94/100\n",
      "38/38 [==============================] - 2s 61ms/step - loss: 0.0016\n",
      "Epoch 95/100\n",
      "38/38 [==============================] - 2s 63ms/step - loss: 0.0015\n",
      "Epoch 96/100\n",
      "38/38 [==============================] - 2s 62ms/step - loss: 0.0015\n",
      "Epoch 97/100\n",
      "38/38 [==============================] - 2s 62ms/step - loss: 0.0014\n",
      "Epoch 98/100\n",
      "38/38 [==============================] - 2s 62ms/step - loss: 0.0015\n",
      "Epoch 99/100\n",
      "38/38 [==============================] - 2s 62ms/step - loss: 0.0015\n",
      "Epoch 100/100\n",
      "38/38 [==============================] - 2s 62ms/step - loss: 0.0015\n"
     ]
    },
    {
     "data": {
      "text/plain": [
       "<keras.src.callbacks.History at 0x276df28cf90>"
      ]
     },
     "execution_count": 50,
     "metadata": {},
     "output_type": "execute_result"
    }
   ],
   "source": [
    "# Fitting the RNN to the Training Set\n",
    "regressor.fit(x=X_train,y=y_train,epochs=100,batch_size=32)"
   ]
  },
  {
   "cell_type": "markdown",
   "id": "56b4e149-791b-48f2-877c-f06063292572",
   "metadata": {},
   "source": [
    "### Testing on Test Data"
   ]
  },
  {
   "cell_type": "code",
   "execution_count": 52,
   "id": "4ddf43f9-7438-4065-b1d7-5312a6bda5e9",
   "metadata": {},
   "outputs": [],
   "source": [
    "#importing real stock prices\n",
    "dataset_test = pd.read_csv('Google_Stock_Price_Test.csv')\n",
    "real_stock_price = dataset_test.iloc[:,1:2].values #need numpy array"
   ]
  },
  {
   "cell_type": "code",
   "execution_count": 53,
   "id": "e5349aa4-37c1-4611-a50a-db6b92ec5b58",
   "metadata": {
    "scrolled": true
   },
   "outputs": [
    {
     "data": {
      "text/plain": [
       "array([[778.81],\n",
       "       [788.36],\n",
       "       [786.08],\n",
       "       [795.26],\n",
       "       [806.4 ],\n",
       "       [807.86],\n",
       "       [805.  ],\n",
       "       [807.14],\n",
       "       [807.48],\n",
       "       [807.08],\n",
       "       [805.81],\n",
       "       [805.12],\n",
       "       [806.91],\n",
       "       [807.25],\n",
       "       [822.3 ],\n",
       "       [829.62],\n",
       "       [837.81],\n",
       "       [834.71],\n",
       "       [814.66],\n",
       "       [796.86]])"
      ]
     },
     "execution_count": 53,
     "metadata": {},
     "output_type": "execute_result"
    }
   ],
   "source": [
    "real_stock_price"
   ]
  },
  {
   "cell_type": "code",
   "execution_count": 62,
   "id": "e7b64704-0b1e-45c9-83c4-44e16e61bdd1",
   "metadata": {},
   "outputs": [],
   "source": [
    "#getting predicted stock price\n",
    "dataset_total = pd.concat((dataset_train['Open'],dataset_test['Open']),axis=0)\n",
    "inputs = dataset_total[len(dataset_total)-len(dataset_test)-60:].values #into numpy array\n",
    "inputs = inputs.reshape(-1,1)\n",
    "inputs = sc.transform(inputs) #scaled"
   ]
  },
  {
   "cell_type": "code",
   "execution_count": 64,
   "id": "b98eb630-1e38-46b6-b862-7307540827b2",
   "metadata": {},
   "outputs": [],
   "source": [
    "X_test = []\n",
    "\n",
    "for i in range(60,len(inputs)):\n",
    "    X_test.append(inputs[i-60:i,0])\n",
    "\n",
    "X_test = np.array(X_test)"
   ]
  },
  {
   "cell_type": "code",
   "execution_count": 65,
   "id": "b09597bb-d806-443b-8cae-02e890a44248",
   "metadata": {},
   "outputs": [
    {
     "data": {
      "text/plain": [
       "(20, 60)"
      ]
     },
     "execution_count": 65,
     "metadata": {},
     "output_type": "execute_result"
    }
   ],
   "source": [
    "X_test.shape"
   ]
  },
  {
   "cell_type": "code",
   "execution_count": 66,
   "id": "b9a42798-b3a3-4cf2-a41a-7ac4a92b5e59",
   "metadata": {},
   "outputs": [],
   "source": [
    "#reshaping\n",
    "X_test = np.reshape(X_test,(X_test.shape[0],X_test.shape[1],1))"
   ]
  },
  {
   "cell_type": "code",
   "execution_count": 67,
   "id": "dd28d66d-ca8b-44e7-a915-e5a3bb1c1f6c",
   "metadata": {},
   "outputs": [
    {
     "data": {
      "text/plain": [
       "(20, 60, 1)"
      ]
     },
     "execution_count": 67,
     "metadata": {},
     "output_type": "execute_result"
    }
   ],
   "source": [
    "X_test.shape"
   ]
  },
  {
   "cell_type": "code",
   "execution_count": 68,
   "id": "0aad77b7-4a4c-4b0c-aa34-5faa26991a30",
   "metadata": {},
   "outputs": [
    {
     "name": "stdout",
     "output_type": "stream",
     "text": [
      "1/1 [==============================] - 1s 1s/step\n"
     ]
    }
   ],
   "source": [
    "# Prediction Time\n",
    "predicted_stock_price = regressor.predict(X_test)\n",
    "predicted_stock_price = sc.inverse_transform(predicted_stock_price)"
   ]
  },
  {
   "cell_type": "code",
   "execution_count": 69,
   "id": "17827f38-5e8d-4b3d-b971-d6bfdfe14c61",
   "metadata": {},
   "outputs": [
    {
     "data": {
      "text/plain": [
       "array([[781.46045],\n",
       "       [778.812  ],\n",
       "       [778.8235 ],\n",
       "       [779.99506],\n",
       "       [783.0943 ],\n",
       "       [788.68536],\n",
       "       [793.993  ],\n",
       "       [796.4072 ],\n",
       "       [796.9444 ],\n",
       "       [796.7293 ],\n",
       "       [796.3811 ],\n",
       "       [796.00037],\n",
       "       [795.7414 ],\n",
       "       [796.2082 ],\n",
       "       [797.1623 ],\n",
       "       [801.55396],\n",
       "       [808.2321 ],\n",
       "       [815.5212 ],\n",
       "       [819.714  ],\n",
       "       [816.2367 ]], dtype=float32)"
      ]
     },
     "execution_count": 69,
     "metadata": {},
     "output_type": "execute_result"
    }
   ],
   "source": [
    "predicted_stock_price"
   ]
  },
  {
   "cell_type": "code",
   "execution_count": 80,
   "id": "2c95dfed-d3d4-4c78-911a-ca5e8b87ee19",
   "metadata": {},
   "outputs": [
    {
     "data": {
      "image/png": "[encoded data removed]",
      "text/plain": [
       "<Figure size 640x480 with 1 Axes>"
      ]
     },
     "metadata": {},
     "output_type": "display_data"
    }
   ],
   "source": [
    "# Visualizing the Results\n",
    "plt.plot(real_stock_price,color='red',label='Real Google Stock Price')\n",
    "plt.plot(predicted_stock_price,color='blue',label='Real Google Stock Price')\n",
    "plt.title('Google Stock Price Prediction')\n",
    "plt.xlabel('Time')\n",
    "plt.ylabel('Google Stock Price')\n",
    "plt.legend()\n",
    "plt.show()"
   ]
  },
  {
   "cell_type": "code",
   "execution_count": null,
   "id": "3b2527a5-935f-4937-b433-518a8e3a61ec",
   "metadata": {},
   "outputs": [],
   "source": []
  }
 ],
 "metadata": {
  "kernelspec": {
   "display_name": "Python 3 (ipykernel)",
   "language": "python",
   "name": "python3"
  },
  "language_info": {
   "codemirror_mode": {
    "name": "ipython",
    "version": 3
   },
   "file_extension": ".py",
   "mimetype": "text/x-python",
   "name": "python",
   "nbconvert_exporter": "python",
   "pygments_lexer": "ipython3",
   "version": "3.11.4"
  }
 },
 "nbformat": 4,
 "nbformat_minor": 5
}
