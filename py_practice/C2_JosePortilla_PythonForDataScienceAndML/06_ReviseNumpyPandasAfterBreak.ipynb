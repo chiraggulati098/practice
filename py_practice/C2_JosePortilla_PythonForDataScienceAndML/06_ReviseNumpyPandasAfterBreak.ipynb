{
 "cells": [
  {
   "cell_type": "code",
   "execution_count": 1,
   "id": "bea599cf-fd2f-47e1-ac87-5e5957730db7",
   "metadata": {},
   "outputs": [],
   "source": [
    "import numpy as np"
   ]
  },
  {
   "cell_type": "code",
   "execution_count": 3,
   "id": "86747c7d-234e-48f4-976c-d41da70dd25e",
   "metadata": {},
   "outputs": [
    {
     "data": {
      "text/plain": [
       "array([10, 12, 14, 16, 18, 20, 22, 24, 26, 28, 30, 32, 34, 36, 38, 40, 42,\n",
       "       44, 46, 48, 50])"
      ]
     },
     "execution_count": 3,
     "metadata": {},
     "output_type": "execute_result"
    }
   ],
   "source": [
    "np.arange(10,51,2)"
   ]
  },
  {
   "cell_type": "code",
   "execution_count": 5,
   "id": "24d6b9ed-ad22-4374-8a7b-9074026afdf7",
   "metadata": {},
   "outputs": [
    {
     "data": {
      "text/plain": [
       "array([[0, 1, 2],\n",
       "       [3, 4, 5],\n",
       "       [6, 7, 8]])"
      ]
     },
     "execution_count": 5,
     "metadata": {},
     "output_type": "execute_result"
    }
   ],
   "source": [
    "np.arange(9).reshape(3,3)"
   ]
  },
  {
   "cell_type": "code",
   "execution_count": 6,
   "id": "0a50a26a-a6fe-487e-9ce0-e73ccdcf607d",
   "metadata": {},
   "outputs": [
    {
     "data": {
      "text/plain": [
       "array([[1., 0., 0.],\n",
       "       [0., 1., 0.],\n",
       "       [0., 0., 1.]])"
      ]
     },
     "execution_count": 6,
     "metadata": {},
     "output_type": "execute_result"
    }
   ],
   "source": [
    "np.eye(3)"
   ]
  },
  {
   "cell_type": "code",
   "execution_count": 14,
   "id": "54cecac0-4ac3-4266-8d91-c94351ac1735",
   "metadata": {},
   "outputs": [
    {
     "data": {
      "text/plain": [
       "array([0.32989244])"
      ]
     },
     "execution_count": 14,
     "metadata": {},
     "output_type": "execute_result"
    }
   ],
   "source": [
    "np.random.rand(1)"
   ]
  },
  {
   "cell_type": "code",
   "execution_count": 16,
   "id": "e4c6bf92-a5c1-4997-aa32-485869aafae0",
   "metadata": {},
   "outputs": [
    {
     "data": {
      "text/plain": [
       "array([ 0.06173939, -0.13665309, -0.99786503,  1.56026043, -0.86920861,\n",
       "        1.02298643, -2.5549011 , -2.20248742,  1.11383704,  0.30518958,\n",
       "       -2.00016088, -0.97841579,  1.2652603 ,  1.0944462 , -1.25363257,\n",
       "        1.68560604,  0.87799536,  1.93010244,  0.4967002 ,  0.07092066,\n",
       "        0.17884121,  0.54212311, -2.16245835, -1.25888792,  0.9789728 ])"
      ]
     },
     "execution_count": 16,
     "metadata": {},
     "output_type": "execute_result"
    }
   ],
   "source": [
    "np.random.randn(25)"
   ]
  },
  {
   "cell_type": "code",
   "execution_count": 18,
   "id": "ff47256a-b0ef-44f7-98e7-e7adabd4f0bd",
   "metadata": {},
   "outputs": [
    {
     "data": {
      "text/plain": [
       "array([[0.01, 0.02, 0.03, 0.04, 0.05, 0.06, 0.07, 0.08, 0.09, 0.1 ],\n",
       "       [0.11, 0.12, 0.13, 0.14, 0.15, 0.16, 0.17, 0.18, 0.19, 0.2 ],\n",
       "       [0.21, 0.22, 0.23, 0.24, 0.25, 0.26, 0.27, 0.28, 0.29, 0.3 ],\n",
       "       [0.31, 0.32, 0.33, 0.34, 0.35, 0.36, 0.37, 0.38, 0.39, 0.4 ],\n",
       "       [0.41, 0.42, 0.43, 0.44, 0.45, 0.46, 0.47, 0.48, 0.49, 0.5 ],\n",
       "       [0.51, 0.52, 0.53, 0.54, 0.55, 0.56, 0.57, 0.58, 0.59, 0.6 ],\n",
       "       [0.61, 0.62, 0.63, 0.64, 0.65, 0.66, 0.67, 0.68, 0.69, 0.7 ],\n",
       "       [0.71, 0.72, 0.73, 0.74, 0.75, 0.76, 0.77, 0.78, 0.79, 0.8 ],\n",
       "       [0.81, 0.82, 0.83, 0.84, 0.85, 0.86, 0.87, 0.88, 0.89, 0.9 ],\n",
       "       [0.91, 0.92, 0.93, 0.94, 0.95, 0.96, 0.97, 0.98, 0.99, 1.  ]])"
      ]
     },
     "execution_count": 18,
     "metadata": {},
     "output_type": "execute_result"
    }
   ],
   "source": [
    "np.arange(0.01,1.01,0.01).reshape(10,10)"
   ]
  },
  {
   "cell_type": "code",
   "execution_count": 19,
   "id": "44723d03-98a5-46b5-9110-55aa7ef3fc3e",
   "metadata": {},
   "outputs": [
    {
     "data": {
      "text/plain": [
       "array([0.        , 0.05263158, 0.10526316, 0.15789474, 0.21052632,\n",
       "       0.26315789, 0.31578947, 0.36842105, 0.42105263, 0.47368421,\n",
       "       0.52631579, 0.57894737, 0.63157895, 0.68421053, 0.73684211,\n",
       "       0.78947368, 0.84210526, 0.89473684, 0.94736842, 1.        ])"
      ]
     },
     "execution_count": 19,
     "metadata": {},
     "output_type": "execute_result"
    }
   ],
   "source": [
    "np.linspace(0,1,20)"
   ]
  },
  {
   "cell_type": "code",
   "execution_count": 20,
   "id": "6c7bc2bb-8152-4270-96ba-3b3ef2492711",
   "metadata": {},
   "outputs": [],
   "source": [
    "mat = np.arange(1,26).reshape(5,5)"
   ]
  },
  {
   "cell_type": "code",
   "execution_count": 21,
   "id": "629f897d-bf94-42b9-afba-6b1577365391",
   "metadata": {},
   "outputs": [
    {
     "data": {
      "text/plain": [
       "array([[ 1,  2,  3,  4,  5],\n",
       "       [ 6,  7,  8,  9, 10],\n",
       "       [11, 12, 13, 14, 15],\n",
       "       [16, 17, 18, 19, 20],\n",
       "       [21, 22, 23, 24, 25]])"
      ]
     },
     "execution_count": 21,
     "metadata": {},
     "output_type": "execute_result"
    }
   ],
   "source": [
    "mat"
   ]
  },
  {
   "cell_type": "code",
   "execution_count": 22,
   "id": "7193cacd-ca40-47ca-b213-7daab89b5320",
   "metadata": {},
   "outputs": [
    {
     "data": {
      "text/plain": [
       "array([[12, 13, 14, 15],\n",
       "       [17, 18, 19, 20],\n",
       "       [22, 23, 24, 25]])"
      ]
     },
     "execution_count": 22,
     "metadata": {},
     "output_type": "execute_result"
    }
   ],
   "source": [
    "mat[2:,1:]"
   ]
  },
  {
   "cell_type": "code",
   "execution_count": 23,
   "id": "3221dd46-448b-4142-8404-095c83772619",
   "metadata": {},
   "outputs": [
    {
     "data": {
      "text/plain": [
       "20"
      ]
     },
     "execution_count": 23,
     "metadata": {},
     "output_type": "execute_result"
    }
   ],
   "source": [
    "mat[3,4]"
   ]
  },
  {
   "cell_type": "code",
   "execution_count": 25,
   "id": "5d307881-8a93-4b6a-b77e-ead73863d371",
   "metadata": {},
   "outputs": [
    {
     "data": {
      "text/plain": [
       "array([[ 2],\n",
       "       [ 7],\n",
       "       [12]])"
      ]
     },
     "execution_count": 25,
     "metadata": {},
     "output_type": "execute_result"
    }
   ],
   "source": [
    "mat[:3,1:2]"
   ]
  },
  {
   "cell_type": "code",
   "execution_count": 26,
   "id": "492854c8-f900-47ae-9c57-1ba90274883f",
   "metadata": {},
   "outputs": [
    {
     "data": {
      "text/plain": [
       "array([21, 22, 23, 24, 25])"
      ]
     },
     "execution_count": 26,
     "metadata": {},
     "output_type": "execute_result"
    }
   ],
   "source": [
    "mat[4]"
   ]
  },
  {
   "cell_type": "code",
   "execution_count": 27,
   "id": "2b313d2f-f3b0-4906-929c-c524afb56682",
   "metadata": {},
   "outputs": [
    {
     "data": {
      "text/plain": [
       "325"
      ]
     },
     "execution_count": 27,
     "metadata": {},
     "output_type": "execute_result"
    }
   ],
   "source": [
    "mat.sum()"
   ]
  },
  {
   "cell_type": "code",
   "execution_count": 28,
   "id": "5e1d9919-8bdb-4b39-ba1f-da068fa7d090",
   "metadata": {},
   "outputs": [
    {
     "data": {
      "text/plain": [
       "7.211102550927978"
      ]
     },
     "execution_count": 28,
     "metadata": {},
     "output_type": "execute_result"
    }
   ],
   "source": [
    "mat.std()"
   ]
  },
  {
   "cell_type": "code",
   "execution_count": 35,
   "id": "9bb73222-2dae-4164-879b-6c222468b4b1",
   "metadata": {},
   "outputs": [
    {
     "data": {
      "text/plain": [
       "array([55, 60, 65, 70, 75])"
      ]
     },
     "execution_count": 35,
     "metadata": {},
     "output_type": "execute_result"
    }
   ],
   "source": [
    "mat.sum(axis = 0)"
   ]
  },
  {
   "cell_type": "code",
   "execution_count": 36,
   "id": "ac242829-e949-438a-8de2-fce4fff9e8ba",
   "metadata": {},
   "outputs": [],
   "source": [
    "import pandas as pd"
   ]
  },
  {
   "cell_type": "code",
   "execution_count": 37,
   "id": "db8998da-8a9e-4b5a-8550-a4f4d12356b4",
   "metadata": {},
   "outputs": [],
   "source": [
    "sal = pd.read_csv('Salaries.csv')"
   ]
  },
  {
   "cell_type": "code",
   "execution_count": 39,
   "id": "3813f7da-a459-4656-911b-af01150e5c61",
   "metadata": {},
   "outputs": [
    {
     "data": {
      "text/html": [
       "<div>\n",
       "<style scoped>\n",
       "    .dataframe tbody tr th:only-of-type {\n",
       "        vertical-align: middle;\n",
       "    }\n",
       "\n",
       "    .dataframe tbody tr th {\n",
       "        vertical-align: top;\n",
       "    }\n",
       "\n",
       "    .dataframe thead th {\n",
       "        text-align: right;\n",
       "    }\n",
       "</style>\n",
       "<table border=\"1\" class=\"dataframe\">\n",
       "  <thead>\n",
       "    <tr style=\"text-align: right;\">\n",
       "      <th></th>\n",
       "      <th>Id</th>\n",
       "      <th>EmployeeName</th>\n",
       "      <th>JobTitle</th>\n",
       "      <th>BasePay</th>\n",
       "      <th>OvertimePay</th>\n",
       "      <th>OtherPay</th>\n",
       "      <th>Benefits</th>\n",
       "      <th>TotalPay</th>\n",
       "      <th>TotalPayBenefits</th>\n",
       "      <th>Year</th>\n",
       "      <th>Notes</th>\n",
       "      <th>Agency</th>\n",
       "      <th>Status</th>\n",
       "    </tr>\n",
       "  </thead>\n",
       "  <tbody>\n",
       "    <tr>\n",
       "      <th>0</th>\n",
       "      <td>1</td>\n",
       "      <td>NATHANIEL FORD</td>\n",
       "      <td>GENERAL MANAGER-METROPOLITAN TRANSIT AUTHORITY</td>\n",
       "      <td>167411.18</td>\n",
       "      <td>0.00</td>\n",
       "      <td>400184.25</td>\n",
       "      <td>NaN</td>\n",
       "      <td>567595.43</td>\n",
       "      <td>567595.43</td>\n",
       "      <td>2011</td>\n",
       "      <td>NaN</td>\n",
       "      <td>San Francisco</td>\n",
       "      <td>NaN</td>\n",
       "    </tr>\n",
       "    <tr>\n",
       "      <th>1</th>\n",
       "      <td>2</td>\n",
       "      <td>GARY JIMENEZ</td>\n",
       "      <td>CAPTAIN III (POLICE DEPARTMENT)</td>\n",
       "      <td>155966.02</td>\n",
       "      <td>245131.88</td>\n",
       "      <td>137811.38</td>\n",
       "      <td>NaN</td>\n",
       "      <td>538909.28</td>\n",
       "      <td>538909.28</td>\n",
       "      <td>2011</td>\n",
       "      <td>NaN</td>\n",
       "      <td>San Francisco</td>\n",
       "      <td>NaN</td>\n",
       "    </tr>\n",
       "  </tbody>\n",
       "</table>\n",
       "</div>"
      ],
      "text/plain": [
       "   Id    EmployeeName                                        JobTitle  \\\n",
       "0   1  NATHANIEL FORD  GENERAL MANAGER-METROPOLITAN TRANSIT AUTHORITY   \n",
       "1   2    GARY JIMENEZ                 CAPTAIN III (POLICE DEPARTMENT)   \n",
       "\n",
       "     BasePay  OvertimePay   OtherPay  Benefits   TotalPay  TotalPayBenefits  \\\n",
       "0  167411.18         0.00  400184.25       NaN  567595.43         567595.43   \n",
       "1  155966.02    245131.88  137811.38       NaN  538909.28         538909.28   \n",
       "\n",
       "   Year  Notes         Agency  Status  \n",
       "0  2011    NaN  San Francisco     NaN  \n",
       "1  2011    NaN  San Francisco     NaN  "
      ]
     },
     "execution_count": 39,
     "metadata": {},
     "output_type": "execute_result"
    }
   ],
   "source": [
    "sal.head(2)"
   ]
  },
  {
   "cell_type": "code",
   "execution_count": 40,
   "id": "a680c7ad-8273-4fd7-8b0c-85f56fddfa57",
   "metadata": {},
   "outputs": [
    {
     "name": "stdout",
     "output_type": "stream",
     "text": [
      "<class 'pandas.core.frame.DataFrame'>\n",
      "RangeIndex: 148654 entries, 0 to 148653\n",
      "Data columns (total 13 columns):\n",
      " #   Column            Non-Null Count   Dtype  \n",
      "---  ------            --------------   -----  \n",
      " 0   Id                148654 non-null  int64  \n",
      " 1   EmployeeName      148654 non-null  object \n",
      " 2   JobTitle          148654 non-null  object \n",
      " 3   BasePay           148045 non-null  float64\n",
      " 4   OvertimePay       148650 non-null  float64\n",
      " 5   OtherPay          148650 non-null  float64\n",
      " 6   Benefits          112491 non-null  float64\n",
      " 7   TotalPay          148654 non-null  float64\n",
      " 8   TotalPayBenefits  148654 non-null  float64\n",
      " 9   Year              148654 non-null  int64  \n",
      " 10  Notes             0 non-null       float64\n",
      " 11  Agency            148654 non-null  object \n",
      " 12  Status            0 non-null       float64\n",
      "dtypes: float64(8), int64(2), object(3)\n",
      "memory usage: 14.7+ MB\n"
     ]
    }
   ],
   "source": [
    "sal.info()"
   ]
  },
  {
   "cell_type": "code",
   "execution_count": 42,
   "id": "c9dbb236-366f-4082-a26f-fa8829926bf6",
   "metadata": {},
   "outputs": [
    {
     "data": {
      "text/plain": [
       "66325.4488404877"
      ]
     },
     "execution_count": 42,
     "metadata": {},
     "output_type": "execute_result"
    }
   ],
   "source": [
    "sal['BasePay'].mean()"
   ]
  },
  {
   "cell_type": "code",
   "execution_count": 44,
   "id": "59c0cd32-7b25-45cc-97bc-b15502d8a7b4",
   "metadata": {},
   "outputs": [
    {
     "data": {
      "text/plain": [
       "245131.88"
      ]
     },
     "execution_count": 44,
     "metadata": {},
     "output_type": "execute_result"
    }
   ],
   "source": [
    "sal['OvertimePay'].max()"
   ]
  },
  {
   "cell_type": "code",
   "execution_count": 47,
   "id": "a64c733b-806e-48ec-8e58-e3ec4a8f2b7f",
   "metadata": {},
   "outputs": [
    {
     "data": {
      "text/plain": [
       "24    CAPTAIN, FIRE SUPPRESSION\n",
       "Name: JobTitle, dtype: object"
      ]
     },
     "execution_count": 47,
     "metadata": {},
     "output_type": "execute_result"
    }
   ],
   "source": [
    "sal[sal['EmployeeName'] == 'JOSEPH DRISCOLL']['JobTitle']"
   ]
  },
  {
   "cell_type": "code",
   "execution_count": 48,
   "id": "d3b2248b-e7b6-41c7-a24a-5b71e1de6459",
   "metadata": {},
   "outputs": [
    {
     "data": {
      "text/plain": [
       "24    270324.91\n",
       "Name: TotalPayBenefits, dtype: float64"
      ]
     },
     "execution_count": 48,
     "metadata": {},
     "output_type": "execute_result"
    }
   ],
   "source": [
    "sal[sal['EmployeeName'] == 'JOSEPH DRISCOLL']['TotalPayBenefits']"
   ]
  },
  {
   "cell_type": "code",
   "execution_count": 51,
   "id": "4b2bb4a3-8f9d-46b6-b6fc-2f105e0b89ca",
   "metadata": {},
   "outputs": [
    {
     "data": {
      "text/plain": [
       "0    NATHANIEL FORD\n",
       "Name: EmployeeName, dtype: object"
      ]
     },
     "execution_count": 51,
     "metadata": {},
     "output_type": "execute_result"
    }
   ],
   "source": [
    "sal[sal['TotalPayBenefits'] == sal['TotalPayBenefits'].max()]['EmployeeName']"
   ]
  },
  {
   "cell_type": "code",
   "execution_count": 53,
   "id": "8dcafbae-6454-4fb5-b147-55796c56c056",
   "metadata": {},
   "outputs": [
    {
     "data": {
      "text/plain": [
       "148653    Joe Lopez\n",
       "Name: EmployeeName, dtype: object"
      ]
     },
     "execution_count": 53,
     "metadata": {},
     "output_type": "execute_result"
    }
   ],
   "source": [
    "sal[sal['TotalPayBenefits'] == sal['TotalPayBenefits'].min()]['EmployeeName']"
   ]
  },
  {
   "cell_type": "code",
   "execution_count": 55,
   "id": "d62c8541-5601-4f70-be4c-47d97c2ba2d8",
   "metadata": {},
   "outputs": [
    {
     "data": {
      "text/html": [
       "<div>\n",
       "<style scoped>\n",
       "    .dataframe tbody tr th:only-of-type {\n",
       "        vertical-align: middle;\n",
       "    }\n",
       "\n",
       "    .dataframe tbody tr th {\n",
       "        vertical-align: top;\n",
       "    }\n",
       "\n",
       "    .dataframe thead th {\n",
       "        text-align: right;\n",
       "    }\n",
       "</style>\n",
       "<table border=\"1\" class=\"dataframe\">\n",
       "  <thead>\n",
       "    <tr style=\"text-align: right;\">\n",
       "      <th></th>\n",
       "      <th>Id</th>\n",
       "      <th>EmployeeName</th>\n",
       "      <th>JobTitle</th>\n",
       "      <th>BasePay</th>\n",
       "      <th>OvertimePay</th>\n",
       "      <th>OtherPay</th>\n",
       "      <th>Benefits</th>\n",
       "      <th>TotalPay</th>\n",
       "      <th>TotalPayBenefits</th>\n",
       "      <th>Year</th>\n",
       "      <th>Notes</th>\n",
       "      <th>Agency</th>\n",
       "      <th>Status</th>\n",
       "    </tr>\n",
       "  </thead>\n",
       "  <tbody>\n",
       "    <tr>\n",
       "      <th>0</th>\n",
       "      <td>1</td>\n",
       "      <td>NATHANIEL FORD</td>\n",
       "      <td>GENERAL MANAGER-METROPOLITAN TRANSIT AUTHORITY</td>\n",
       "      <td>167411.18</td>\n",
       "      <td>0.0</td>\n",
       "      <td>400184.25</td>\n",
       "      <td>NaN</td>\n",
       "      <td>567595.43</td>\n",
       "      <td>567595.43</td>\n",
       "      <td>2011</td>\n",
       "      <td>NaN</td>\n",
       "      <td>San Francisco</td>\n",
       "      <td>NaN</td>\n",
       "    </tr>\n",
       "  </tbody>\n",
       "</table>\n",
       "</div>"
      ],
      "text/plain": [
       "   Id    EmployeeName                                        JobTitle  \\\n",
       "0   1  NATHANIEL FORD  GENERAL MANAGER-METROPOLITAN TRANSIT AUTHORITY   \n",
       "\n",
       "     BasePay  OvertimePay   OtherPay  Benefits   TotalPay  TotalPayBenefits  \\\n",
       "0  167411.18          0.0  400184.25       NaN  567595.43         567595.43   \n",
       "\n",
       "   Year  Notes         Agency  Status  \n",
       "0  2011    NaN  San Francisco     NaN  "
      ]
     },
     "execution_count": 55,
     "metadata": {},
     "output_type": "execute_result"
    }
   ],
   "source": [
    "sal.head(1)"
   ]
  },
  {
   "cell_type": "code",
   "execution_count": 68,
   "id": "0fc150b4-ca15-4789-96ea-f1b73aa147b4",
   "metadata": {},
   "outputs": [],
   "source": [
    "saly = sal.groupby('Year')"
   ]
  },
  {
   "cell_type": "code",
   "execution_count": 69,
   "id": "d01803e4-41b1-42c3-afa3-daa6ae6f031c",
   "metadata": {},
   "outputs": [],
   "source": [
    "salybp = saly['BasePay']"
   ]
  },
  {
   "cell_type": "code",
   "execution_count": 70,
   "id": "ff19bf12-2df9-4d1a-ae9a-5acfa9648001",
   "metadata": {},
   "outputs": [
    {
     "data": {
      "text/plain": [
       "Year\n",
       "2011    63595.956517\n",
       "2012    65436.406857\n",
       "2013    69630.030216\n",
       "2014    66564.421924\n",
       "Name: BasePay, dtype: float64"
      ]
     },
     "execution_count": 70,
     "metadata": {},
     "output_type": "execute_result"
    }
   ],
   "source": [
    "salybp.mean()"
   ]
  },
  {
   "cell_type": "code",
   "execution_count": 72,
   "id": "b548e46b-f7e7-4ed4-8d30-28081a8b5928",
   "metadata": {},
   "outputs": [
    {
     "data": {
      "text/plain": [
       "2159"
      ]
     },
     "execution_count": 72,
     "metadata": {},
     "output_type": "execute_result"
    }
   ],
   "source": [
    "sal['JobTitle'].nunique()"
   ]
  },
  {
   "cell_type": "code",
   "execution_count": 73,
   "id": "5842a768-49a0-408c-8f19-6890bd508004",
   "metadata": {},
   "outputs": [
    {
     "data": {
      "text/plain": [
       "JobTitle\n",
       "Transit Operator                7036\n",
       "Special Nurse                   4389\n",
       "Registered Nurse                3736\n",
       "Public Svc Aide-Public Works    2518\n",
       "Police Officer 3                2421\n",
       "Name: count, dtype: int64"
      ]
     },
     "execution_count": 73,
     "metadata": {},
     "output_type": "execute_result"
    }
   ],
   "source": [
    "sal['JobTitle'].value_counts().head(5)"
   ]
  },
  {
   "cell_type": "code",
   "execution_count": 79,
   "id": "bb681a61-ed06-42ab-af4b-2e71368a41f9",
   "metadata": {},
   "outputs": [
    {
     "data": {
      "text/plain": [
       "202"
      ]
     },
     "execution_count": 79,
     "metadata": {},
     "output_type": "execute_result"
    }
   ],
   "source": [
    "sum(sal[sal['Year']==2013]['JobTitle'].value_counts() == 1)"
   ]
  },
  {
   "cell_type": "code",
   "execution_count": 80,
   "id": "a037aeaf-9fac-4ae7-b126-e7198b4f935c",
   "metadata": {},
   "outputs": [
    {
     "data": {
      "text/plain": [
       "0         GENERAL MANAGER-METROPOLITAN TRANSIT AUTHORITY\n",
       "1                        CAPTAIN III (POLICE DEPARTMENT)\n",
       "2                        CAPTAIN III (POLICE DEPARTMENT)\n",
       "3                   WIRE ROPE CABLE MAINTENANCE MECHANIC\n",
       "4           DEPUTY CHIEF OF DEPARTMENT,(FIRE DEPARTMENT)\n",
       "                               ...                      \n",
       "148649                                         Custodian\n",
       "148650                                      Not provided\n",
       "148651                                      Not provided\n",
       "148652                                      Not provided\n",
       "148653                        Counselor, Log Cabin Ranch\n",
       "Name: JobTitle, Length: 148654, dtype: object"
      ]
     },
     "execution_count": 80,
     "metadata": {},
     "output_type": "execute_result"
    }
   ],
   "source": [
    "sal['JobTitle']"
   ]
  },
  {
   "cell_type": "code",
   "execution_count": 87,
   "id": "6fcfee48-c524-4597-8134-77536fc684a8",
   "metadata": {},
   "outputs": [],
   "source": [
    "def chief_string(title):\n",
    "    if 'chief' in title.lower().split():\n",
    "        return True\n",
    "    else:\n",
    "        return False"
   ]
  },
  {
   "cell_type": "code",
   "execution_count": 90,
   "id": "d0e2f0af-69cf-43d3-9f89-94dcb14f9901",
   "metadata": {},
   "outputs": [
    {
     "data": {
      "text/plain": [
       "True"
      ]
     },
     "execution_count": 90,
     "metadata": {},
     "output_type": "execute_result"
    }
   ],
   "source": [
    "chief_string(\"HEHE CHIEF MA\")"
   ]
  },
  {
   "cell_type": "code",
   "execution_count": 92,
   "id": "9b34448a-2570-415c-a127-595a57f95473",
   "metadata": {},
   "outputs": [
    {
     "data": {
      "text/plain": [
       "477"
      ]
     },
     "execution_count": 92,
     "metadata": {},
     "output_type": "execute_result"
    }
   ],
   "source": [
    "sum(sal['JobTitle'].apply(lambda x: chief_string(x)))"
   ]
  },
  {
   "cell_type": "code",
   "execution_count": 94,
   "id": "be7a80fa-c09b-4bce-a97e-0a4c56d1ee77",
   "metadata": {},
   "outputs": [],
   "source": [
    "sal['titlelen'] = sal['JobTitle'].apply(len)"
   ]
  },
  {
   "cell_type": "code",
   "execution_count": 95,
   "id": "b0f9e82f-1ed8-4e15-8f32-6ea1207039c6",
   "metadata": {},
   "outputs": [
    {
     "data": {
      "text/html": [
       "<div>\n",
       "<style scoped>\n",
       "    .dataframe tbody tr th:only-of-type {\n",
       "        vertical-align: middle;\n",
       "    }\n",
       "\n",
       "    .dataframe tbody tr th {\n",
       "        vertical-align: top;\n",
       "    }\n",
       "\n",
       "    .dataframe thead th {\n",
       "        text-align: right;\n",
       "    }\n",
       "</style>\n",
       "<table border=\"1\" class=\"dataframe\">\n",
       "  <thead>\n",
       "    <tr style=\"text-align: right;\">\n",
       "      <th></th>\n",
       "      <th>TotalPayBenefits</th>\n",
       "      <th>titlelen</th>\n",
       "    </tr>\n",
       "  </thead>\n",
       "  <tbody>\n",
       "    <tr>\n",
       "      <th>TotalPayBenefits</th>\n",
       "      <td>1.000000</td>\n",
       "      <td>-0.036878</td>\n",
       "    </tr>\n",
       "    <tr>\n",
       "      <th>titlelen</th>\n",
       "      <td>-0.036878</td>\n",
       "      <td>1.000000</td>\n",
       "    </tr>\n",
       "  </tbody>\n",
       "</table>\n",
       "</div>"
      ],
      "text/plain": [
       "                  TotalPayBenefits  titlelen\n",
       "TotalPayBenefits          1.000000 -0.036878\n",
       "titlelen                 -0.036878  1.000000"
      ]
     },
     "execution_count": 95,
     "metadata": {},
     "output_type": "execute_result"
    }
   ],
   "source": [
    "sal[['TotalPayBenefits','titlelen']].corr()"
   ]
  },
  {
   "cell_type": "code",
   "execution_count": 96,
   "id": "f4c7e96f-b4e4-47d5-803f-2bb3b067ccfa",
   "metadata": {},
   "outputs": [],
   "source": [
    "import pandas as pd"
   ]
  },
  {
   "cell_type": "code",
   "execution_count": 97,
   "id": "24e31cbe-6174-4587-959a-58cdf374a7ee",
   "metadata": {},
   "outputs": [],
   "source": [
    "ecom = pd.read_csv('Ecommerce Purchases')"
   ]
  },
  {
   "cell_type": "code",
   "execution_count": 98,
   "id": "9c494d52-aa8a-4176-80e4-58df12437611",
   "metadata": {},
   "outputs": [
    {
     "data": {
      "text/html": [
       "<div>\n",
       "<style scoped>\n",
       "    .dataframe tbody tr th:only-of-type {\n",
       "        vertical-align: middle;\n",
       "    }\n",
       "\n",
       "    .dataframe tbody tr th {\n",
       "        vertical-align: top;\n",
       "    }\n",
       "\n",
       "    .dataframe thead th {\n",
       "        text-align: right;\n",
       "    }\n",
       "</style>\n",
       "<table border=\"1\" class=\"dataframe\">\n",
       "  <thead>\n",
       "    <tr style=\"text-align: right;\">\n",
       "      <th></th>\n",
       "      <th>Address</th>\n",
       "      <th>Lot</th>\n",
       "      <th>AM or PM</th>\n",
       "      <th>Browser Info</th>\n",
       "      <th>Company</th>\n",
       "      <th>Credit Card</th>\n",
       "      <th>CC Exp Date</th>\n",
       "      <th>CC Security Code</th>\n",
       "      <th>CC Provider</th>\n",
       "      <th>Email</th>\n",
       "      <th>Job</th>\n",
       "      <th>IP Address</th>\n",
       "      <th>Language</th>\n",
       "      <th>Purchase Price</th>\n",
       "    </tr>\n",
       "  </thead>\n",
       "  <tbody>\n",
       "    <tr>\n",
       "      <th>0</th>\n",
       "      <td>16629 Pace Camp Apt. 448\\r\\nAlexisborough, NE ...</td>\n",
       "      <td>46 in</td>\n",
       "      <td>PM</td>\n",
       "      <td>Opera/9.56.(X11; Linux x86_64; sl-SI) Presto/2...</td>\n",
       "      <td>Martinez-Herman</td>\n",
       "      <td>6011929061123406</td>\n",
       "      <td>02/20</td>\n",
       "      <td>900</td>\n",
       "      <td>JCB 16 digit</td>\n",
       "      <td>pdunlap@yahoo.com</td>\n",
       "      <td>Scientist, product/process development</td>\n",
       "      <td>149.146.147.205</td>\n",
       "      <td>el</td>\n",
       "      <td>98.14</td>\n",
       "    </tr>\n",
       "    <tr>\n",
       "      <th>1</th>\n",
       "      <td>9374 Jasmine Spurs Suite 508\\r\\nSouth John, TN...</td>\n",
       "      <td>28 rn</td>\n",
       "      <td>PM</td>\n",
       "      <td>Opera/8.93.(Windows 98; Win 9x 4.90; en-US) Pr...</td>\n",
       "      <td>Fletcher, Richards and Whitaker</td>\n",
       "      <td>3337758169645356</td>\n",
       "      <td>11/18</td>\n",
       "      <td>561</td>\n",
       "      <td>Mastercard</td>\n",
       "      <td>anthony41@reed.com</td>\n",
       "      <td>Drilling engineer</td>\n",
       "      <td>15.160.41.51</td>\n",
       "      <td>fr</td>\n",
       "      <td>70.73</td>\n",
       "    </tr>\n",
       "  </tbody>\n",
       "</table>\n",
       "</div>"
      ],
      "text/plain": [
       "                                             Address    Lot AM or PM  \\\n",
       "0  16629 Pace Camp Apt. 448\\r\\nAlexisborough, NE ...  46 in       PM   \n",
       "1  9374 Jasmine Spurs Suite 508\\r\\nSouth John, TN...  28 rn       PM   \n",
       "\n",
       "                                        Browser Info  \\\n",
       "0  Opera/9.56.(X11; Linux x86_64; sl-SI) Presto/2...   \n",
       "1  Opera/8.93.(Windows 98; Win 9x 4.90; en-US) Pr...   \n",
       "\n",
       "                           Company       Credit Card CC Exp Date  \\\n",
       "0                  Martinez-Herman  6011929061123406       02/20   \n",
       "1  Fletcher, Richards and Whitaker  3337758169645356       11/18   \n",
       "\n",
       "   CC Security Code   CC Provider               Email  \\\n",
       "0               900  JCB 16 digit   pdunlap@yahoo.com   \n",
       "1               561    Mastercard  anthony41@reed.com   \n",
       "\n",
       "                                      Job       IP Address Language  \\\n",
       "0  Scientist, product/process development  149.146.147.205       el   \n",
       "1                       Drilling engineer     15.160.41.51       fr   \n",
       "\n",
       "   Purchase Price  \n",
       "0           98.14  \n",
       "1           70.73  "
      ]
     },
     "execution_count": 98,
     "metadata": {},
     "output_type": "execute_result"
    }
   ],
   "source": [
    "ecom.head(2)"
   ]
  },
  {
   "cell_type": "code",
   "execution_count": 99,
   "id": "4a5f16b1-5eca-4d26-9c73-e742c4c7dd77",
   "metadata": {},
   "outputs": [
    {
     "name": "stdout",
     "output_type": "stream",
     "text": [
      "<class 'pandas.core.frame.DataFrame'>\n",
      "RangeIndex: 10000 entries, 0 to 9999\n",
      "Data columns (total 14 columns):\n",
      " #   Column            Non-Null Count  Dtype  \n",
      "---  ------            --------------  -----  \n",
      " 0   Address           10000 non-null  object \n",
      " 1   Lot               10000 non-null  object \n",
      " 2   AM or PM          10000 non-null  object \n",
      " 3   Browser Info      10000 non-null  object \n",
      " 4   Company           10000 non-null  object \n",
      " 5   Credit Card       10000 non-null  int64  \n",
      " 6   CC Exp Date       10000 non-null  object \n",
      " 7   CC Security Code  10000 non-null  int64  \n",
      " 8   CC Provider       10000 non-null  object \n",
      " 9   Email             10000 non-null  object \n",
      " 10  Job               10000 non-null  object \n",
      " 11  IP Address        10000 non-null  object \n",
      " 12  Language          10000 non-null  object \n",
      " 13  Purchase Price    10000 non-null  float64\n",
      "dtypes: float64(1), int64(2), object(11)\n",
      "memory usage: 1.1+ MB\n"
     ]
    }
   ],
   "source": [
    "ecom.info()"
   ]
  },
  {
   "cell_type": "code",
   "execution_count": 100,
   "id": "470ea9a4-b83b-457b-9b16-6e9ccaef7902",
   "metadata": {},
   "outputs": [
    {
     "data": {
      "text/plain": [
       "50.347302"
      ]
     },
     "execution_count": 100,
     "metadata": {},
     "output_type": "execute_result"
    }
   ],
   "source": [
    "ecom['Purchase Price'].mean()"
   ]
  },
  {
   "cell_type": "code",
   "execution_count": 102,
   "id": "ebe48999-4264-4880-bc13-09be4db3e53e",
   "metadata": {},
   "outputs": [
    {
     "data": {
      "text/plain": [
       "99.99"
      ]
     },
     "execution_count": 102,
     "metadata": {},
     "output_type": "execute_result"
    }
   ],
   "source": [
    "ecom['Purchase Price'].max()"
   ]
  },
  {
   "cell_type": "code",
   "execution_count": 103,
   "id": "58fb39d1-56d3-48b4-94fe-6be769408b49",
   "metadata": {},
   "outputs": [
    {
     "data": {
      "text/plain": [
       "0.0"
      ]
     },
     "execution_count": 103,
     "metadata": {},
     "output_type": "execute_result"
    }
   ],
   "source": [
    "ecom['Purchase Price'].min()"
   ]
  },
  {
   "cell_type": "code",
   "execution_count": 105,
   "id": "7f1537bc-9f79-48e6-a297-eb15534c790b",
   "metadata": {},
   "outputs": [
    {
     "data": {
      "text/plain": [
       "1098"
      ]
     },
     "execution_count": 105,
     "metadata": {},
     "output_type": "execute_result"
    }
   ],
   "source": [
    "sum(ecom['Language']=='en')"
   ]
  },
  {
   "cell_type": "code",
   "execution_count": 106,
   "id": "10ae47a0-4793-47b2-bac7-f272dc00cf1f",
   "metadata": {},
   "outputs": [
    {
     "data": {
      "text/plain": [
       "30"
      ]
     },
     "execution_count": 106,
     "metadata": {},
     "output_type": "execute_result"
    }
   ],
   "source": [
    "sum(ecom['Job']=='Lawyer')"
   ]
  },
  {
   "cell_type": "code",
   "execution_count": 108,
   "id": "b0072f13-f041-4bc4-a017-e0ef4f0c87a4",
   "metadata": {},
   "outputs": [
    {
     "data": {
      "text/plain": [
       "AM or PM\n",
       "PM    5068\n",
       "AM    4932\n",
       "Name: count, dtype: int64"
      ]
     },
     "execution_count": 108,
     "metadata": {},
     "output_type": "execute_result"
    }
   ],
   "source": [
    "ecom['AM or PM'].value_counts()"
   ]
  },
  {
   "cell_type": "code",
   "execution_count": 109,
   "id": "e65dd5b2-1e0b-4e84-bf63-aec0b7ac87b0",
   "metadata": {},
   "outputs": [
    {
     "data": {
      "text/plain": [
       "Job\n",
       "Interior and spatial designer    31\n",
       "Lawyer                           30\n",
       "Social researcher                28\n",
       "Purchasing manager               27\n",
       "Designer, jewellery              27\n",
       "Name: count, dtype: int64"
      ]
     },
     "execution_count": 109,
     "metadata": {},
     "output_type": "execute_result"
    }
   ],
   "source": [
    "ecom['Job'].value_counts().head(5)"
   ]
  },
  {
   "cell_type": "code",
   "execution_count": 113,
   "id": "ea2fca33-4472-4fcc-92ed-0bf7db16fcba",
   "metadata": {},
   "outputs": [
    {
     "data": {
      "text/plain": [
       "513    75.1\n",
       "Name: Purchase Price, dtype: float64"
      ]
     },
     "execution_count": 113,
     "metadata": {},
     "output_type": "execute_result"
    }
   ],
   "source": [
    "ecom[ecom['Lot'] == '90 WT']['Purchase Price']"
   ]
  },
  {
   "cell_type": "code",
   "execution_count": 115,
   "id": "d7a2fa0b-aa49-480a-851d-29aad6d36f6e",
   "metadata": {},
   "outputs": [
    {
     "data": {
      "text/plain": [
       "1234    bondellen@williams-garza.com\n",
       "Name: Email, dtype: object"
      ]
     },
     "execution_count": 115,
     "metadata": {},
     "output_type": "execute_result"
    }
   ],
   "source": [
    "ecom[ecom['Credit Card']==4926535242672853]['Email']"
   ]
  },
  {
   "cell_type": "code",
   "execution_count": 120,
   "id": "57588b04-1dd3-4ec5-8c9d-b425f06d8e31",
   "metadata": {},
   "outputs": [
    {
     "data": {
      "text/plain": [
       "Address             39\n",
       "Lot                 39\n",
       "AM or PM            39\n",
       "Browser Info        39\n",
       "Company             39\n",
       "Credit Card         39\n",
       "CC Exp Date         39\n",
       "CC Security Code    39\n",
       "CC Provider         39\n",
       "Email               39\n",
       "Job                 39\n",
       "IP Address          39\n",
       "Language            39\n",
       "Purchase Price      39\n",
       "dtype: int64"
      ]
     },
     "execution_count": 120,
     "metadata": {},
     "output_type": "execute_result"
    }
   ],
   "source": [
    "ecom[(ecom['CC Provider']=='American Express') & (ecom['Purchase Price']>95)].count()"
   ]
  },
  {
   "cell_type": "markdown",
   "id": "5d26f198-470d-41f9-9914-e2d61c6024e0",
   "metadata": {},
   "source": [
    "ecom.head(2)"
   ]
  },
  {
   "cell_type": "code",
   "execution_count": 142,
   "id": "096c11da-601b-4dea-aeb6-afc387838251",
   "metadata": {},
   "outputs": [
    {
     "data": {
      "text/plain": [
       "1033"
      ]
     },
     "execution_count": 142,
     "metadata": {},
     "output_type": "execute_result"
    }
   ],
   "source": [
    "sum(ecom['CC Exp Date'].apply(lambda exp: exp[3:] == '25'))"
   ]
  },
  {
   "cell_type": "code",
   "execution_count": 151,
   "id": "51460ab8-2b32-4a07-a80d-8fc0b5d4b5da",
   "metadata": {},
   "outputs": [
    {
     "data": {
      "text/plain": [
       "Email\n",
       "hotmail.com     1638\n",
       "yahoo.com       1616\n",
       "gmail.com       1605\n",
       "smith.com         42\n",
       "williams.com      37\n",
       "Name: count, dtype: int64"
      ]
     },
     "execution_count": 151,
     "metadata": {},
     "output_type": "execute_result"
    }
   ],
   "source": [
    "def get_mail(text):\n",
    "    return text.split('@')[1]\n",
    "\n",
    "ecom['Email'].apply(lambda email: get_mail(email)).value_counts().head(5)"
   ]
  },
  {
   "cell_type": "markdown",
   "id": "ffa39b5a-44b0-4afb-996c-0fc601c11aec",
   "metadata": {},
   "source": [
    "  "
   ]
  },
  {
   "cell_type": "markdown",
   "id": "b16ec16a-2937-463b-8ed8-1444fd46fd6d",
   "metadata": {},
   "source": [
    "---------------------------------------------------------------------------"
   ]
  },
  {
   "cell_type": "code",
   "execution_count": null,
   "id": "8f1bdfe9-b961-41c5-a75f-51ef812f4ae3",
   "metadata": {},
   "outputs": [],
   "source": []
  }
 ],
 "metadata": {
  "kernelspec": {
   "display_name": "Python 3 (ipykernel)",
   "language": "python",
   "name": "python3"
  },
  "language_info": {
   "codemirror_mode": {
    "name": "ipython",
    "version": 3
   },
   "file_extension": ".py",
   "mimetype": "text/x-python",
   "name": "python",
   "nbconvert_exporter": "python",
   "pygments_lexer": "ipython3",
   "version": "3.11.4"
  }
 },
 "nbformat": 4,
 "nbformat_minor": 5
}
