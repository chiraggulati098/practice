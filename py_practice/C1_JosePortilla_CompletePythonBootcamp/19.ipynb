{
 "cells": [
  {
   "cell_type": "code",
   "execution_count": 1,
   "id": "4c430f09",
   "metadata": {},
   "outputs": [],
   "source": [
    "from collections import Counter"
   ]
  },
  {
   "cell_type": "code",
   "execution_count": 2,
   "id": "15dbdc21",
   "metadata": {},
   "outputs": [],
   "source": [
    "mylist = [1,1,1,1,1,1,1,1,2,2,2,2,3,3,3,3]"
   ]
  },
  {
   "cell_type": "code",
   "execution_count": 5,
   "id": "22384054",
   "metadata": {},
   "outputs": [
    {
     "data": {
      "text/plain": [
       "Counter({1: 8, 2: 4, 3: 4})"
      ]
     },
     "execution_count": 5,
     "metadata": {},
     "output_type": "execute_result"
    }
   ],
   "source": [
    "Counter(mylist)"
   ]
  },
  {
   "cell_type": "code",
   "execution_count": 6,
   "id": "b9455a56",
   "metadata": {},
   "outputs": [],
   "source": [
    "letters = 'aaaaabbbbbbbbbbbbbbbbcccdddddddddd'"
   ]
  },
  {
   "cell_type": "code",
   "execution_count": 7,
   "id": "7dab4cda",
   "metadata": {},
   "outputs": [],
   "source": [
    "c = Counter(letters)"
   ]
  },
  {
   "cell_type": "code",
   "execution_count": 8,
   "id": "987caa85",
   "metadata": {},
   "outputs": [
    {
     "data": {
      "text/plain": [
       "Counter({'a': 5, 'b': 16, 'c': 3, 'd': 10})"
      ]
     },
     "execution_count": 8,
     "metadata": {},
     "output_type": "execute_result"
    }
   ],
   "source": [
    "c"
   ]
  },
  {
   "cell_type": "code",
   "execution_count": 12,
   "id": "bc71b9b8",
   "metadata": {},
   "outputs": [],
   "source": [
    "d = c.most_common(2)"
   ]
  },
  {
   "cell_type": "code",
   "execution_count": 22,
   "id": "5503c0d5",
   "metadata": {},
   "outputs": [
    {
     "name": "stdout",
     "output_type": "stream",
     "text": [
      "('b', 16)\n",
      "('d', 10)\n"
     ]
    }
   ],
   "source": [
    "for a in d:\n",
    "    print(a)"
   ]
  },
  {
   "cell_type": "code",
   "execution_count": 23,
   "id": "d9ee6489",
   "metadata": {},
   "outputs": [
    {
     "data": {
      "text/plain": [
       "['a', 'b', 'c', 'd']"
      ]
     },
     "execution_count": 23,
     "metadata": {},
     "output_type": "execute_result"
    }
   ],
   "source": [
    "list(c)"
   ]
  },
  {
   "cell_type": "code",
   "execution_count": 24,
   "id": "507a29dd",
   "metadata": {},
   "outputs": [],
   "source": [
    "from collections import defaultdict"
   ]
  },
  {
   "cell_type": "code",
   "execution_count": 25,
   "id": "25673fde",
   "metadata": {},
   "outputs": [],
   "source": [
    "d = {'a':10}"
   ]
  },
  {
   "cell_type": "code",
   "execution_count": 26,
   "id": "1da3fcbe",
   "metadata": {},
   "outputs": [
    {
     "data": {
      "text/plain": [
       "10"
      ]
     },
     "execution_count": 26,
     "metadata": {},
     "output_type": "execute_result"
    }
   ],
   "source": [
    "d['a']"
   ]
  },
  {
   "cell_type": "code",
   "execution_count": 27,
   "id": "93577dab",
   "metadata": {},
   "outputs": [
    {
     "ename": "KeyError",
     "evalue": "'WRONG'",
     "output_type": "error",
     "traceback": [
      "\u001b[0;31m---------------------------------------------------------------------------\u001b[0m",
      "\u001b[0;31mKeyError\u001b[0m                                  Traceback (most recent call last)",
      "\u001b[0;32m/tmp/ipykernel_6272/1483143541.py\u001b[0m in \u001b[0;36m<module>\u001b[0;34m\u001b[0m\n\u001b[0;32m----> 1\u001b[0;31m \u001b[0md\u001b[0m\u001b[0;34m[\u001b[0m\u001b[0;34m'WRONG'\u001b[0m\u001b[0;34m]\u001b[0m\u001b[0;34m\u001b[0m\u001b[0;34m\u001b[0m\u001b[0m\n\u001b[0m",
      "\u001b[0;31mKeyError\u001b[0m: 'WRONG'"
     ]
    }
   ],
   "source": [
    "d['WRONG']"
   ]
  },
  {
   "cell_type": "code",
   "execution_count": 28,
   "id": "e6fa0117",
   "metadata": {},
   "outputs": [],
   "source": [
    "d = defaultdict(lambda:0)"
   ]
  },
  {
   "cell_type": "code",
   "execution_count": 29,
   "id": "e990780e",
   "metadata": {},
   "outputs": [],
   "source": [
    "d['a'] = 10"
   ]
  },
  {
   "cell_type": "code",
   "execution_count": 30,
   "id": "c93ba19b",
   "metadata": {},
   "outputs": [
    {
     "data": {
      "text/plain": [
       "10"
      ]
     },
     "execution_count": 30,
     "metadata": {},
     "output_type": "execute_result"
    }
   ],
   "source": [
    "d['a']"
   ]
  },
  {
   "cell_type": "code",
   "execution_count": 31,
   "id": "63121724",
   "metadata": {},
   "outputs": [
    {
     "data": {
      "text/plain": [
       "0"
      ]
     },
     "execution_count": 31,
     "metadata": {},
     "output_type": "execute_result"
    }
   ],
   "source": [
    "d['d']"
   ]
  },
  {
   "cell_type": "code",
   "execution_count": 32,
   "id": "5990d261",
   "metadata": {},
   "outputs": [],
   "source": [
    "mytuple = (10,20,30)"
   ]
  },
  {
   "cell_type": "code",
   "execution_count": 33,
   "id": "966aeddb",
   "metadata": {},
   "outputs": [],
   "source": [
    "from collections import namedtuple"
   ]
  },
  {
   "cell_type": "code",
   "execution_count": 34,
   "id": "0c2d7caf",
   "metadata": {},
   "outputs": [],
   "source": [
    "Dog = namedtuple('Dog',['age','breed','name'])"
   ]
  },
  {
   "cell_type": "code",
   "execution_count": 35,
   "id": "9357c50e",
   "metadata": {},
   "outputs": [],
   "source": [
    "sammy = Dog(5,'lab','Sam')"
   ]
  },
  {
   "cell_type": "code",
   "execution_count": 36,
   "id": "67876b09",
   "metadata": {},
   "outputs": [
    {
     "data": {
      "text/plain": [
       "__main__.Dog"
      ]
     },
     "execution_count": 36,
     "metadata": {},
     "output_type": "execute_result"
    }
   ],
   "source": [
    "type(sammy)"
   ]
  },
  {
   "cell_type": "code",
   "execution_count": 38,
   "id": "6184c379",
   "metadata": {},
   "outputs": [
    {
     "data": {
      "text/plain": [
       "5"
      ]
     },
     "execution_count": 38,
     "metadata": {},
     "output_type": "execute_result"
    }
   ],
   "source": [
    "sammy.age"
   ]
  },
  {
   "cell_type": "code",
   "execution_count": 39,
   "id": "97cc4f00",
   "metadata": {},
   "outputs": [
    {
     "data": {
      "text/plain": [
       "'lab'"
      ]
     },
     "execution_count": 39,
     "metadata": {},
     "output_type": "execute_result"
    }
   ],
   "source": [
    "sammy[1]"
   ]
  },
  {
   "cell_type": "code",
   "execution_count": 40,
   "id": "a5056534",
   "metadata": {},
   "outputs": [
    {
     "data": {
      "text/plain": [
       "'/home/chirag/git_repos/py_practice/python_notebooks'"
      ]
     },
     "execution_count": 40,
     "metadata": {},
     "output_type": "execute_result"
    }
   ],
   "source": [
    "pwd"
   ]
  },
  {
   "cell_type": "code",
   "execution_count": 41,
   "id": "b81cffdf",
   "metadata": {},
   "outputs": [],
   "source": [
    "f = open('practice.txt','w+')\n",
    "f.write(\"This is a test string\")\n",
    "f.close()"
   ]
  },
  {
   "cell_type": "code",
   "execution_count": 42,
   "id": "6badb2d7",
   "metadata": {},
   "outputs": [],
   "source": [
    "import os"
   ]
  },
  {
   "cell_type": "code",
   "execution_count": 43,
   "id": "08966467",
   "metadata": {},
   "outputs": [
    {
     "data": {
      "text/plain": [
       "'/home/chirag/git_repos/py_practice/python_notebooks'"
      ]
     },
     "execution_count": 43,
     "metadata": {},
     "output_type": "execute_result"
    }
   ],
   "source": [
    "os.getcwd()"
   ]
  },
  {
   "cell_type": "code",
   "execution_count": 44,
   "id": "88e59ab3",
   "metadata": {},
   "outputs": [
    {
     "data": {
      "text/plain": [
       "['12_project.ipynb',\n",
       " '05.ipynb',\n",
       " 'in_course_stuff',\n",
       " '10_08-Functions and Methods Homework.ipynb',\n",
       " '18.ipynb',\n",
       " 'myfile.txt',\n",
       " 'testfile',\n",
       " '11.ipynb',\n",
       " 'wfile.txt',\n",
       " '13_02-Milestone Project 1 - Walkthrough Steps Workbook.ipynb',\n",
       " '17_MilestoneProject 2 Practice.ipynb',\n",
       " '03.ipynb',\n",
       " '.ipynb_checkpoints',\n",
       " '09.ipynb',\n",
       " '08_03-Function Practice Exercises.ipynb',\n",
       " '18_MilestoneProject2.py',\n",
       " '16.ipynb',\n",
       " '01.ipynb',\n",
       " '15.ipynb',\n",
       " '14.ipynb',\n",
       " '07.ipynb',\n",
       " '02.ipynb',\n",
       " '04.ipynb',\n",
       " '06.ipynb',\n",
       " 'practice.txt',\n",
       " 'my_new_file.txt',\n",
       " '19.ipynb',\n",
       " 'Demo Notebook Try.ipynb']"
      ]
     },
     "execution_count": 44,
     "metadata": {},
     "output_type": "execute_result"
    }
   ],
   "source": [
    "os.listdir()"
   ]
  },
  {
   "cell_type": "code",
   "execution_count": 47,
   "id": "9f2be1b3",
   "metadata": {},
   "outputs": [
    {
     "data": {
      "text/plain": [
       "['chirag']"
      ]
     },
     "execution_count": 47,
     "metadata": {},
     "output_type": "execute_result"
    }
   ],
   "source": [
    "os.listdir('/home')"
   ]
  },
  {
   "cell_type": "code",
   "execution_count": 48,
   "id": "d4a8fb7c",
   "metadata": {},
   "outputs": [],
   "source": [
    "import shutil"
   ]
  },
  {
   "cell_type": "code",
   "execution_count": 54,
   "id": "4d105efb",
   "metadata": {},
   "outputs": [],
   "source": [
    "import send2trash"
   ]
  },
  {
   "cell_type": "code",
   "execution_count": 55,
   "id": "ae306d53",
   "metadata": {},
   "outputs": [],
   "source": [
    "send2trash.send2trash('practice.txt')"
   ]
  },
  {
   "cell_type": "code",
   "execution_count": 56,
   "id": "51cbbd6f",
   "metadata": {},
   "outputs": [
    {
     "data": {
      "text/plain": [
       "['12_project.ipynb',\n",
       " '05.ipynb',\n",
       " 'in_course_stuff',\n",
       " '10_08-Functions and Methods Homework.ipynb',\n",
       " '18.ipynb',\n",
       " 'myfile.txt',\n",
       " 'testfile',\n",
       " '11.ipynb',\n",
       " 'wfile.txt',\n",
       " '13_02-Milestone Project 1 - Walkthrough Steps Workbook.ipynb',\n",
       " '17_MilestoneProject 2 Practice.ipynb',\n",
       " '03.ipynb',\n",
       " '.ipynb_checkpoints',\n",
       " '09.ipynb',\n",
       " '08_03-Function Practice Exercises.ipynb',\n",
       " '18_MilestoneProject2.py',\n",
       " '16.ipynb',\n",
       " '01.ipynb',\n",
       " '15.ipynb',\n",
       " '14.ipynb',\n",
       " '07.ipynb',\n",
       " '02.ipynb',\n",
       " '04.ipynb',\n",
       " '06.ipynb',\n",
       " 'my_new_file.txt',\n",
       " '19.ipynb',\n",
       " 'Demo Notebook Try.ipynb']"
      ]
     },
     "execution_count": 56,
     "metadata": {},
     "output_type": "execute_result"
    }
   ],
   "source": [
    "os.listdir()"
   ]
  },
  {
   "cell_type": "code",
   "execution_count": null,
   "id": "5834a74e",
   "metadata": {},
   "outputs": [],
   "source": [
    "os.walk"
   ]
  },
  {
   "cell_type": "code",
   "execution_count": null,
   "id": "357573b0",
   "metadata": {},
   "outputs": [],
   "source": []
  },
  {
   "cell_type": "code",
   "execution_count": 57,
   "id": "2588e305",
   "metadata": {},
   "outputs": [],
   "source": [
    "import datetime"
   ]
  },
  {
   "cell_type": "code",
   "execution_count": 61,
   "id": "33a0b8fd",
   "metadata": {},
   "outputs": [],
   "source": [
    "mytime = datetime.time(15,20,1,20)"
   ]
  },
  {
   "cell_type": "code",
   "execution_count": 65,
   "id": "8e5f7a21",
   "metadata": {},
   "outputs": [
    {
     "name": "stdout",
     "output_type": "stream",
     "text": [
      "15:20:01.000020\n"
     ]
    }
   ],
   "source": [
    "print(mytime)"
   ]
  },
  {
   "cell_type": "code",
   "execution_count": 66,
   "id": "7869d754",
   "metadata": {},
   "outputs": [],
   "source": [
    "today = datetime.date.today()"
   ]
  },
  {
   "cell_type": "code",
   "execution_count": 67,
   "id": "3a54d0ba",
   "metadata": {},
   "outputs": [
    {
     "name": "stdout",
     "output_type": "stream",
     "text": [
      "2023-05-26\n"
     ]
    }
   ],
   "source": [
    "print(today)"
   ]
  },
  {
   "cell_type": "code",
   "execution_count": 68,
   "id": "594b8ef7",
   "metadata": {},
   "outputs": [
    {
     "data": {
      "text/plain": [
       "2023"
      ]
     },
     "execution_count": 68,
     "metadata": {},
     "output_type": "execute_result"
    }
   ],
   "source": [
    "today.year"
   ]
  },
  {
   "cell_type": "code",
   "execution_count": 69,
   "id": "64835eae",
   "metadata": {},
   "outputs": [
    {
     "data": {
      "text/plain": [
       "'Fri May 26 00:00:00 2023'"
      ]
     },
     "execution_count": 69,
     "metadata": {},
     "output_type": "execute_result"
    }
   ],
   "source": [
    "today.ctime()"
   ]
  },
  {
   "cell_type": "code",
   "execution_count": 71,
   "id": "b44e99e1",
   "metadata": {},
   "outputs": [],
   "source": [
    "from datetime import datetime"
   ]
  },
  {
   "cell_type": "code",
   "execution_count": 73,
   "id": "559abd39",
   "metadata": {},
   "outputs": [
    {
     "name": "stdout",
     "output_type": "stream",
     "text": [
      "2021-10-03 14:20:01\n"
     ]
    }
   ],
   "source": [
    "print(datetime(2021,10,3,14,20,1))"
   ]
  },
  {
   "cell_type": "code",
   "execution_count": 74,
   "id": "df4622d1",
   "metadata": {},
   "outputs": [],
   "source": [
    "d1 = datetime(2021,10,3,14,20,1)"
   ]
  },
  {
   "cell_type": "code",
   "execution_count": 77,
   "id": "4f6ee6b4",
   "metadata": {},
   "outputs": [
    {
     "name": "stdout",
     "output_type": "stream",
     "text": [
      "2023-10-03 14:20:01\n"
     ]
    }
   ],
   "source": [
    "print(d1)"
   ]
  },
  {
   "cell_type": "code",
   "execution_count": 76,
   "id": "679347b6",
   "metadata": {},
   "outputs": [],
   "source": [
    "d1 = d1.replace(year=2023)"
   ]
  },
  {
   "cell_type": "code",
   "execution_count": 78,
   "id": "30d467fb",
   "metadata": {},
   "outputs": [],
   "source": [
    "from datetime import date"
   ]
  },
  {
   "cell_type": "code",
   "execution_count": 81,
   "id": "85a3cce1",
   "metadata": {},
   "outputs": [],
   "source": [
    "d1 = date(2020,11,3)\n",
    "d2 = date(2019,11,3)"
   ]
  },
  {
   "cell_type": "code",
   "execution_count": 82,
   "id": "c59e54af",
   "metadata": {},
   "outputs": [
    {
     "data": {
      "text/plain": [
       "datetime.timedelta(days=366)"
      ]
     },
     "execution_count": 82,
     "metadata": {},
     "output_type": "execute_result"
    }
   ],
   "source": [
    "d1-d2"
   ]
  },
  {
   "cell_type": "code",
   "execution_count": null,
   "id": "13d02e25",
   "metadata": {},
   "outputs": [],
   "source": [
    "dt1 = datetime(2021,11,3,22,0)\n",
    "dt2 = datetime(2022,11,3)"
   ]
  }
 ],
 "metadata": {
  "kernelspec": {
   "display_name": "Python 3 (ipykernel)",
   "language": "python",
   "name": "python3"
  },
  "language_info": {
   "codemirror_mode": {
    "name": "ipython",
    "version": 3
   },
   "file_extension": ".py",
   "mimetype": "text/x-python",
   "name": "python",
   "nbconvert_exporter": "python",
   "pygments_lexer": "ipython3",
   "version": "3.9.13"
  }
 },
 "nbformat": 4,
 "nbformat_minor": 5
}
